{
 "cells": [
  {
   "cell_type": "markdown",
   "metadata": {},
   "source": [
    "## 导包"
   ]
  },
  {
   "cell_type": "code",
   "execution_count": 2,
   "metadata": {
    "_cell_guid": "b1076dfc-b9ad-4769-8c92-a6c4dae69d19",
    "_uuid": "8f2839f25d086af736a60e9eeb907d3b93b6e0e5",
    "execution": {
     "iopub.execute_input": "2022-11-21T02:48:33.511450Z",
     "iopub.status.busy": "2022-11-21T02:48:33.511090Z",
     "iopub.status.idle": "2022-11-21T02:48:33.527840Z",
     "shell.execute_reply": "2022-11-21T02:48:33.526982Z",
     "shell.execute_reply.started": "2022-11-21T02:48:33.511397Z"
    },
    "scrolled": true
   },
   "outputs": [
    {
     "ename": "ModuleNotFoundError",
     "evalue": "No module named 'plotly'",
     "output_type": "error",
     "traceback": [
      "\u001b[1;31m---------------------------------------------------------------------------\u001b[0m",
      "\u001b[1;31mModuleNotFoundError\u001b[0m                       Traceback (most recent call last)",
      "\u001b[1;32m<ipython-input-2-1a3ed758a4f2>\u001b[0m in \u001b[0;36m<module>\u001b[1;34m\u001b[0m\n\u001b[0;32m      8\u001b[0m \u001b[1;33m\u001b[0m\u001b[0m\n\u001b[0;32m      9\u001b[0m \u001b[1;31m# import plotly modules\u001b[0m\u001b[1;33m\u001b[0m\u001b[1;33m\u001b[0m\u001b[1;33m\u001b[0m\u001b[0m\n\u001b[1;32m---> 10\u001b[1;33m \u001b[1;32mimport\u001b[0m \u001b[0mplotly\u001b[0m\u001b[1;33m.\u001b[0m\u001b[0moffline\u001b[0m \u001b[1;32mas\u001b[0m \u001b[0mpy\u001b[0m\u001b[1;33m\u001b[0m\u001b[1;33m\u001b[0m\u001b[0m\n\u001b[0m\u001b[0;32m     11\u001b[0m \u001b[0mpy\u001b[0m\u001b[1;33m.\u001b[0m\u001b[0minit_notebook_mode\u001b[0m\u001b[1;33m(\u001b[0m\u001b[0mconnected\u001b[0m\u001b[1;33m=\u001b[0m\u001b[1;32mTrue\u001b[0m\u001b[1;33m)\u001b[0m\u001b[1;33m\u001b[0m\u001b[1;33m\u001b[0m\u001b[0m\n\u001b[0;32m     12\u001b[0m \u001b[1;32mimport\u001b[0m \u001b[0mplotly\u001b[0m\u001b[1;33m.\u001b[0m\u001b[0mgraph_objs\u001b[0m \u001b[1;32mas\u001b[0m \u001b[0mgo\u001b[0m\u001b[1;33m\u001b[0m\u001b[1;33m\u001b[0m\u001b[0m\n",
      "\u001b[1;31mModuleNotFoundError\u001b[0m: No module named 'plotly'"
     ]
    }
   ],
   "source": [
    "import numpy as np\n",
    "import pandas as pd\n",
    "import seaborn as sns\n",
    "import matplotlib.pyplot as plt\n",
    "from wordcloud import WordCloud\n",
    "from os import path\n",
    "from PIL import Image\n",
    "\n",
    "# import plotly modules\n",
    "import plotly.offline as py\n",
    "py.init_notebook_mode(connected=True)\n",
    "import plotly.graph_objs as go\n",
    "import plotly.tools as tls\n",
    "\n",
    "%matplotlib inline"
   ]
  },
  {
   "cell_type": "markdown",
   "metadata": {
    "_cell_guid": "0838dc42-755f-436b-8121-f5ab6d663879",
    "_uuid": "39fef041557a037ab97f8f106f640b07c0102e1c"
   },
   "source": [
    "## 读取数据"
   ]
  },
  {
   "cell_type": "code",
   "execution_count": 3,
   "metadata": {
    "_cell_guid": "79c7e3d0-c299-4dcb-8224-4455121ee9b0",
    "_uuid": "d629ff2d2480ee46fbb7e2d37f6b5fab8052498a",
    "execution": {
     "iopub.execute_input": "2022-11-21T02:48:35.248079Z",
     "iopub.status.busy": "2022-11-21T02:48:35.247743Z",
     "iopub.status.idle": "2022-11-21T02:48:35.349964Z",
     "shell.execute_reply": "2022-11-21T02:48:35.349172Z",
     "shell.execute_reply.started": "2022-11-21T02:48:35.248023Z"
    }
   },
   "outputs": [],
   "source": [
    "world_cups = pd.read_csv('./data/WorldCups.csv')\n",
    "world_cup_player = pd.read_csv('./data/WorldCupPlayers.csv')\n",
    "world_cups_matches = pd.read_csv('./data/WorldCupMatches.csv')"
   ]
  },
  {
   "cell_type": "code",
   "execution_count": 4,
   "metadata": {
    "execution": {
     "iopub.execute_input": "2022-11-21T02:48:37.656605Z",
     "iopub.status.busy": "2022-11-21T02:48:37.656273Z",
     "iopub.status.idle": "2022-11-21T02:48:37.683719Z",
     "shell.execute_reply": "2022-11-21T02:48:37.682716Z",
     "shell.execute_reply.started": "2022-11-21T02:48:37.656550Z"
    }
   },
   "outputs": [
    {
     "data": {
      "text/html": [
       "<div>\n",
       "<style scoped>\n",
       "    .dataframe tbody tr th:only-of-type {\n",
       "        vertical-align: middle;\n",
       "    }\n",
       "\n",
       "    .dataframe tbody tr th {\n",
       "        vertical-align: top;\n",
       "    }\n",
       "\n",
       "    .dataframe thead th {\n",
       "        text-align: right;\n",
       "    }\n",
       "</style>\n",
       "<table border=\"1\" class=\"dataframe\">\n",
       "  <thead>\n",
       "    <tr style=\"text-align: right;\">\n",
       "      <th></th>\n",
       "      <th>Year</th>\n",
       "      <th>Country</th>\n",
       "      <th>Winner</th>\n",
       "      <th>Runners-Up</th>\n",
       "      <th>Third</th>\n",
       "      <th>Fourth</th>\n",
       "      <th>GoalsScored</th>\n",
       "      <th>QualifiedTeams</th>\n",
       "      <th>MatchesPlayed</th>\n",
       "      <th>Attendance</th>\n",
       "    </tr>\n",
       "  </thead>\n",
       "  <tbody>\n",
       "    <tr>\n",
       "      <th>0</th>\n",
       "      <td>1930</td>\n",
       "      <td>Uruguay</td>\n",
       "      <td>Uruguay</td>\n",
       "      <td>Argentina</td>\n",
       "      <td>USA</td>\n",
       "      <td>Yugoslavia</td>\n",
       "      <td>70</td>\n",
       "      <td>13</td>\n",
       "      <td>18</td>\n",
       "      <td>590549</td>\n",
       "    </tr>\n",
       "    <tr>\n",
       "      <th>1</th>\n",
       "      <td>1934</td>\n",
       "      <td>Italy</td>\n",
       "      <td>Italy</td>\n",
       "      <td>Czechoslovakia</td>\n",
       "      <td>Germany</td>\n",
       "      <td>Austria</td>\n",
       "      <td>70</td>\n",
       "      <td>16</td>\n",
       "      <td>17</td>\n",
       "      <td>363000</td>\n",
       "    </tr>\n",
       "  </tbody>\n",
       "</table>\n",
       "</div>"
      ],
      "text/plain": [
       "   Year  Country   Winner      Runners-Up    Third      Fourth  GoalsScored  \\\n",
       "0  1930  Uruguay  Uruguay       Argentina      USA  Yugoslavia           70   \n",
       "1  1934    Italy    Italy  Czechoslovakia  Germany     Austria           70   \n",
       "\n",
       "   QualifiedTeams  MatchesPlayed  Attendance  \n",
       "0              13             18      590549  \n",
       "1              16             17      363000  "
      ]
     },
     "execution_count": 4,
     "metadata": {},
     "output_type": "execute_result"
    }
   ],
   "source": [
    "world_cups.head(2)"
   ]
  },
  {
   "cell_type": "code",
   "execution_count": 5,
   "metadata": {
    "execution": {
     "iopub.execute_input": "2022-11-21T02:49:15.469704Z",
     "iopub.status.busy": "2022-11-21T02:49:15.469344Z",
     "iopub.status.idle": "2022-11-21T02:49:15.495079Z",
     "shell.execute_reply": "2022-11-21T02:49:15.494339Z",
     "shell.execute_reply.started": "2022-11-21T02:49:15.469654Z"
    }
   },
   "outputs": [
    {
     "data": {
      "text/html": [
       "<div>\n",
       "<style scoped>\n",
       "    .dataframe tbody tr th:only-of-type {\n",
       "        vertical-align: middle;\n",
       "    }\n",
       "\n",
       "    .dataframe tbody tr th {\n",
       "        vertical-align: top;\n",
       "    }\n",
       "\n",
       "    .dataframe thead th {\n",
       "        text-align: right;\n",
       "    }\n",
       "</style>\n",
       "<table border=\"1\" class=\"dataframe\">\n",
       "  <thead>\n",
       "    <tr style=\"text-align: right;\">\n",
       "      <th></th>\n",
       "      <th>RoundID</th>\n",
       "      <th>MatchID</th>\n",
       "      <th>Team Initials</th>\n",
       "      <th>Coach Name</th>\n",
       "      <th>Line-up</th>\n",
       "      <th>Shirt Number</th>\n",
       "      <th>Player Name</th>\n",
       "      <th>Position</th>\n",
       "      <th>Event</th>\n",
       "    </tr>\n",
       "  </thead>\n",
       "  <tbody>\n",
       "    <tr>\n",
       "      <th>0</th>\n",
       "      <td>201</td>\n",
       "      <td>1096</td>\n",
       "      <td>FRA</td>\n",
       "      <td>CAUDRON Raoul (FRA)</td>\n",
       "      <td>S</td>\n",
       "      <td>0</td>\n",
       "      <td>Alex THEPOT</td>\n",
       "      <td>GK</td>\n",
       "      <td>NaN</td>\n",
       "    </tr>\n",
       "    <tr>\n",
       "      <th>1</th>\n",
       "      <td>201</td>\n",
       "      <td>1096</td>\n",
       "      <td>MEX</td>\n",
       "      <td>LUQUE Juan (MEX)</td>\n",
       "      <td>S</td>\n",
       "      <td>0</td>\n",
       "      <td>Oscar BONFIGLIO</td>\n",
       "      <td>GK</td>\n",
       "      <td>NaN</td>\n",
       "    </tr>\n",
       "  </tbody>\n",
       "</table>\n",
       "</div>"
      ],
      "text/plain": [
       "   RoundID  MatchID Team Initials           Coach Name Line-up  Shirt Number  \\\n",
       "0      201     1096           FRA  CAUDRON Raoul (FRA)       S             0   \n",
       "1      201     1096           MEX     LUQUE Juan (MEX)       S             0   \n",
       "\n",
       "       Player Name Position Event  \n",
       "0      Alex THEPOT       GK   NaN  \n",
       "1  Oscar BONFIGLIO       GK   NaN  "
      ]
     },
     "execution_count": 5,
     "metadata": {},
     "output_type": "execute_result"
    }
   ],
   "source": [
    "world_cup_player.head(2)"
   ]
  },
  {
   "cell_type": "code",
   "execution_count": 6,
   "metadata": {
    "execution": {
     "iopub.execute_input": "2022-11-21T02:49:17.480167Z",
     "iopub.status.busy": "2022-11-21T02:49:17.479647Z",
     "iopub.status.idle": "2022-11-21T02:49:17.525477Z",
     "shell.execute_reply": "2022-11-21T02:49:17.524629Z",
     "shell.execute_reply.started": "2022-11-21T02:49:17.480114Z"
    }
   },
   "outputs": [
    {
     "data": {
      "text/html": [
       "<div>\n",
       "<style scoped>\n",
       "    .dataframe tbody tr th:only-of-type {\n",
       "        vertical-align: middle;\n",
       "    }\n",
       "\n",
       "    .dataframe tbody tr th {\n",
       "        vertical-align: top;\n",
       "    }\n",
       "\n",
       "    .dataframe thead th {\n",
       "        text-align: right;\n",
       "    }\n",
       "</style>\n",
       "<table border=\"1\" class=\"dataframe\">\n",
       "  <thead>\n",
       "    <tr style=\"text-align: right;\">\n",
       "      <th></th>\n",
       "      <th>Year</th>\n",
       "      <th>Datetime</th>\n",
       "      <th>Stage</th>\n",
       "      <th>Stadium</th>\n",
       "      <th>City</th>\n",
       "      <th>Home Team Name</th>\n",
       "      <th>Home Team Goals</th>\n",
       "      <th>Away Team Goals</th>\n",
       "      <th>Away Team Name</th>\n",
       "      <th>Win conditions</th>\n",
       "      <th>Attendance</th>\n",
       "      <th>Half-time Home Goals</th>\n",
       "      <th>Half-time Away Goals</th>\n",
       "      <th>Referee</th>\n",
       "      <th>Assistant 1</th>\n",
       "      <th>Assistant 2</th>\n",
       "      <th>RoundID</th>\n",
       "      <th>MatchID</th>\n",
       "      <th>Home Team Initials</th>\n",
       "      <th>Away Team Initials</th>\n",
       "    </tr>\n",
       "  </thead>\n",
       "  <tbody>\n",
       "    <tr>\n",
       "      <th>0</th>\n",
       "      <td>1930.0</td>\n",
       "      <td>13 Jul 1930 - 15:00</td>\n",
       "      <td>Group 1</td>\n",
       "      <td>Pocitos</td>\n",
       "      <td>Montevideo</td>\n",
       "      <td>France</td>\n",
       "      <td>4.0</td>\n",
       "      <td>1.0</td>\n",
       "      <td>Mexico</td>\n",
       "      <td></td>\n",
       "      <td>4444.0</td>\n",
       "      <td>3.0</td>\n",
       "      <td>0.0</td>\n",
       "      <td>LOMBARDI Domingo (URU)</td>\n",
       "      <td>CRISTOPHE Henry (BEL)</td>\n",
       "      <td>REGO Gilberto (BRA)</td>\n",
       "      <td>201.0</td>\n",
       "      <td>1096.0</td>\n",
       "      <td>FRA</td>\n",
       "      <td>MEX</td>\n",
       "    </tr>\n",
       "    <tr>\n",
       "      <th>1</th>\n",
       "      <td>1930.0</td>\n",
       "      <td>13 Jul 1930 - 15:00</td>\n",
       "      <td>Group 4</td>\n",
       "      <td>Parque Central</td>\n",
       "      <td>Montevideo</td>\n",
       "      <td>USA</td>\n",
       "      <td>3.0</td>\n",
       "      <td>0.0</td>\n",
       "      <td>Belgium</td>\n",
       "      <td></td>\n",
       "      <td>18346.0</td>\n",
       "      <td>2.0</td>\n",
       "      <td>0.0</td>\n",
       "      <td>MACIAS Jose (ARG)</td>\n",
       "      <td>MATEUCCI Francisco (URU)</td>\n",
       "      <td>WARNKEN Alberto (CHI)</td>\n",
       "      <td>201.0</td>\n",
       "      <td>1090.0</td>\n",
       "      <td>USA</td>\n",
       "      <td>BEL</td>\n",
       "    </tr>\n",
       "  </tbody>\n",
       "</table>\n",
       "</div>"
      ],
      "text/plain": [
       "     Year              Datetime    Stage         Stadium         City  \\\n",
       "0  1930.0  13 Jul 1930 - 15:00   Group 1         Pocitos  Montevideo    \n",
       "1  1930.0  13 Jul 1930 - 15:00   Group 4  Parque Central  Montevideo    \n",
       "\n",
       "  Home Team Name  Home Team Goals  Away Team Goals Away Team Name  \\\n",
       "0         France              4.0              1.0         Mexico   \n",
       "1            USA              3.0              0.0        Belgium   \n",
       "\n",
       "  Win conditions  Attendance  Half-time Home Goals  Half-time Away Goals  \\\n",
       "0                     4444.0                   3.0                   0.0   \n",
       "1                    18346.0                   2.0                   0.0   \n",
       "\n",
       "                  Referee               Assistant 1            Assistant 2  \\\n",
       "0  LOMBARDI Domingo (URU)     CRISTOPHE Henry (BEL)    REGO Gilberto (BRA)   \n",
       "1       MACIAS Jose (ARG)  MATEUCCI Francisco (URU)  WARNKEN Alberto (CHI)   \n",
       "\n",
       "   RoundID  MatchID Home Team Initials Away Team Initials  \n",
       "0    201.0   1096.0                FRA                MEX  \n",
       "1    201.0   1090.0                USA                BEL  "
      ]
     },
     "execution_count": 6,
     "metadata": {},
     "output_type": "execute_result"
    }
   ],
   "source": [
    "world_cups_matches.head(2)"
   ]
  },
  {
   "cell_type": "markdown",
   "metadata": {
    "_cell_guid": "e654c820-80bf-49b2-9dd7-575818bf0819",
    "_uuid": "940a8a85597bdc6ec510a5bb5314b0a9eab399fe"
   },
   "source": [
    "## 数据预处理\n",
    "\n",
    "- 空值处理\n",
    "- 国家名统一\n",
    "- 字段类型转换"
   ]
  },
  {
   "cell_type": "code",
   "execution_count": 16,
   "metadata": {
    "_cell_guid": "b242a2ed-e272-461e-b772-12a1a78d7416",
    "_uuid": "3faeb39bb239f734eb1448c631b16974a282f453",
    "execution": {
     "iopub.execute_input": "2022-11-21T03:03:15.991472Z",
     "iopub.status.busy": "2022-11-21T03:03:15.991134Z",
     "iopub.status.idle": "2022-11-21T03:03:16.023977Z",
     "shell.execute_reply": "2022-11-21T03:03:16.022847Z",
     "shell.execute_reply.started": "2022-11-21T03:03:15.991424Z"
    }
   },
   "outputs": [],
   "source": [
    "#DROP NA VALUES\n",
    "world_cup_player = world_cup_player.dropna()\n",
    "world_cups = world_cups.dropna()\n",
    "world_cups_matches = world_cups_matches.dropna()"
   ]
  },
  {
   "cell_type": "code",
   "execution_count": 17,
   "metadata": {
    "_cell_guid": "b765c1db-28e1-420b-90c3-e2030b927245",
    "_uuid": "7075abb79f3c00747d07e16fe3f0aee624478948",
    "execution": {
     "iopub.execute_input": "2022-11-21T03:03:18.170462Z",
     "iopub.status.busy": "2022-11-21T03:03:18.170149Z",
     "iopub.status.idle": "2022-11-21T03:03:18.189232Z",
     "shell.execute_reply": "2022-11-21T03:03:18.188154Z",
     "shell.execute_reply.started": "2022-11-21T03:03:18.170413Z"
    }
   },
   "outputs": [],
   "source": [
    "world_cups = world_cups.replace('Germany FR', 'Germany')\n",
    "world_cup_player = world_cup_player.replace('Germany FR', 'Germany')\n",
    "world_cups_matches = world_cups_matches.replace('Germany FR', 'Germany')"
   ]
  },
  {
   "cell_type": "code",
   "execution_count": 18,
   "metadata": {
    "_cell_guid": "68a48468-b260-4119-aec7-d0b7da1dd708",
    "_uuid": "8dec0fdf46b87441931a821ca56f75b84762968e",
    "execution": {
     "iopub.execute_input": "2022-11-21T03:03:19.906307Z",
     "iopub.status.busy": "2022-11-21T03:03:19.905993Z",
     "iopub.status.idle": "2022-11-21T03:03:19.914155Z",
     "shell.execute_reply": "2022-11-21T03:03:19.912853Z",
     "shell.execute_reply.started": "2022-11-21T03:03:19.906259Z"
    }
   },
   "outputs": [],
   "source": [
    "world_cups['Attendance'] = world_cups['Attendance'].str.replace('.', '').astype('int64')"
   ]
  },
  {
   "cell_type": "markdown",
   "metadata": {
    "_cell_guid": "4094ee91-a008-4a84-906f-e7fea98eed62",
    "_uuid": "b3121f39fb416676d56985d4cb08c56860f7c587"
   },
   "source": [
    "## 清洗后的数据内容"
   ]
  },
  {
   "cell_type": "code",
   "execution_count": 19,
   "metadata": {
    "_cell_guid": "74eadeb2-f83a-4d25-9def-2407a13e2df1",
    "_kg_hide-input": true,
    "_uuid": "b9b9e58912a44757674de5377cf87c0aa25de5a8",
    "execution": {
     "iopub.execute_input": "2022-11-21T03:03:21.877233Z",
     "iopub.status.busy": "2022-11-21T03:03:21.876873Z",
     "iopub.status.idle": "2022-11-21T03:03:21.904413Z",
     "shell.execute_reply": "2022-11-21T03:03:21.903464Z",
     "shell.execute_reply.started": "2022-11-21T03:03:21.877180Z"
    }
   },
   "outputs": [
    {
     "data": {
      "text/html": [
       "<div>\n",
       "<style scoped>\n",
       "    .dataframe tbody tr th:only-of-type {\n",
       "        vertical-align: middle;\n",
       "    }\n",
       "\n",
       "    .dataframe tbody tr th {\n",
       "        vertical-align: top;\n",
       "    }\n",
       "\n",
       "    .dataframe thead th {\n",
       "        text-align: right;\n",
       "    }\n",
       "</style>\n",
       "<table border=\"1\" class=\"dataframe\">\n",
       "  <thead>\n",
       "    <tr style=\"text-align: right;\">\n",
       "      <th></th>\n",
       "      <th>Year</th>\n",
       "      <th>Country</th>\n",
       "      <th>Winner</th>\n",
       "      <th>Runners-Up</th>\n",
       "      <th>Third</th>\n",
       "      <th>Fourth</th>\n",
       "      <th>GoalsScored</th>\n",
       "      <th>QualifiedTeams</th>\n",
       "      <th>MatchesPlayed</th>\n",
       "      <th>Attendance</th>\n",
       "    </tr>\n",
       "  </thead>\n",
       "  <tbody>\n",
       "    <tr>\n",
       "      <th>0</th>\n",
       "      <td>1930</td>\n",
       "      <td>Uruguay</td>\n",
       "      <td>Uruguay</td>\n",
       "      <td>Argentina</td>\n",
       "      <td>USA</td>\n",
       "      <td>Yugoslavia</td>\n",
       "      <td>70</td>\n",
       "      <td>13</td>\n",
       "      <td>18</td>\n",
       "      <td>590549</td>\n",
       "    </tr>\n",
       "    <tr>\n",
       "      <th>1</th>\n",
       "      <td>1934</td>\n",
       "      <td>Italy</td>\n",
       "      <td>Italy</td>\n",
       "      <td>Czechoslovakia</td>\n",
       "      <td>Germany</td>\n",
       "      <td>Austria</td>\n",
       "      <td>70</td>\n",
       "      <td>16</td>\n",
       "      <td>17</td>\n",
       "      <td>363000</td>\n",
       "    </tr>\n",
       "  </tbody>\n",
       "</table>\n",
       "</div>"
      ],
      "text/plain": [
       "   Year  Country   Winner    ...     QualifiedTeams MatchesPlayed Attendance\n",
       "0  1930  Uruguay  Uruguay    ...                 13            18     590549\n",
       "1  1934    Italy    Italy    ...                 16            17     363000\n",
       "\n",
       "[2 rows x 10 columns]"
      ]
     },
     "execution_count": 19,
     "metadata": {},
     "output_type": "execute_result"
    }
   ],
   "source": [
    "world_cups.head(2)"
   ]
  },
  {
   "cell_type": "code",
   "execution_count": 20,
   "metadata": {
    "_cell_guid": "abf51e7b-c760-42b4-a83b-65910f724b4d",
    "_kg_hide-input": true,
    "_uuid": "21e9aa35b8c8a4ee77fd2b67792a073171194759",
    "execution": {
     "iopub.execute_input": "2022-11-21T03:03:23.927921Z",
     "iopub.status.busy": "2022-11-21T03:03:23.927597Z",
     "iopub.status.idle": "2022-11-21T03:03:23.951781Z",
     "shell.execute_reply": "2022-11-21T03:03:23.950633Z",
     "shell.execute_reply.started": "2022-11-21T03:03:23.927862Z"
    }
   },
   "outputs": [
    {
     "data": {
      "text/html": [
       "<div>\n",
       "<style scoped>\n",
       "    .dataframe tbody tr th:only-of-type {\n",
       "        vertical-align: middle;\n",
       "    }\n",
       "\n",
       "    .dataframe tbody tr th {\n",
       "        vertical-align: top;\n",
       "    }\n",
       "\n",
       "    .dataframe thead th {\n",
       "        text-align: right;\n",
       "    }\n",
       "</style>\n",
       "<table border=\"1\" class=\"dataframe\">\n",
       "  <thead>\n",
       "    <tr style=\"text-align: right;\">\n",
       "      <th></th>\n",
       "      <th>RoundID</th>\n",
       "      <th>MatchID</th>\n",
       "      <th>Team Initials</th>\n",
       "      <th>Coach Name</th>\n",
       "      <th>Line-up</th>\n",
       "      <th>Shirt Number</th>\n",
       "      <th>Player Name</th>\n",
       "      <th>Position</th>\n",
       "      <th>Event</th>\n",
       "    </tr>\n",
       "  </thead>\n",
       "  <tbody>\n",
       "    <tr>\n",
       "      <th>35</th>\n",
       "      <td>201</td>\n",
       "      <td>1090</td>\n",
       "      <td>USA</td>\n",
       "      <td>MILLAR Bob (USA)</td>\n",
       "      <td>S</td>\n",
       "      <td>0</td>\n",
       "      <td>Tom FLORIE</td>\n",
       "      <td>C</td>\n",
       "      <td>G45'</td>\n",
       "    </tr>\n",
       "    <tr>\n",
       "      <th>74</th>\n",
       "      <td>201</td>\n",
       "      <td>1093</td>\n",
       "      <td>BRA</td>\n",
       "      <td>DE CARVALHO Pindaro (BRA)</td>\n",
       "      <td>S</td>\n",
       "      <td>0</td>\n",
       "      <td>PREGUINHO</td>\n",
       "      <td>C</td>\n",
       "      <td>G62'</td>\n",
       "    </tr>\n",
       "  </tbody>\n",
       "</table>\n",
       "</div>"
      ],
      "text/plain": [
       "    RoundID  MatchID Team Initials  ...   Player Name Position  Event\n",
       "35      201     1090           USA  ...    Tom FLORIE        C   G45'\n",
       "74      201     1093           BRA  ...     PREGUINHO        C   G62'\n",
       "\n",
       "[2 rows x 9 columns]"
      ]
     },
     "execution_count": 20,
     "metadata": {},
     "output_type": "execute_result"
    }
   ],
   "source": [
    "world_cup_player.head(2)"
   ]
  },
  {
   "cell_type": "code",
   "execution_count": 25,
   "metadata": {
    "_cell_guid": "9f5ae9f8-427b-40cd-a689-e1524f3b43b6",
    "_kg_hide-input": true,
    "_uuid": "a6ead75a2603058b7997fd4bb4f9337da414c5db",
    "execution": {
     "iopub.execute_input": "2022-11-21T03:21:43.351146Z",
     "iopub.status.busy": "2022-11-21T03:21:43.350572Z",
     "iopub.status.idle": "2022-11-21T03:21:43.396570Z",
     "shell.execute_reply": "2022-11-21T03:21:43.395745Z",
     "shell.execute_reply.started": "2022-11-21T03:21:43.350877Z"
    }
   },
   "outputs": [
    {
     "data": {
      "text/html": [
       "<div>\n",
       "<style scoped>\n",
       "    .dataframe tbody tr th:only-of-type {\n",
       "        vertical-align: middle;\n",
       "    }\n",
       "\n",
       "    .dataframe tbody tr th {\n",
       "        vertical-align: top;\n",
       "    }\n",
       "\n",
       "    .dataframe thead th {\n",
       "        text-align: right;\n",
       "    }\n",
       "</style>\n",
       "<table border=\"1\" class=\"dataframe\">\n",
       "  <thead>\n",
       "    <tr style=\"text-align: right;\">\n",
       "      <th></th>\n",
       "      <th>Year</th>\n",
       "      <th>Datetime</th>\n",
       "      <th>Stage</th>\n",
       "      <th>Stadium</th>\n",
       "      <th>City</th>\n",
       "      <th>Home Team Name</th>\n",
       "      <th>Home Team Goals</th>\n",
       "      <th>Away Team Goals</th>\n",
       "      <th>Away Team Name</th>\n",
       "      <th>Win conditions</th>\n",
       "      <th>Attendance</th>\n",
       "      <th>Half-time Home Goals</th>\n",
       "      <th>Half-time Away Goals</th>\n",
       "      <th>Referee</th>\n",
       "      <th>Assistant 1</th>\n",
       "      <th>Assistant 2</th>\n",
       "      <th>RoundID</th>\n",
       "      <th>MatchID</th>\n",
       "      <th>Home Team Initials</th>\n",
       "      <th>Away Team Initials</th>\n",
       "    </tr>\n",
       "  </thead>\n",
       "  <tbody>\n",
       "    <tr>\n",
       "      <th>0</th>\n",
       "      <td>1930.0</td>\n",
       "      <td>13 Jul 1930 - 15:00</td>\n",
       "      <td>Group 1</td>\n",
       "      <td>Pocitos</td>\n",
       "      <td>Montevideo</td>\n",
       "      <td>France</td>\n",
       "      <td>4.0</td>\n",
       "      <td>1.0</td>\n",
       "      <td>Mexico</td>\n",
       "      <td></td>\n",
       "      <td>4444.0</td>\n",
       "      <td>3.0</td>\n",
       "      <td>0.0</td>\n",
       "      <td>LOMBARDI Domingo (URU)</td>\n",
       "      <td>CRISTOPHE Henry (BEL)</td>\n",
       "      <td>REGO Gilberto (BRA)</td>\n",
       "      <td>201.0</td>\n",
       "      <td>1096.0</td>\n",
       "      <td>FRA</td>\n",
       "      <td>MEX</td>\n",
       "    </tr>\n",
       "    <tr>\n",
       "      <th>1</th>\n",
       "      <td>1930.0</td>\n",
       "      <td>13 Jul 1930 - 15:00</td>\n",
       "      <td>Group 4</td>\n",
       "      <td>Parque Central</td>\n",
       "      <td>Montevideo</td>\n",
       "      <td>USA</td>\n",
       "      <td>3.0</td>\n",
       "      <td>0.0</td>\n",
       "      <td>Belgium</td>\n",
       "      <td></td>\n",
       "      <td>18346.0</td>\n",
       "      <td>2.0</td>\n",
       "      <td>0.0</td>\n",
       "      <td>MACIAS Jose (ARG)</td>\n",
       "      <td>MATEUCCI Francisco (URU)</td>\n",
       "      <td>WARNKEN Alberto (CHI)</td>\n",
       "      <td>201.0</td>\n",
       "      <td>1090.0</td>\n",
       "      <td>USA</td>\n",
       "      <td>BEL</td>\n",
       "    </tr>\n",
       "  </tbody>\n",
       "</table>\n",
       "</div>"
      ],
      "text/plain": [
       "     Year        ...         Away Team Initials\n",
       "0  1930.0        ...                        MEX\n",
       "1  1930.0        ...                        BEL\n",
       "\n",
       "[2 rows x 20 columns]"
      ]
     },
     "execution_count": 25,
     "metadata": {},
     "output_type": "execute_result"
    }
   ],
   "source": [
    "world_cups_matches.head(2)"
   ]
  },
  {
   "cell_type": "markdown",
   "metadata": {
    "_cell_guid": "f4d69608-6a5b-4f85-bc24-9a9ef6e387bd",
    "_uuid": "d258d3757138cb47e1a2b77959cffbe238bbd09b"
   },
   "source": [
    "## 统计获得过前四名的队伍"
   ]
  },
  {
   "cell_type": "code",
   "execution_count": 27,
   "metadata": {
    "_cell_guid": "ed9f22aa-1eaa-4094-90e2-6a2e163c1f94",
    "_kg_hide-input": true,
    "_uuid": "0da678fbe04fbefe07745905a2ba1daadcee655b",
    "execution": {
     "iopub.execute_input": "2022-11-21T03:22:20.778850Z",
     "iopub.status.busy": "2022-11-21T03:22:20.778550Z",
     "iopub.status.idle": "2022-11-21T03:22:21.777855Z",
     "shell.execute_reply": "2022-11-21T03:22:21.776922Z",
     "shell.execute_reply.started": "2022-11-21T03:22:20.778803Z"
    }
   },
   "outputs": [
    {
     "name": "stderr",
     "output_type": "stream",
     "text": [
      "/opt/conda/lib/python3.6/site-packages/matplotlib/font_manager.py:1316: UserWarning:\n",
      "\n",
      "findfont: Font family ['Microsoft YaHei'] not found. Falling back to DejaVu Sans\n",
      "\n"
     ]
    },
    {
     "data": {
      "text/plain": [
       "Text(0.5,1,'Countries that have finished in the top four')"
      ]
     },
     "execution_count": 27,
     "metadata": {},
     "output_type": "execute_result"
    },
    {
     "data": {
      "image/png": "[encoded data removed]",
      "text/plain": [
       "<matplotlib.figure.Figure at 0x7fa6a67c02b0>"
      ]
     },
     "metadata": {},
     "output_type": "display_data"
    }
   ],
   "source": [
    "gold = world_cups[\"Winner\"]\n",
    "silver = world_cups[\"Runners-Up\"]\n",
    "bronze = world_cups[\"Third\"]\n",
    "fourth = world_cups[\"Fourth\"]\n",
    "\n",
    "gold_count = pd.DataFrame.from_dict(gold.value_counts())\n",
    "silver_count = pd.DataFrame.from_dict(silver.value_counts())\n",
    "bronze_count = pd.DataFrame.from_dict(bronze.value_counts())\n",
    "fourth_count = pd.DataFrame.from_dict(fourth.value_counts())\n",
    "\n",
    "total_count = gold_count.join(silver_count, how='outer').join(bronze_count, how='outer').join(fourth_count, how='outer')\n",
    "total_count = total_count.fillna(0)\n",
    "total_count.columns = ['Winner', 'Runners-Up', 'Third','Fourth']\n",
    "total_count = total_count.astype('int64')\n",
    "total_count = total_count.sort_values(by=['Winner', 'Runners-Up', 'Third','Fourth'], ascending=False)\n",
    "\n",
    "total_count.plot(y=['Winner', 'Runners-Up', 'Third','Fourth'], kind=\"bar\", \n",
    "                  color =['gold','silver','brown','blue'], figsize=(15, 6), fontsize=14,\n",
    "                 width=0.8, align='center')\n",
    "plt.xlabel('Countries')\n",
    "plt.ylabel('Number of prize')\n",
    "plt.savefig('柱形图')\n",
    "plt.title('Countries that have finished in the top four')"
   ]
  },
  {
   "cell_type": "markdown",
   "metadata": {
    "_cell_guid": "86b56473-5a9d-4504-90ca-65c3882b8366",
    "_uuid": "f84239a8d54e56f31588eca25fb5f1192329e8c1"
   },
   "source": [
    "## Number of goal per country"
   ]
  },
  {
   "cell_type": "code",
   "execution_count": 28,
   "metadata": {
    "_cell_guid": "d19cdad8-0a31-486d-8da3-b903d97f4226",
    "_kg_hide-input": true,
    "_uuid": "6ac6143ea09b3a5cc4050d67d3b176aa10b0c480",
    "execution": {
     "iopub.execute_input": "2022-11-21T03:25:23.837794Z",
     "iopub.status.busy": "2022-11-21T03:25:23.837437Z",
     "iopub.status.idle": "2022-11-21T03:25:24.168341Z",
     "shell.execute_reply": "2022-11-21T03:25:24.167467Z",
     "shell.execute_reply.started": "2022-11-21T03:25:23.837743Z"
    }
   },
   "outputs": [
    {
     "data": {
      "text/plain": [
       "Text(0.5,1,'Top 10 of Number of goals by country')"
      ]
     },
     "execution_count": 28,
     "metadata": {},
     "output_type": "execute_result"
    },
    {
     "name": "stderr",
     "output_type": "stream",
     "text": [
      "/opt/conda/lib/python3.6/site-packages/matplotlib/font_manager.py:1316: UserWarning:\n",
      "\n",
      "findfont: Font family ['Microsoft YaHei'] not found. Falling back to DejaVu Sans\n",
      "\n"
     ]
    },
    {
     "data": {
      "image/png": "[encoded data removed]",
      "text/plain": [
       "<matplotlib.figure.Figure at 0x7fa6a772bb70>"
      ]
     },
     "metadata": {},
     "output_type": "display_data"
    }
   ],
   "source": [
    "#world_cups_matches['Win conditions'].value_counts()\n",
    "home = world_cups_matches[['Home Team Name', 'Home Team Goals']].dropna()\n",
    "away = world_cups_matches[['Away Team Name', 'Away Team Goals']].dropna()\n",
    "\n",
    "goal_per_country = pd.DataFrame(columns=['countries', 'goals'])\n",
    "goal_per_country = goal_per_country.append(home.rename(index=str, columns={'Home Team Name': 'countries', 'Home Team Goals': 'goals'}))\n",
    "goal_per_country = goal_per_country.append(away.rename(index=str, columns={'Away Team Name': 'countries', 'Away Team Goals': 'goals'}))\n",
    "\n",
    "goal_per_country['goals'] = goal_per_country['goals'].astype('int64')\n",
    "\n",
    "goal_per_country = goal_per_country.groupby(['countries'])['goals'].sum().sort_values(ascending=False)\n",
    "\n",
    "goal_per_country[:10].plot(x=goal_per_country.index, y=goal_per_country.values, kind=\"bar\", figsize=(12, 6), fontsize=14)\n",
    "plt.xlabel('Countries')\n",
    "plt.ylabel('Number of goals')\n",
    "plt.title('Top 10 of Number of goals by country')"
   ]
  },
  {
   "cell_type": "markdown",
   "metadata": {
    "_cell_guid": "6476029b-9fbf-471b-9062-1abc83ff3084",
    "_uuid": "4dab2ca71272b653139524ed7e1d4954fbdbc541"
   },
   "source": [
    "## Attendance, number of teams, goals and matchs per cup"
   ]
  },
  {
   "cell_type": "code",
   "execution_count": 98,
   "metadata": {
    "_cell_guid": "376170d4-eb8e-491f-8713-38936e7227a4",
    "_kg_hide-input": true,
    "_uuid": "bc910330fc0d1b492cad52981c4615caf0834081"
   },
   "outputs": [],
   "source": [
    "plt.figure(figsize = (22,12))\n",
    "sns.set_style(\"whitegrid\")\n",
    "plt.subplot(221)\n",
    "g1 = sns.barplot(x=\"Year\", y=\"Attendance\", data=world_cups, palette=\"Blues\")\n",
    "g1.set_title(\"ATTENDANCE PER CUP\", fontsize=14)\n",
    "\n",
    "plt.subplot(222)\n",
    "g2 = sns.barplot(x=\"Year\", y=\"QualifiedTeams\", data=world_cups, palette=\"Blues\")\n",
    "g2.set_title(\"NUMBER OF TEAMS PER CUP\", fontsize=14)\n",
    "\n",
    "plt.subplot(223)\n",
    "g2 = sns.barplot(x=\"Year\", y=\"MatchesPlayed\", data=world_cups, palette=\"Blues\")\n",
    "g2.set_title(\"NUMBER OF MATCHS PER CUP\", fontsize=14)\n",
    "\n",
    "plt.subplot(224)\n",
    "g2 = sns.barplot(x=\"Year\", y=\"GoalsScored\", data=world_cups, palette=\"Blues\")\n",
    "g2.set_title(\"NUMBER OF GOALS PER CUP\", fontsize=14)\n",
    "\n",
    "plt.subplots_adjust(wspace = 0.2, hspace = 0.4,top = 0.9)\n",
    "\n",
    "plt.show()"
   ]
  },
  {
   "cell_type": "markdown",
   "metadata": {
    "_cell_guid": "46322b17-f68b-493b-867c-72a3252b5f3c",
    "_uuid": "2b947f51e04298a83aa74de81b39167d0436d244"
   },
   "source": [
    "## Wordcloud of teams that have the most wins\n",
    "\n",
    "To make the wordcloud I add 3 columns into the matches dataset :\n",
    "- result : either if there is a winner or the result is a dra\n",
    "- winner : the winner team\n",
    "- looser : the looser team"
   ]
  },
  {
   "cell_type": "code",
   "execution_count": 9,
   "metadata": {
    "_cell_guid": "d142f46f-fd08-41eb-92e3-17ae22c1dabe",
    "_kg_hide-input": false,
    "_uuid": "450c442e6f1eecd18381d6afb5d1352abf38748a",
    "collapsed": true,
    "jupyter": {
     "outputs_hidden": true
    }
   },
   "outputs": [],
   "source": [
    "winner_by_score_home = world_cups_matches['Home Team Goals'] > world_cups_matches['Away Team Goals']\n",
    "winner_by_score_away = world_cups_matches['Home Team Goals'] < world_cups_matches['Away Team Goals']\n",
    "win_by_score = winner_by_score_home | winner_by_score_away\n",
    "win_penalties = world_cups_matches['Win conditions'].str.len() > 1\n",
    "\n",
    "win_team_home = np.where(winner_by_score_home, world_cups_matches['Home Team Name'], '')\n",
    "win_team_away = np.where(winner_by_score_away, world_cups_matches['Away Team Name'], '')\n",
    "\n",
    "win_cond = world_cups_matches['Win conditions'].str.split(pat='\\(|\\)|-', expand=True)\n",
    "win_team_penalties = np.where(win_cond[0].str.len() > 1, \n",
    "                     np.where(win_cond[1] > win_cond[2], \n",
    "                              world_cups_matches['Home Team Name'], world_cups_matches['Away Team Name']), '')\n",
    "\n",
    "win_team = np.where(win_team_home != '', win_team_home, \n",
    "                    np.where(win_team_away != '', win_team_away, win_team_penalties))\n",
    "\n",
    "world_cups_matches.loc[:,'result'] = np.where(win_by_score, 'win', np.where(win_penalties, 'win', 'draw'))\n",
    "world_cups_matches.loc[:,'Winner'] = win_team\n",
    "world_cups_matches.loc[:,'Looser'] = np.where(world_cups_matches['result'] != 'draw', \n",
    "                                        np.where(win_team == world_cups_matches['Home Team Name'], \n",
    "                                                 world_cups_matches['Away Team Name'],\n",
    "                                                 world_cups_matches['Home Team Name']), '')"
   ]
  },
  {
   "cell_type": "code",
   "execution_count": 10,
   "metadata": {
    "_cell_guid": "b21f97e1-e541-4ed4-ad89-a09cd7686f6c",
    "_kg_hide-input": true,
    "_uuid": "d38ab79a0f787406f9ba947cc46521364569dedc",
    "scrolled": true
   },
   "outputs": [],
   "source": [
    "cup_mask = np.array(Image.open(\"../input/mask-image-fifa-cup/fifa-cup.jpg\"))\n",
    "#footballer_mask = np.array(Image.open(\"../input/mask-image-fifa-cup/footballer.jpg\"))\n",
    "#ball_mask = np.array(Image.open(\"../input/mask-image-fifa-cup/ball.jpg\"))\n",
    "\n",
    "wc_cup = WordCloud(background_color=\"white\", max_words=2000, mask=cup_mask)\n",
    "#wc_footballer = WordCloud(background_color=\"white\", max_words=2000, mask=footballer_mask)\n",
    "#wc_ball = WordCloud(background_color=\"white\", max_words=2000, mask=ball_mask)\n",
    "\n",
    "winner_text = ' '.join(world_cups_matches['Winner'].dropna().tolist())\n",
    "\n",
    "wc_cup.generate(winner_text)\n",
    "\n",
    "plt.figure(figsize = (21,12))\n",
    "sns.set_style(\"whitegrid\")\n",
    "\n",
    "plt.title('Word cloud of the team that have the most wins', fontsize=14)\n",
    "plt.imshow(wc_cup, interpolation='bilinear')\n",
    "plt.axis(\"off\")\n",
    "\n",
    "plt.show()"
   ]
  },
  {
   "cell_type": "markdown",
   "metadata": {
    "_cell_guid": "7dc78522-dcbf-4e14-8382-58691f610414",
    "_uuid": "451aa062d168ab26feccfcbff4ae9bfe5025ae30"
   },
   "source": [
    "## Which teams scored the most goals per cup ?\n",
    "\n",
    "So I want to make an analysis about the number of goals per Team per cup and then of all the cups so I need to create a new dataset based on the world_cups_matches set. I will perform I a kind of \"map reduce\" opperation :\n",
    "* 1st : I extract the year, home team name and home team goals and sum the goals per year and team name\n",
    "* 2nd : Same opperation but with the away team\n",
    "* 3rd : Join it by team name and year\n"
   ]
  },
  {
   "cell_type": "code",
   "execution_count": 83,
   "metadata": {
    "_cell_guid": "34da8e2d-4604-4c7e-9642-2bd590f344b2",
    "_uuid": "27e26ba4ab8d32d597757221498cd5964a97db54",
    "collapsed": true,
    "jupyter": {
     "outputs_hidden": true
    }
   },
   "outputs": [],
   "source": [
    "home_team_goal = world_cups_matches.groupby(['Year', 'Home Team Name'])['Home Team Goals'].sum()\n",
    "away_team_goal = world_cups_matches.groupby(['Year', 'Away Team Name'])['Away Team Goals'].sum()\n",
    "team_goal = pd.concat([home_team_goal, away_team_goal], axis=1)\n",
    "team_goal = team_goal.fillna(0)\n",
    "team_goal['goals'] = team_goal['Home Team Goals'] + team_goal['Away Team Goals']\n",
    "team_goal = team_goal.drop(['Home Team Goals', 'Away Team Goals'], axis=1)\n",
    "team_goal = pd.DataFrame.from_dict(team_goal.to_dict()).reset_index().rename(index=str, columns={'level_0':'Year', 'level_1':'Team'})\n",
    "\n",
    "team_goal = team_goal.sort_values(by=['Year', 'goals'], ascending=[True, False])\n",
    "team_goal_top_5 = team_goal.groupby('Year').head(5)"
   ]
  },
  {
   "cell_type": "code",
   "execution_count": 86,
   "metadata": {
    "_cell_guid": "299260e9-2c8e-4eaf-98eb-d86d2343dad0",
    "_kg_hide-input": true,
    "_uuid": "948b2b29fc377474507d85fb54f89f43a8dac14e"
   },
   "outputs": [],
   "source": [
    "x, y = team_goal['Year'].values, team_goal['goals'].values\n",
    "\n",
    "data = []\n",
    "\n",
    "for team in team_goal_top_5['Team'].drop_duplicates().values :\n",
    "    year = team_goal_top_5[team_goal_top_5['Team'] == team]['Year']\n",
    "    goals = team_goal_top_5[team_goal_top_5['Team'] == team]['goals']\n",
    "    data.append(\n",
    "        go.Bar(\n",
    "            x=year,\n",
    "            y=goals,\n",
    "            name = team,\n",
    "        )\n",
    "    )\n",
    "\n",
    "layout = go.Layout(\n",
    "    barmode = \"stack\", \n",
    "    title = \"Top 5 teams which scored the most goals\",\n",
    "    showlegend = False\n",
    ")\n",
    "\n",
    "fig = go.Figure(data=data, layout=layout)\n",
    "py.iplot(fig, filename='pyplot-fifa')"
   ]
  }
 ],
 "metadata": {
  "kernelspec": {
   "display_name": "Python 3",
   "language": "python",
   "name": "python3"
  },
  "language_info": {
   "codemirror_mode": {
    "name": "ipython",
    "version": 3
   },
   "file_extension": ".py",
   "mimetype": "text/x-python",
   "name": "python",
   "nbconvert_exporter": "python",
   "pygments_lexer": "ipython3",
   "version": "3.8.8"
  },
  "toc": {
   "base_numbering": 1,
   "nav_menu": {},
   "number_sections": true,
   "sideBar": true,
   "skip_h1_title": false,
   "title_cell": "Table of Contents",
   "title_sidebar": "Contents",
   "toc_cell": false,
   "toc_position": {},
   "toc_section_display": true,
   "toc_window_display": false
  }
 },
 "nbformat": 4,
 "nbformat_minor": 4
}
