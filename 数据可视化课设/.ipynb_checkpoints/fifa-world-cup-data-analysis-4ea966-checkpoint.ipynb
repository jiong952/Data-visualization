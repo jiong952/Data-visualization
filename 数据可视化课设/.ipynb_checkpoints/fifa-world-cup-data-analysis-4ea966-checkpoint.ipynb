{
 "cells": [
  {
   "cell_type": "markdown",
   "metadata": {},
   "source": [
    "# The FIFA World Cup\n",
    "\n",
    "The FIFA World Cup, often simply called the World Cup, is an international association football competition contested by the senior men's national teams of the members of the Fédération Internationale de Football Association (FIFA), the sport's global governing body. The championship has been awarded every four years since the inaugural tournament in 1930, except in 1942 and 1946 when it was not held because of the Second World War. The current champion is Germany, which won its fourth title at the 2014 tournament in Brazil."
   ]
  },
  {
   "cell_type": "code",
   "execution_count": 12,
   "metadata": {
    "_kg_hide-input": true,
    "execution": {
     "iopub.execute_input": "2022-11-21T06:54:47.479443Z",
     "iopub.status.busy": "2022-11-21T06:54:47.478628Z",
     "iopub.status.idle": "2022-11-21T06:54:47.573042Z",
     "shell.execute_reply": "2022-11-21T06:54:47.568829Z",
     "shell.execute_reply.started": "2022-11-21T06:54:47.479322Z"
    }
   },
   "outputs": [
    {
     "ename": "FileNotFoundError",
     "evalue": "[Errno 2] No such file or directory: '/kaggle/input/fifaworld/1_0A8eTfcCEI4vQdErHdrwEQ.jpeg'",
     "output_type": "error",
     "traceback": [
      "\u001b[0;31m---------------------------------------------------------------------------\u001b[0m",
      "\u001b[0;31mFileNotFoundError\u001b[0m                         Traceback (most recent call last)",
      "\u001b[0;32m<ipython-input-12-386c3c0fca72>\u001b[0m in \u001b[0;36m<module>\u001b[0;34m\u001b[0m\n\u001b[1;32m      1\u001b[0m \u001b[0;32mfrom\u001b[0m \u001b[0mIPython\u001b[0m\u001b[0;34m.\u001b[0m\u001b[0mdisplay\u001b[0m \u001b[0;32mimport\u001b[0m \u001b[0mImage\u001b[0m\u001b[0;34m\u001b[0m\u001b[0;34m\u001b[0m\u001b[0m\n\u001b[0;32m----> 2\u001b[0;31m \u001b[0mImage\u001b[0m\u001b[0;34m(\u001b[0m\u001b[0mfilename\u001b[0m\u001b[0;34m=\u001b[0m\u001b[0;34m'/kaggle/input/fifaworld/1_0A8eTfcCEI4vQdErHdrwEQ.jpeg'\u001b[0m\u001b[0;34m,\u001b[0m \u001b[0mwidth\u001b[0m\u001b[0;34m=\u001b[0m\u001b[0;34m\"800\"\u001b[0m\u001b[0;34m,\u001b[0m \u001b[0mheight\u001b[0m\u001b[0;34m=\u001b[0m\u001b[0;34m'50'\u001b[0m\u001b[0;34m)\u001b[0m\u001b[0;34m\u001b[0m\u001b[0;34m\u001b[0m\u001b[0m\n\u001b[0m",
      "\u001b[0;32m/opt/conda/lib/python3.7/site-packages/IPython/core/display.py\u001b[0m in \u001b[0;36m__init__\u001b[0;34m(self, data, url, filename, format, embed, width, height, retina, unconfined, metadata)\u001b[0m\n\u001b[1;32m   1202\u001b[0m         \u001b[0mself\u001b[0m\u001b[0;34m.\u001b[0m\u001b[0munconfined\u001b[0m \u001b[0;34m=\u001b[0m \u001b[0munconfined\u001b[0m\u001b[0;34m\u001b[0m\u001b[0;34m\u001b[0m\u001b[0m\n\u001b[1;32m   1203\u001b[0m         super(Image, self).__init__(data=data, url=url, filename=filename, \n\u001b[0;32m-> 1204\u001b[0;31m                 metadata=metadata)\n\u001b[0m\u001b[1;32m   1205\u001b[0m \u001b[0;34m\u001b[0m\u001b[0m\n\u001b[1;32m   1206\u001b[0m         \u001b[0;32mif\u001b[0m \u001b[0mself\u001b[0m\u001b[0;34m.\u001b[0m\u001b[0mwidth\u001b[0m \u001b[0;32mis\u001b[0m \u001b[0;32mNone\u001b[0m \u001b[0;32mand\u001b[0m \u001b[0mself\u001b[0m\u001b[0;34m.\u001b[0m\u001b[0mmetadata\u001b[0m\u001b[0;34m.\u001b[0m\u001b[0mget\u001b[0m\u001b[0;34m(\u001b[0m\u001b[0;34m'width'\u001b[0m\u001b[0;34m,\u001b[0m \u001b[0;34m{\u001b[0m\u001b[0;34m}\u001b[0m\u001b[0;34m)\u001b[0m\u001b[0;34m:\u001b[0m\u001b[0;34m\u001b[0m\u001b[0;34m\u001b[0m\u001b[0m\n",
      "\u001b[0;32m/opt/conda/lib/python3.7/site-packages/IPython/core/display.py\u001b[0m in \u001b[0;36m__init__\u001b[0;34m(self, data, url, filename, metadata)\u001b[0m\n\u001b[1;32m    625\u001b[0m             \u001b[0mself\u001b[0m\u001b[0;34m.\u001b[0m\u001b[0mmetadata\u001b[0m \u001b[0;34m=\u001b[0m \u001b[0;34m{\u001b[0m\u001b[0;34m}\u001b[0m\u001b[0;34m\u001b[0m\u001b[0;34m\u001b[0m\u001b[0m\n\u001b[1;32m    626\u001b[0m \u001b[0;34m\u001b[0m\u001b[0m\n\u001b[0;32m--> 627\u001b[0;31m         \u001b[0mself\u001b[0m\u001b[0;34m.\u001b[0m\u001b[0mreload\u001b[0m\u001b[0;34m(\u001b[0m\u001b[0;34m)\u001b[0m\u001b[0;34m\u001b[0m\u001b[0;34m\u001b[0m\u001b[0m\n\u001b[0m\u001b[1;32m    628\u001b[0m         \u001b[0mself\u001b[0m\u001b[0;34m.\u001b[0m\u001b[0m_check_data\u001b[0m\u001b[0;34m(\u001b[0m\u001b[0;34m)\u001b[0m\u001b[0;34m\u001b[0m\u001b[0;34m\u001b[0m\u001b[0m\n\u001b[1;32m    629\u001b[0m \u001b[0;34m\u001b[0m\u001b[0m\n",
      "\u001b[0;32m/opt/conda/lib/python3.7/site-packages/IPython/core/display.py\u001b[0m in \u001b[0;36mreload\u001b[0;34m(self)\u001b[0m\n\u001b[1;32m   1233\u001b[0m         \u001b[0;34m\"\"\"Reload the raw data from file or URL.\"\"\"\u001b[0m\u001b[0;34m\u001b[0m\u001b[0;34m\u001b[0m\u001b[0m\n\u001b[1;32m   1234\u001b[0m         \u001b[0;32mif\u001b[0m \u001b[0mself\u001b[0m\u001b[0;34m.\u001b[0m\u001b[0membed\u001b[0m\u001b[0;34m:\u001b[0m\u001b[0;34m\u001b[0m\u001b[0;34m\u001b[0m\u001b[0m\n\u001b[0;32m-> 1235\u001b[0;31m             \u001b[0msuper\u001b[0m\u001b[0;34m(\u001b[0m\u001b[0mImage\u001b[0m\u001b[0;34m,\u001b[0m\u001b[0mself\u001b[0m\u001b[0;34m)\u001b[0m\u001b[0;34m.\u001b[0m\u001b[0mreload\u001b[0m\u001b[0;34m(\u001b[0m\u001b[0;34m)\u001b[0m\u001b[0;34m\u001b[0m\u001b[0;34m\u001b[0m\u001b[0m\n\u001b[0m\u001b[1;32m   1236\u001b[0m             \u001b[0;32mif\u001b[0m \u001b[0mself\u001b[0m\u001b[0;34m.\u001b[0m\u001b[0mretina\u001b[0m\u001b[0;34m:\u001b[0m\u001b[0;34m\u001b[0m\u001b[0;34m\u001b[0m\u001b[0m\n\u001b[1;32m   1237\u001b[0m                 \u001b[0mself\u001b[0m\u001b[0;34m.\u001b[0m\u001b[0m_retina_shape\u001b[0m\u001b[0;34m(\u001b[0m\u001b[0;34m)\u001b[0m\u001b[0;34m\u001b[0m\u001b[0;34m\u001b[0m\u001b[0m\n",
      "\u001b[0;32m/opt/conda/lib/python3.7/site-packages/IPython/core/display.py\u001b[0m in \u001b[0;36mreload\u001b[0;34m(self)\u001b[0m\n\u001b[1;32m    650\u001b[0m         \u001b[0;34m\"\"\"Reload the raw data from file or URL.\"\"\"\u001b[0m\u001b[0;34m\u001b[0m\u001b[0;34m\u001b[0m\u001b[0m\n\u001b[1;32m    651\u001b[0m         \u001b[0;32mif\u001b[0m \u001b[0mself\u001b[0m\u001b[0;34m.\u001b[0m\u001b[0mfilename\u001b[0m \u001b[0;32mis\u001b[0m \u001b[0;32mnot\u001b[0m \u001b[0;32mNone\u001b[0m\u001b[0;34m:\u001b[0m\u001b[0;34m\u001b[0m\u001b[0;34m\u001b[0m\u001b[0m\n\u001b[0;32m--> 652\u001b[0;31m             \u001b[0;32mwith\u001b[0m \u001b[0mopen\u001b[0m\u001b[0;34m(\u001b[0m\u001b[0mself\u001b[0m\u001b[0;34m.\u001b[0m\u001b[0mfilename\u001b[0m\u001b[0;34m,\u001b[0m \u001b[0mself\u001b[0m\u001b[0;34m.\u001b[0m\u001b[0m_read_flags\u001b[0m\u001b[0;34m)\u001b[0m \u001b[0;32mas\u001b[0m \u001b[0mf\u001b[0m\u001b[0;34m:\u001b[0m\u001b[0;34m\u001b[0m\u001b[0;34m\u001b[0m\u001b[0m\n\u001b[0m\u001b[1;32m    653\u001b[0m                 \u001b[0mself\u001b[0m\u001b[0;34m.\u001b[0m\u001b[0mdata\u001b[0m \u001b[0;34m=\u001b[0m \u001b[0mf\u001b[0m\u001b[0;34m.\u001b[0m\u001b[0mread\u001b[0m\u001b[0;34m(\u001b[0m\u001b[0;34m)\u001b[0m\u001b[0;34m\u001b[0m\u001b[0;34m\u001b[0m\u001b[0m\n\u001b[1;32m    654\u001b[0m         \u001b[0;32melif\u001b[0m \u001b[0mself\u001b[0m\u001b[0;34m.\u001b[0m\u001b[0murl\u001b[0m \u001b[0;32mis\u001b[0m \u001b[0;32mnot\u001b[0m \u001b[0;32mNone\u001b[0m\u001b[0;34m:\u001b[0m\u001b[0;34m\u001b[0m\u001b[0;34m\u001b[0m\u001b[0m\n",
      "\u001b[0;31mFileNotFoundError\u001b[0m: [Errno 2] No such file or directory: '/kaggle/input/fifaworld/1_0A8eTfcCEI4vQdErHdrwEQ.jpeg'"
     ]
    }
   ],
   "source": [
    "from IPython.display import Image\n",
    "Image(filename='/kaggle/input/fifaworld/1_0A8eTfcCEI4vQdErHdrwEQ.jpeg', width=\"800\", height='50')"
   ]
  },
  {
   "cell_type": "markdown",
   "metadata": {},
   "source": [
    "# Content\n",
    "\n",
    "- Data Cleaning\n",
    "- Visualization\n",
    "\n",
    "    - Most Number of World Cup Winning Title\n",
    "    - Number of Goal Per Countary\n",
    "    - Attendance, Number of Teams, Goals, and Matches per Cup\n",
    "    - Goals Per Team Per World Cup\n",
    "    - Matches With Heihest Number Of Attendance\n",
    "    - Stadium with Highest Average Attendance\n",
    "    - Which countries had won the cup ?\n",
    "    - Number of goal per country\n",
    "    - Match outcome by home and away temas"
   ]
  },
  {
   "cell_type": "code",
   "execution_count": 3,
   "metadata": {
    "_cell_guid": "b1076dfc-b9ad-4769-8c92-a6c4dae69d19",
    "_uuid": "8f2839f25d086af736a60e9eeb907d3b93b6e0e5",
    "execution": {
     "iopub.execute_input": "2022-11-21T06:55:02.599765Z",
     "iopub.status.busy": "2022-11-21T06:55:02.599149Z",
     "iopub.status.idle": "2022-11-21T06:55:02.611976Z",
     "shell.execute_reply": "2022-11-21T06:55:02.610914Z",
     "shell.execute_reply.started": "2022-11-21T06:55:02.599715Z"
    }
   },
   "outputs": [
    {
     "ename": "ModuleNotFoundError",
     "evalue": "No module named 'cufflinks'",
     "output_type": "error",
     "traceback": [
      "\u001b[1;31m---------------------------------------------------------------------------\u001b[0m",
      "\u001b[1;31mModuleNotFoundError\u001b[0m                       Traceback (most recent call last)",
      "\u001b[1;32m<ipython-input-3-a462d9ce8903>\u001b[0m in \u001b[0;36m<module>\u001b[1;34m\u001b[0m\n\u001b[0;32m      9\u001b[0m \u001b[0mget_ipython\u001b[0m\u001b[1;33m(\u001b[0m\u001b[1;33m)\u001b[0m\u001b[1;33m.\u001b[0m\u001b[0mrun_line_magic\u001b[0m\u001b[1;33m(\u001b[0m\u001b[1;34m'matplotlib'\u001b[0m\u001b[1;33m,\u001b[0m \u001b[1;34m'inline'\u001b[0m\u001b[1;33m)\u001b[0m\u001b[1;33m\u001b[0m\u001b[1;33m\u001b[0m\u001b[0m\n\u001b[0;32m     10\u001b[0m \u001b[1;32mimport\u001b[0m \u001b[0mplotly\u001b[0m \u001b[1;32mas\u001b[0m \u001b[0mpy\u001b[0m\u001b[1;33m\u001b[0m\u001b[1;33m\u001b[0m\u001b[0m\n\u001b[1;32m---> 11\u001b[1;33m \u001b[1;32mimport\u001b[0m \u001b[0mcufflinks\u001b[0m \u001b[1;32mas\u001b[0m \u001b[0mcf\u001b[0m\u001b[1;33m\u001b[0m\u001b[1;33m\u001b[0m\u001b[0m\n\u001b[0m\u001b[0;32m     12\u001b[0m \u001b[1;33m\u001b[0m\u001b[0m\n\u001b[0;32m     13\u001b[0m \u001b[1;31m# Input data files are available in the read-only \"../input/\" directory\u001b[0m\u001b[1;33m\u001b[0m\u001b[1;33m\u001b[0m\u001b[1;33m\u001b[0m\u001b[0m\n",
      "\u001b[1;31mModuleNotFoundError\u001b[0m: No module named 'cufflinks'"
     ]
    }
   ],
   "source": [
    "# This Python 3 environment comes with many helpful analytics libraries installed\n",
    "# It is defined by the kaggle/python Docker image: https://github.com/kaggle/docker-python\n",
    "# For example, here's several helpful packages to load\n",
    "\n",
    "import numpy as np # linear algebra\n",
    "import pandas as pd # data processing, CSV file I/O (e.g. pd.read_csv)\n",
    "import matplotlib.pyplot as plt\n",
    "import seaborn as sns\n",
    "%matplotlib inline\n",
    "import plotly as py\n",
    "import cufflinks as cf\n",
    "\n",
    "# Input data files are available in the read-only \"../input/\" directory\n",
    "# For example, running this (by clicking run or pressing Shift+Enter) will list all files under the input directory\n",
    "\n",
    "import os\n",
    "for dirname, _, filenames in os.walk('/kaggle/input'):\n",
    "    for filename in filenames:\n",
    "        print(os.path.join(dirname, filename))\n",
    "\n",
    "# You can write up to 5GB to the current directory (/kaggle/working/) that gets preserved as output when you create a version using \"Save & Run All\" \n",
    "# You can also write temporary files to /kaggle/temp/, but they won't be saved outside of the current session"
   ]
  },
  {
   "cell_type": "code",
   "execution_count": 2,
   "metadata": {
    "_cell_guid": "79c7e3d0-c299-4dcb-8224-4455121ee9b0",
    "_uuid": "d629ff2d2480ee46fbb7e2d37f6b5fab8052498a",
    "execution": {
     "iopub.execute_input": "2022-11-21T06:55:02.615218Z",
     "iopub.status.busy": "2022-11-21T06:55:02.614822Z",
     "iopub.status.idle": "2022-11-21T06:55:02.756729Z",
     "shell.execute_reply": "2022-11-21T06:55:02.755240Z",
     "shell.execute_reply.started": "2022-11-21T06:55:02.615183Z"
    }
   },
   "outputs": [],
   "source": [
    "players = pd.read_csv('./data/WorldCupPlayers.csv')\n",
    "matches = pd.read_csv('./data/WorldCupMatches.csv')\n",
    "world_cup = pd.read_csv('./data/WorldCups.csv')"
   ]
  },
  {
   "cell_type": "code",
   "execution_count": 5,
   "metadata": {
    "execution": {
     "iopub.execute_input": "2022-11-21T06:55:02.760425Z",
     "iopub.status.busy": "2022-11-21T06:55:02.759839Z",
     "iopub.status.idle": "2022-11-21T06:55:02.784810Z",
     "shell.execute_reply": "2022-11-21T06:55:02.783499Z",
     "shell.execute_reply.started": "2022-11-21T06:55:02.760375Z"
    }
   },
   "outputs": [
    {
     "data": {
      "text/html": [
       "<div>\n",
       "<style scoped>\n",
       "    .dataframe tbody tr th:only-of-type {\n",
       "        vertical-align: middle;\n",
       "    }\n",
       "\n",
       "    .dataframe tbody tr th {\n",
       "        vertical-align: top;\n",
       "    }\n",
       "\n",
       "    .dataframe thead th {\n",
       "        text-align: right;\n",
       "    }\n",
       "</style>\n",
       "<table border=\"1\" class=\"dataframe\">\n",
       "  <thead>\n",
       "    <tr style=\"text-align: right;\">\n",
       "      <th></th>\n",
       "      <th>RoundID</th>\n",
       "      <th>MatchID</th>\n",
       "      <th>Team Initials</th>\n",
       "      <th>Coach Name</th>\n",
       "      <th>Line-up</th>\n",
       "      <th>Shirt Number</th>\n",
       "      <th>Player Name</th>\n",
       "      <th>Position</th>\n",
       "      <th>Event</th>\n",
       "    </tr>\n",
       "  </thead>\n",
       "  <tbody>\n",
       "    <tr>\n",
       "      <th>0</th>\n",
       "      <td>201</td>\n",
       "      <td>1096</td>\n",
       "      <td>FRA</td>\n",
       "      <td>CAUDRON Raoul (FRA)</td>\n",
       "      <td>S</td>\n",
       "      <td>0</td>\n",
       "      <td>Alex THEPOT</td>\n",
       "      <td>GK</td>\n",
       "      <td>NaN</td>\n",
       "    </tr>\n",
       "    <tr>\n",
       "      <th>1</th>\n",
       "      <td>201</td>\n",
       "      <td>1096</td>\n",
       "      <td>MEX</td>\n",
       "      <td>LUQUE Juan (MEX)</td>\n",
       "      <td>S</td>\n",
       "      <td>0</td>\n",
       "      <td>Oscar BONFIGLIO</td>\n",
       "      <td>GK</td>\n",
       "      <td>NaN</td>\n",
       "    </tr>\n",
       "    <tr>\n",
       "      <th>2</th>\n",
       "      <td>201</td>\n",
       "      <td>1096</td>\n",
       "      <td>FRA</td>\n",
       "      <td>CAUDRON Raoul (FRA)</td>\n",
       "      <td>S</td>\n",
       "      <td>0</td>\n",
       "      <td>Marcel LANGILLER</td>\n",
       "      <td>NaN</td>\n",
       "      <td>G40'</td>\n",
       "    </tr>\n",
       "    <tr>\n",
       "      <th>3</th>\n",
       "      <td>201</td>\n",
       "      <td>1096</td>\n",
       "      <td>MEX</td>\n",
       "      <td>LUQUE Juan (MEX)</td>\n",
       "      <td>S</td>\n",
       "      <td>0</td>\n",
       "      <td>Juan CARRENO</td>\n",
       "      <td>NaN</td>\n",
       "      <td>G70'</td>\n",
       "    </tr>\n",
       "    <tr>\n",
       "      <th>4</th>\n",
       "      <td>201</td>\n",
       "      <td>1096</td>\n",
       "      <td>FRA</td>\n",
       "      <td>CAUDRON Raoul (FRA)</td>\n",
       "      <td>S</td>\n",
       "      <td>0</td>\n",
       "      <td>Ernest LIBERATI</td>\n",
       "      <td>NaN</td>\n",
       "      <td>NaN</td>\n",
       "    </tr>\n",
       "  </tbody>\n",
       "</table>\n",
       "</div>"
      ],
      "text/plain": [
       "   RoundID  MatchID Team Initials           Coach Name Line-up  Shirt Number  \\\n",
       "0      201     1096           FRA  CAUDRON Raoul (FRA)       S             0   \n",
       "1      201     1096           MEX     LUQUE Juan (MEX)       S             0   \n",
       "2      201     1096           FRA  CAUDRON Raoul (FRA)       S             0   \n",
       "3      201     1096           MEX     LUQUE Juan (MEX)       S             0   \n",
       "4      201     1096           FRA  CAUDRON Raoul (FRA)       S             0   \n",
       "\n",
       "        Player Name Position Event  \n",
       "0       Alex THEPOT       GK   NaN  \n",
       "1   Oscar BONFIGLIO       GK   NaN  \n",
       "2  Marcel LANGILLER      NaN  G40'  \n",
       "3      Juan CARRENO      NaN  G70'  \n",
       "4   Ernest LIBERATI      NaN   NaN  "
      ]
     },
     "execution_count": 5,
     "metadata": {},
     "output_type": "execute_result"
    }
   ],
   "source": [
    "players.head()"
   ]
  },
  {
   "cell_type": "code",
   "execution_count": 6,
   "metadata": {
    "execution": {
     "iopub.execute_input": "2022-11-21T06:55:02.787005Z",
     "iopub.status.busy": "2022-11-21T06:55:02.786578Z",
     "iopub.status.idle": "2022-11-21T06:55:02.817863Z",
     "shell.execute_reply": "2022-11-21T06:55:02.816980Z",
     "shell.execute_reply.started": "2022-11-21T06:55:02.786960Z"
    }
   },
   "outputs": [
    {
     "data": {
      "text/html": [
       "<div>\n",
       "<style scoped>\n",
       "    .dataframe tbody tr th:only-of-type {\n",
       "        vertical-align: middle;\n",
       "    }\n",
       "\n",
       "    .dataframe tbody tr th {\n",
       "        vertical-align: top;\n",
       "    }\n",
       "\n",
       "    .dataframe thead th {\n",
       "        text-align: right;\n",
       "    }\n",
       "</style>\n",
       "<table border=\"1\" class=\"dataframe\">\n",
       "  <thead>\n",
       "    <tr style=\"text-align: right;\">\n",
       "      <th></th>\n",
       "      <th>Year</th>\n",
       "      <th>Datetime</th>\n",
       "      <th>Stage</th>\n",
       "      <th>Stadium</th>\n",
       "      <th>City</th>\n",
       "      <th>Home Team Name</th>\n",
       "      <th>Home Team Goals</th>\n",
       "      <th>Away Team Goals</th>\n",
       "      <th>Away Team Name</th>\n",
       "      <th>Win conditions</th>\n",
       "      <th>Attendance</th>\n",
       "      <th>Half-time Home Goals</th>\n",
       "      <th>Half-time Away Goals</th>\n",
       "      <th>Referee</th>\n",
       "      <th>Assistant 1</th>\n",
       "      <th>Assistant 2</th>\n",
       "      <th>RoundID</th>\n",
       "      <th>MatchID</th>\n",
       "      <th>Home Team Initials</th>\n",
       "      <th>Away Team Initials</th>\n",
       "    </tr>\n",
       "  </thead>\n",
       "  <tbody>\n",
       "    <tr>\n",
       "      <th>0</th>\n",
       "      <td>1930</td>\n",
       "      <td>13 Jul 1930 - 15:00</td>\n",
       "      <td>Group 1</td>\n",
       "      <td>Pocitos</td>\n",
       "      <td>Montevideo</td>\n",
       "      <td>France</td>\n",
       "      <td>4</td>\n",
       "      <td>1</td>\n",
       "      <td>Mexico</td>\n",
       "      <td></td>\n",
       "      <td>4444.0</td>\n",
       "      <td>3</td>\n",
       "      <td>0</td>\n",
       "      <td>LOMBARDI Domingo (URU)</td>\n",
       "      <td>CRISTOPHE Henry (BEL)</td>\n",
       "      <td>REGO Gilberto (BRA)</td>\n",
       "      <td>201</td>\n",
       "      <td>1096</td>\n",
       "      <td>FRA</td>\n",
       "      <td>MEX</td>\n",
       "    </tr>\n",
       "    <tr>\n",
       "      <th>1</th>\n",
       "      <td>1930</td>\n",
       "      <td>13 Jul 1930 - 15:00</td>\n",
       "      <td>Group 4</td>\n",
       "      <td>Parque Central</td>\n",
       "      <td>Montevideo</td>\n",
       "      <td>USA</td>\n",
       "      <td>3</td>\n",
       "      <td>0</td>\n",
       "      <td>Belgium</td>\n",
       "      <td></td>\n",
       "      <td>18346.0</td>\n",
       "      <td>2</td>\n",
       "      <td>0</td>\n",
       "      <td>MACIAS Jose (ARG)</td>\n",
       "      <td>MATEUCCI Francisco (URU)</td>\n",
       "      <td>WARNKEN Alberto (CHI)</td>\n",
       "      <td>201</td>\n",
       "      <td>1090</td>\n",
       "      <td>USA</td>\n",
       "      <td>BEL</td>\n",
       "    </tr>\n",
       "    <tr>\n",
       "      <th>2</th>\n",
       "      <td>1930</td>\n",
       "      <td>14 Jul 1930 - 12:45</td>\n",
       "      <td>Group 2</td>\n",
       "      <td>Parque Central</td>\n",
       "      <td>Montevideo</td>\n",
       "      <td>Yugoslavia</td>\n",
       "      <td>2</td>\n",
       "      <td>1</td>\n",
       "      <td>Brazil</td>\n",
       "      <td></td>\n",
       "      <td>24059.0</td>\n",
       "      <td>2</td>\n",
       "      <td>0</td>\n",
       "      <td>TEJADA Anibal (URU)</td>\n",
       "      <td>VALLARINO Ricardo (URU)</td>\n",
       "      <td>BALWAY Thomas (FRA)</td>\n",
       "      <td>201</td>\n",
       "      <td>1093</td>\n",
       "      <td>YUG</td>\n",
       "      <td>BRA</td>\n",
       "    </tr>\n",
       "    <tr>\n",
       "      <th>3</th>\n",
       "      <td>1930</td>\n",
       "      <td>14 Jul 1930 - 14:50</td>\n",
       "      <td>Group 3</td>\n",
       "      <td>Pocitos</td>\n",
       "      <td>Montevideo</td>\n",
       "      <td>Romania</td>\n",
       "      <td>3</td>\n",
       "      <td>1</td>\n",
       "      <td>Peru</td>\n",
       "      <td></td>\n",
       "      <td>2549.0</td>\n",
       "      <td>1</td>\n",
       "      <td>0</td>\n",
       "      <td>WARNKEN Alberto (CHI)</td>\n",
       "      <td>LANGENUS Jean (BEL)</td>\n",
       "      <td>MATEUCCI Francisco (URU)</td>\n",
       "      <td>201</td>\n",
       "      <td>1098</td>\n",
       "      <td>ROU</td>\n",
       "      <td>PER</td>\n",
       "    </tr>\n",
       "    <tr>\n",
       "      <th>4</th>\n",
       "      <td>1930</td>\n",
       "      <td>15 Jul 1930 - 16:00</td>\n",
       "      <td>Group 1</td>\n",
       "      <td>Parque Central</td>\n",
       "      <td>Montevideo</td>\n",
       "      <td>Argentina</td>\n",
       "      <td>1</td>\n",
       "      <td>0</td>\n",
       "      <td>France</td>\n",
       "      <td></td>\n",
       "      <td>23409.0</td>\n",
       "      <td>0</td>\n",
       "      <td>0</td>\n",
       "      <td>REGO Gilberto (BRA)</td>\n",
       "      <td>SAUCEDO Ulises (BOL)</td>\n",
       "      <td>RADULESCU Constantin (ROU)</td>\n",
       "      <td>201</td>\n",
       "      <td>1085</td>\n",
       "      <td>ARG</td>\n",
       "      <td>FRA</td>\n",
       "    </tr>\n",
       "  </tbody>\n",
       "</table>\n",
       "</div>"
      ],
      "text/plain": [
       "   Year              Datetime    Stage         Stadium         City  \\\n",
       "0  1930  13 Jul 1930 - 15:00   Group 1         Pocitos  Montevideo    \n",
       "1  1930  13 Jul 1930 - 15:00   Group 4  Parque Central  Montevideo    \n",
       "2  1930  14 Jul 1930 - 12:45   Group 2  Parque Central  Montevideo    \n",
       "3  1930  14 Jul 1930 - 14:50   Group 3         Pocitos  Montevideo    \n",
       "4  1930  15 Jul 1930 - 16:00   Group 1  Parque Central  Montevideo    \n",
       "\n",
       "  Home Team Name  Home Team Goals  Away Team Goals Away Team Name  \\\n",
       "0         France                4                1         Mexico   \n",
       "1            USA                3                0        Belgium   \n",
       "2     Yugoslavia                2                1         Brazil   \n",
       "3        Romania                3                1           Peru   \n",
       "4      Argentina                1                0         France   \n",
       "\n",
       "  Win conditions  Attendance  Half-time Home Goals  Half-time Away Goals  \\\n",
       "0                     4444.0                     3                     0   \n",
       "1                    18346.0                     2                     0   \n",
       "2                    24059.0                     2                     0   \n",
       "3                     2549.0                     1                     0   \n",
       "4                    23409.0                     0                     0   \n",
       "\n",
       "                  Referee               Assistant 1  \\\n",
       "0  LOMBARDI Domingo (URU)     CRISTOPHE Henry (BEL)   \n",
       "1       MACIAS Jose (ARG)  MATEUCCI Francisco (URU)   \n",
       "2     TEJADA Anibal (URU)   VALLARINO Ricardo (URU)   \n",
       "3   WARNKEN Alberto (CHI)       LANGENUS Jean (BEL)   \n",
       "4     REGO Gilberto (BRA)      SAUCEDO Ulises (BOL)   \n",
       "\n",
       "                  Assistant 2  RoundID  MatchID Home Team Initials  \\\n",
       "0         REGO Gilberto (BRA)      201     1096                FRA   \n",
       "1       WARNKEN Alberto (CHI)      201     1090                USA   \n",
       "2         BALWAY Thomas (FRA)      201     1093                YUG   \n",
       "3    MATEUCCI Francisco (URU)      201     1098                ROU   \n",
       "4  RADULESCU Constantin (ROU)      201     1085                ARG   \n",
       "\n",
       "  Away Team Initials  \n",
       "0                MEX  \n",
       "1                BEL  \n",
       "2                BRA  \n",
       "3                PER  \n",
       "4                FRA  "
      ]
     },
     "execution_count": 6,
     "metadata": {},
     "output_type": "execute_result"
    }
   ],
   "source": [
    "matches.head()"
   ]
  },
  {
   "cell_type": "code",
   "execution_count": 7,
   "metadata": {
    "execution": {
     "iopub.execute_input": "2022-11-21T06:55:02.821431Z",
     "iopub.status.busy": "2022-11-21T06:55:02.820802Z",
     "iopub.status.idle": "2022-11-21T06:55:02.849212Z",
     "shell.execute_reply": "2022-11-21T06:55:02.848296Z",
     "shell.execute_reply.started": "2022-11-21T06:55:02.821391Z"
    }
   },
   "outputs": [
    {
     "data": {
      "text/html": [
       "<div>\n",
       "<style scoped>\n",
       "    .dataframe tbody tr th:only-of-type {\n",
       "        vertical-align: middle;\n",
       "    }\n",
       "\n",
       "    .dataframe tbody tr th {\n",
       "        vertical-align: top;\n",
       "    }\n",
       "\n",
       "    .dataframe thead th {\n",
       "        text-align: right;\n",
       "    }\n",
       "</style>\n",
       "<table border=\"1\" class=\"dataframe\">\n",
       "  <thead>\n",
       "    <tr style=\"text-align: right;\">\n",
       "      <th></th>\n",
       "      <th>Year</th>\n",
       "      <th>Datetime</th>\n",
       "      <th>Stage</th>\n",
       "      <th>Stadium</th>\n",
       "      <th>City</th>\n",
       "      <th>Home Team Name</th>\n",
       "      <th>Home Team Goals</th>\n",
       "      <th>Away Team Goals</th>\n",
       "      <th>Away Team Name</th>\n",
       "      <th>Win conditions</th>\n",
       "      <th>Attendance</th>\n",
       "      <th>Half-time Home Goals</th>\n",
       "      <th>Half-time Away Goals</th>\n",
       "      <th>Referee</th>\n",
       "      <th>Assistant 1</th>\n",
       "      <th>Assistant 2</th>\n",
       "      <th>RoundID</th>\n",
       "      <th>MatchID</th>\n",
       "      <th>Home Team Initials</th>\n",
       "      <th>Away Team Initials</th>\n",
       "    </tr>\n",
       "  </thead>\n",
       "  <tbody>\n",
       "    <tr>\n",
       "      <th>847</th>\n",
       "      <td>2014</td>\n",
       "      <td>05 Jul 2014 - 17:00</td>\n",
       "      <td>Quarter-finals</td>\n",
       "      <td>Arena Fonte Nova</td>\n",
       "      <td>Salvador</td>\n",
       "      <td>Netherlands</td>\n",
       "      <td>0</td>\n",
       "      <td>0</td>\n",
       "      <td>Costa Rica</td>\n",
       "      <td>Netherlands win on penalties (4 - 3)</td>\n",
       "      <td>51179.0</td>\n",
       "      <td>0</td>\n",
       "      <td>0</td>\n",
       "      <td>Ravshan IRMATOV (UZB)</td>\n",
       "      <td>RASULOV Abduxamidullo (UZB)</td>\n",
       "      <td>KOCHKAROV Bakhadyr (KGZ)</td>\n",
       "      <td>255953</td>\n",
       "      <td>300186488</td>\n",
       "      <td>NED</td>\n",
       "      <td>CRC</td>\n",
       "    </tr>\n",
       "    <tr>\n",
       "      <th>848</th>\n",
       "      <td>2014</td>\n",
       "      <td>08 Jul 2014 - 17:00</td>\n",
       "      <td>Semi-finals</td>\n",
       "      <td>Estadio Mineirao</td>\n",
       "      <td>Belo Horizonte</td>\n",
       "      <td>Brazil</td>\n",
       "      <td>1</td>\n",
       "      <td>7</td>\n",
       "      <td>Germany</td>\n",
       "      <td></td>\n",
       "      <td>58141.0</td>\n",
       "      <td>0</td>\n",
       "      <td>5</td>\n",
       "      <td>RODRIGUEZ Marco (MEX)</td>\n",
       "      <td>TORRENTERA Marvin (MEX)</td>\n",
       "      <td>QUINTERO Marcos (MEX)</td>\n",
       "      <td>255955</td>\n",
       "      <td>300186474</td>\n",
       "      <td>BRA</td>\n",
       "      <td>GER</td>\n",
       "    </tr>\n",
       "    <tr>\n",
       "      <th>849</th>\n",
       "      <td>2014</td>\n",
       "      <td>09 Jul 2014 - 17:00</td>\n",
       "      <td>Semi-finals</td>\n",
       "      <td>Arena de Sao Paulo</td>\n",
       "      <td>Sao Paulo</td>\n",
       "      <td>Netherlands</td>\n",
       "      <td>0</td>\n",
       "      <td>0</td>\n",
       "      <td>Argentina</td>\n",
       "      <td>Argentina win on penalties (2 - 4)</td>\n",
       "      <td>63267.0</td>\n",
       "      <td>0</td>\n",
       "      <td>0</td>\n",
       "      <td>C neyt  AKIR (TUR)</td>\n",
       "      <td>DURAN Bahattin (TUR)</td>\n",
       "      <td>ONGUN Tarik (TUR)</td>\n",
       "      <td>255955</td>\n",
       "      <td>300186490</td>\n",
       "      <td>NED</td>\n",
       "      <td>ARG</td>\n",
       "    </tr>\n",
       "    <tr>\n",
       "      <th>850</th>\n",
       "      <td>2014</td>\n",
       "      <td>12 Jul 2014 - 17:00</td>\n",
       "      <td>Play-off for third place</td>\n",
       "      <td>Estadio Nacional</td>\n",
       "      <td>Brasilia</td>\n",
       "      <td>Brazil</td>\n",
       "      <td>0</td>\n",
       "      <td>3</td>\n",
       "      <td>Netherlands</td>\n",
       "      <td></td>\n",
       "      <td>68034.0</td>\n",
       "      <td>0</td>\n",
       "      <td>2</td>\n",
       "      <td>HAIMOUDI Djamel (ALG)</td>\n",
       "      <td>ACHIK Redouane (MAR)</td>\n",
       "      <td>ETCHIALI Abdelhak (ALG)</td>\n",
       "      <td>255957</td>\n",
       "      <td>300186502</td>\n",
       "      <td>BRA</td>\n",
       "      <td>NED</td>\n",
       "    </tr>\n",
       "    <tr>\n",
       "      <th>851</th>\n",
       "      <td>2014</td>\n",
       "      <td>13 Jul 2014 - 16:00</td>\n",
       "      <td>Final</td>\n",
       "      <td>Estadio do Maracana</td>\n",
       "      <td>Rio De Janeiro</td>\n",
       "      <td>Germany</td>\n",
       "      <td>1</td>\n",
       "      <td>0</td>\n",
       "      <td>Argentina</td>\n",
       "      <td>Germany win after extra time</td>\n",
       "      <td>74738.0</td>\n",
       "      <td>0</td>\n",
       "      <td>0</td>\n",
       "      <td>Nicola RIZZOLI (ITA)</td>\n",
       "      <td>Renato FAVERANI (ITA)</td>\n",
       "      <td>Andrea STEFANI (ITA)</td>\n",
       "      <td>255959</td>\n",
       "      <td>300186501</td>\n",
       "      <td>GER</td>\n",
       "      <td>ARG</td>\n",
       "    </tr>\n",
       "  </tbody>\n",
       "</table>\n",
       "</div>"
      ],
      "text/plain": [
       "     Year              Datetime                     Stage  \\\n",
       "847  2014  05 Jul 2014 - 17:00             Quarter-finals   \n",
       "848  2014  08 Jul 2014 - 17:00                Semi-finals   \n",
       "849  2014  09 Jul 2014 - 17:00                Semi-finals   \n",
       "850  2014  12 Jul 2014 - 17:00   Play-off for third place   \n",
       "851  2014  13 Jul 2014 - 16:00                      Final   \n",
       "\n",
       "                 Stadium             City Home Team Name  Home Team Goals  \\\n",
       "847     Arena Fonte Nova        Salvador     Netherlands                0   \n",
       "848     Estadio Mineirao  Belo Horizonte          Brazil                1   \n",
       "849   Arena de Sao Paulo       Sao Paulo     Netherlands                0   \n",
       "850     Estadio Nacional        Brasilia          Brazil                0   \n",
       "851  Estadio do Maracana  Rio De Janeiro         Germany                1   \n",
       "\n",
       "     Away Team Goals Away Team Name                         Win conditions  \\\n",
       "847                0     Costa Rica  Netherlands win on penalties (4 - 3)    \n",
       "848                7        Germany                                          \n",
       "849                0      Argentina    Argentina win on penalties (2 - 4)    \n",
       "850                3    Netherlands                                          \n",
       "851                0      Argentina          Germany win after extra time    \n",
       "\n",
       "     Attendance  Half-time Home Goals  Half-time Away Goals  \\\n",
       "847     51179.0                     0                     0   \n",
       "848     58141.0                     0                     5   \n",
       "849     63267.0                     0                     0   \n",
       "850     68034.0                     0                     2   \n",
       "851     74738.0                     0                     0   \n",
       "\n",
       "                   Referee                  Assistant 1  \\\n",
       "847  Ravshan IRMATOV (UZB)  RASULOV Abduxamidullo (UZB)   \n",
       "848  RODRIGUEZ Marco (MEX)      TORRENTERA Marvin (MEX)   \n",
       "849     C neyt  AKIR (TUR)         DURAN Bahattin (TUR)   \n",
       "850  HAIMOUDI Djamel (ALG)         ACHIK Redouane (MAR)   \n",
       "851   Nicola RIZZOLI (ITA)        Renato FAVERANI (ITA)   \n",
       "\n",
       "                  Assistant 2  RoundID    MatchID Home Team Initials  \\\n",
       "847  KOCHKAROV Bakhadyr (KGZ)   255953  300186488                NED   \n",
       "848     QUINTERO Marcos (MEX)   255955  300186474                BRA   \n",
       "849         ONGUN Tarik (TUR)   255955  300186490                NED   \n",
       "850   ETCHIALI Abdelhak (ALG)   255957  300186502                BRA   \n",
       "851      Andrea STEFANI (ITA)   255959  300186501                GER   \n",
       "\n",
       "    Away Team Initials  \n",
       "847                CRC  \n",
       "848                GER  \n",
       "849                ARG  \n",
       "850                NED  \n",
       "851                ARG  "
      ]
     },
     "execution_count": 7,
     "metadata": {},
     "output_type": "execute_result"
    }
   ],
   "source": [
    "matches.tail()"
   ]
  },
  {
   "cell_type": "code",
   "execution_count": 8,
   "metadata": {
    "execution": {
     "iopub.execute_input": "2022-11-21T06:55:02.852402Z",
     "iopub.status.busy": "2022-11-21T06:55:02.852027Z",
     "iopub.status.idle": "2022-11-21T06:55:02.873841Z",
     "shell.execute_reply": "2022-11-21T06:55:02.872790Z",
     "shell.execute_reply.started": "2022-11-21T06:55:02.852368Z"
    }
   },
   "outputs": [
    {
     "data": {
      "text/html": [
       "<div>\n",
       "<style scoped>\n",
       "    .dataframe tbody tr th:only-of-type {\n",
       "        vertical-align: middle;\n",
       "    }\n",
       "\n",
       "    .dataframe tbody tr th {\n",
       "        vertical-align: top;\n",
       "    }\n",
       "\n",
       "    .dataframe thead th {\n",
       "        text-align: right;\n",
       "    }\n",
       "</style>\n",
       "<table border=\"1\" class=\"dataframe\">\n",
       "  <thead>\n",
       "    <tr style=\"text-align: right;\">\n",
       "      <th></th>\n",
       "      <th>Year</th>\n",
       "      <th>Country</th>\n",
       "      <th>Winner</th>\n",
       "      <th>Runners-Up</th>\n",
       "      <th>Third</th>\n",
       "      <th>Fourth</th>\n",
       "      <th>GoalsScored</th>\n",
       "      <th>QualifiedTeams</th>\n",
       "      <th>MatchesPlayed</th>\n",
       "      <th>Attendance</th>\n",
       "    </tr>\n",
       "  </thead>\n",
       "  <tbody>\n",
       "    <tr>\n",
       "      <th>0</th>\n",
       "      <td>1930</td>\n",
       "      <td>Uruguay</td>\n",
       "      <td>Uruguay</td>\n",
       "      <td>Argentina</td>\n",
       "      <td>USA</td>\n",
       "      <td>Yugoslavia</td>\n",
       "      <td>70</td>\n",
       "      <td>13</td>\n",
       "      <td>18</td>\n",
       "      <td>590549</td>\n",
       "    </tr>\n",
       "    <tr>\n",
       "      <th>1</th>\n",
       "      <td>1934</td>\n",
       "      <td>Italy</td>\n",
       "      <td>Italy</td>\n",
       "      <td>Czechoslovakia</td>\n",
       "      <td>Germany</td>\n",
       "      <td>Austria</td>\n",
       "      <td>70</td>\n",
       "      <td>16</td>\n",
       "      <td>17</td>\n",
       "      <td>363000</td>\n",
       "    </tr>\n",
       "    <tr>\n",
       "      <th>2</th>\n",
       "      <td>1938</td>\n",
       "      <td>France</td>\n",
       "      <td>Italy</td>\n",
       "      <td>Hungary</td>\n",
       "      <td>Brazil</td>\n",
       "      <td>Sweden</td>\n",
       "      <td>84</td>\n",
       "      <td>15</td>\n",
       "      <td>18</td>\n",
       "      <td>375700</td>\n",
       "    </tr>\n",
       "    <tr>\n",
       "      <th>3</th>\n",
       "      <td>1950</td>\n",
       "      <td>Brazil</td>\n",
       "      <td>Uruguay</td>\n",
       "      <td>Brazil</td>\n",
       "      <td>Sweden</td>\n",
       "      <td>Spain</td>\n",
       "      <td>88</td>\n",
       "      <td>13</td>\n",
       "      <td>22</td>\n",
       "      <td>1045246</td>\n",
       "    </tr>\n",
       "    <tr>\n",
       "      <th>4</th>\n",
       "      <td>1954</td>\n",
       "      <td>Switzerland</td>\n",
       "      <td>Germany FR</td>\n",
       "      <td>Hungary</td>\n",
       "      <td>Austria</td>\n",
       "      <td>Uruguay</td>\n",
       "      <td>140</td>\n",
       "      <td>16</td>\n",
       "      <td>26</td>\n",
       "      <td>768607</td>\n",
       "    </tr>\n",
       "  </tbody>\n",
       "</table>\n",
       "</div>"
      ],
      "text/plain": [
       "   Year      Country      Winner      Runners-Up    Third      Fourth  \\\n",
       "0  1930      Uruguay     Uruguay       Argentina      USA  Yugoslavia   \n",
       "1  1934        Italy       Italy  Czechoslovakia  Germany     Austria   \n",
       "2  1938       France       Italy         Hungary   Brazil      Sweden   \n",
       "3  1950       Brazil     Uruguay          Brazil   Sweden       Spain   \n",
       "4  1954  Switzerland  Germany FR         Hungary  Austria     Uruguay   \n",
       "\n",
       "   GoalsScored  QualifiedTeams  MatchesPlayed  Attendance  \n",
       "0           70              13             18      590549  \n",
       "1           70              16             17      363000  \n",
       "2           84              15             18      375700  \n",
       "3           88              13             22     1045246  \n",
       "4          140              16             26      768607  "
      ]
     },
     "execution_count": 8,
     "metadata": {},
     "output_type": "execute_result"
    }
   ],
   "source": [
    "world_cup.head()"
   ]
  },
  {
   "cell_type": "markdown",
   "metadata": {},
   "source": [
    "# Data Cleaning"
   ]
  },
  {
   "cell_type": "code",
   "execution_count": 9,
   "metadata": {
    "execution": {
     "iopub.execute_input": "2022-11-21T06:55:02.875568Z",
     "iopub.status.busy": "2022-11-21T06:55:02.875203Z",
     "iopub.status.idle": "2022-11-21T06:55:02.898205Z",
     "shell.execute_reply": "2022-11-21T06:55:02.896828Z",
     "shell.execute_reply.started": "2022-11-21T06:55:02.875538Z"
    }
   },
   "outputs": [],
   "source": [
    "matches.dropna(subset=['Year'], inplace=True)"
   ]
  },
  {
   "cell_type": "code",
   "execution_count": 10,
   "metadata": {
    "execution": {
     "iopub.execute_input": "2022-11-21T06:55:02.900950Z",
     "iopub.status.busy": "2022-11-21T06:55:02.900270Z",
     "iopub.status.idle": "2022-11-21T06:55:02.935277Z",
     "shell.execute_reply": "2022-11-21T06:55:02.933496Z",
     "shell.execute_reply.started": "2022-11-21T06:55:02.900904Z"
    }
   },
   "outputs": [
    {
     "data": {
      "text/html": [
       "<div>\n",
       "<style scoped>\n",
       "    .dataframe tbody tr th:only-of-type {\n",
       "        vertical-align: middle;\n",
       "    }\n",
       "\n",
       "    .dataframe tbody tr th {\n",
       "        vertical-align: top;\n",
       "    }\n",
       "\n",
       "    .dataframe thead th {\n",
       "        text-align: right;\n",
       "    }\n",
       "</style>\n",
       "<table border=\"1\" class=\"dataframe\">\n",
       "  <thead>\n",
       "    <tr style=\"text-align: right;\">\n",
       "      <th></th>\n",
       "      <th>Year</th>\n",
       "      <th>Datetime</th>\n",
       "      <th>Stage</th>\n",
       "      <th>Stadium</th>\n",
       "      <th>City</th>\n",
       "      <th>Home Team Name</th>\n",
       "      <th>Home Team Goals</th>\n",
       "      <th>Away Team Goals</th>\n",
       "      <th>Away Team Name</th>\n",
       "      <th>Win conditions</th>\n",
       "      <th>Attendance</th>\n",
       "      <th>Half-time Home Goals</th>\n",
       "      <th>Half-time Away Goals</th>\n",
       "      <th>Referee</th>\n",
       "      <th>Assistant 1</th>\n",
       "      <th>Assistant 2</th>\n",
       "      <th>RoundID</th>\n",
       "      <th>MatchID</th>\n",
       "      <th>Home Team Initials</th>\n",
       "      <th>Away Team Initials</th>\n",
       "    </tr>\n",
       "  </thead>\n",
       "  <tbody>\n",
       "    <tr>\n",
       "      <th>847</th>\n",
       "      <td>2014</td>\n",
       "      <td>05 Jul 2014 - 17:00</td>\n",
       "      <td>Quarter-finals</td>\n",
       "      <td>Arena Fonte Nova</td>\n",
       "      <td>Salvador</td>\n",
       "      <td>Netherlands</td>\n",
       "      <td>0</td>\n",
       "      <td>0</td>\n",
       "      <td>Costa Rica</td>\n",
       "      <td>Netherlands win on penalties (4 - 3)</td>\n",
       "      <td>51179.0</td>\n",
       "      <td>0</td>\n",
       "      <td>0</td>\n",
       "      <td>Ravshan IRMATOV (UZB)</td>\n",
       "      <td>RASULOV Abduxamidullo (UZB)</td>\n",
       "      <td>KOCHKAROV Bakhadyr (KGZ)</td>\n",
       "      <td>255953</td>\n",
       "      <td>300186488</td>\n",
       "      <td>NED</td>\n",
       "      <td>CRC</td>\n",
       "    </tr>\n",
       "    <tr>\n",
       "      <th>848</th>\n",
       "      <td>2014</td>\n",
       "      <td>08 Jul 2014 - 17:00</td>\n",
       "      <td>Semi-finals</td>\n",
       "      <td>Estadio Mineirao</td>\n",
       "      <td>Belo Horizonte</td>\n",
       "      <td>Brazil</td>\n",
       "      <td>1</td>\n",
       "      <td>7</td>\n",
       "      <td>Germany</td>\n",
       "      <td></td>\n",
       "      <td>58141.0</td>\n",
       "      <td>0</td>\n",
       "      <td>5</td>\n",
       "      <td>RODRIGUEZ Marco (MEX)</td>\n",
       "      <td>TORRENTERA Marvin (MEX)</td>\n",
       "      <td>QUINTERO Marcos (MEX)</td>\n",
       "      <td>255955</td>\n",
       "      <td>300186474</td>\n",
       "      <td>BRA</td>\n",
       "      <td>GER</td>\n",
       "    </tr>\n",
       "    <tr>\n",
       "      <th>849</th>\n",
       "      <td>2014</td>\n",
       "      <td>09 Jul 2014 - 17:00</td>\n",
       "      <td>Semi-finals</td>\n",
       "      <td>Arena de Sao Paulo</td>\n",
       "      <td>Sao Paulo</td>\n",
       "      <td>Netherlands</td>\n",
       "      <td>0</td>\n",
       "      <td>0</td>\n",
       "      <td>Argentina</td>\n",
       "      <td>Argentina win on penalties (2 - 4)</td>\n",
       "      <td>63267.0</td>\n",
       "      <td>0</td>\n",
       "      <td>0</td>\n",
       "      <td>C neyt  AKIR (TUR)</td>\n",
       "      <td>DURAN Bahattin (TUR)</td>\n",
       "      <td>ONGUN Tarik (TUR)</td>\n",
       "      <td>255955</td>\n",
       "      <td>300186490</td>\n",
       "      <td>NED</td>\n",
       "      <td>ARG</td>\n",
       "    </tr>\n",
       "    <tr>\n",
       "      <th>850</th>\n",
       "      <td>2014</td>\n",
       "      <td>12 Jul 2014 - 17:00</td>\n",
       "      <td>Play-off for third place</td>\n",
       "      <td>Estadio Nacional</td>\n",
       "      <td>Brasilia</td>\n",
       "      <td>Brazil</td>\n",
       "      <td>0</td>\n",
       "      <td>3</td>\n",
       "      <td>Netherlands</td>\n",
       "      <td></td>\n",
       "      <td>68034.0</td>\n",
       "      <td>0</td>\n",
       "      <td>2</td>\n",
       "      <td>HAIMOUDI Djamel (ALG)</td>\n",
       "      <td>ACHIK Redouane (MAR)</td>\n",
       "      <td>ETCHIALI Abdelhak (ALG)</td>\n",
       "      <td>255957</td>\n",
       "      <td>300186502</td>\n",
       "      <td>BRA</td>\n",
       "      <td>NED</td>\n",
       "    </tr>\n",
       "    <tr>\n",
       "      <th>851</th>\n",
       "      <td>2014</td>\n",
       "      <td>13 Jul 2014 - 16:00</td>\n",
       "      <td>Final</td>\n",
       "      <td>Estadio do Maracana</td>\n",
       "      <td>Rio De Janeiro</td>\n",
       "      <td>Germany</td>\n",
       "      <td>1</td>\n",
       "      <td>0</td>\n",
       "      <td>Argentina</td>\n",
       "      <td>Germany win after extra time</td>\n",
       "      <td>74738.0</td>\n",
       "      <td>0</td>\n",
       "      <td>0</td>\n",
       "      <td>Nicola RIZZOLI (ITA)</td>\n",
       "      <td>Renato FAVERANI (ITA)</td>\n",
       "      <td>Andrea STEFANI (ITA)</td>\n",
       "      <td>255959</td>\n",
       "      <td>300186501</td>\n",
       "      <td>GER</td>\n",
       "      <td>ARG</td>\n",
       "    </tr>\n",
       "  </tbody>\n",
       "</table>\n",
       "</div>"
      ],
      "text/plain": [
       "     Year              Datetime                     Stage  \\\n",
       "847  2014  05 Jul 2014 - 17:00             Quarter-finals   \n",
       "848  2014  08 Jul 2014 - 17:00                Semi-finals   \n",
       "849  2014  09 Jul 2014 - 17:00                Semi-finals   \n",
       "850  2014  12 Jul 2014 - 17:00   Play-off for third place   \n",
       "851  2014  13 Jul 2014 - 16:00                      Final   \n",
       "\n",
       "                 Stadium             City Home Team Name  Home Team Goals  \\\n",
       "847     Arena Fonte Nova        Salvador     Netherlands                0   \n",
       "848     Estadio Mineirao  Belo Horizonte          Brazil                1   \n",
       "849   Arena de Sao Paulo       Sao Paulo     Netherlands                0   \n",
       "850     Estadio Nacional        Brasilia          Brazil                0   \n",
       "851  Estadio do Maracana  Rio De Janeiro         Germany                1   \n",
       "\n",
       "     Away Team Goals Away Team Name                         Win conditions  \\\n",
       "847                0     Costa Rica  Netherlands win on penalties (4 - 3)    \n",
       "848                7        Germany                                          \n",
       "849                0      Argentina    Argentina win on penalties (2 - 4)    \n",
       "850                3    Netherlands                                          \n",
       "851                0      Argentina          Germany win after extra time    \n",
       "\n",
       "     Attendance  Half-time Home Goals  Half-time Away Goals  \\\n",
       "847     51179.0                     0                     0   \n",
       "848     58141.0                     0                     5   \n",
       "849     63267.0                     0                     0   \n",
       "850     68034.0                     0                     2   \n",
       "851     74738.0                     0                     0   \n",
       "\n",
       "                   Referee                  Assistant 1  \\\n",
       "847  Ravshan IRMATOV (UZB)  RASULOV Abduxamidullo (UZB)   \n",
       "848  RODRIGUEZ Marco (MEX)      TORRENTERA Marvin (MEX)   \n",
       "849     C neyt  AKIR (TUR)         DURAN Bahattin (TUR)   \n",
       "850  HAIMOUDI Djamel (ALG)         ACHIK Redouane (MAR)   \n",
       "851   Nicola RIZZOLI (ITA)        Renato FAVERANI (ITA)   \n",
       "\n",
       "                  Assistant 2  RoundID    MatchID Home Team Initials  \\\n",
       "847  KOCHKAROV Bakhadyr (KGZ)   255953  300186488                NED   \n",
       "848     QUINTERO Marcos (MEX)   255955  300186474                BRA   \n",
       "849         ONGUN Tarik (TUR)   255955  300186490                NED   \n",
       "850   ETCHIALI Abdelhak (ALG)   255957  300186502                BRA   \n",
       "851      Andrea STEFANI (ITA)   255959  300186501                GER   \n",
       "\n",
       "    Away Team Initials  \n",
       "847                CRC  \n",
       "848                GER  \n",
       "849                ARG  \n",
       "850                NED  \n",
       "851                ARG  "
      ]
     },
     "execution_count": 10,
     "metadata": {},
     "output_type": "execute_result"
    }
   ],
   "source": [
    "matches.tail()"
   ]
  },
  {
   "cell_type": "code",
   "execution_count": 11,
   "metadata": {
    "execution": {
     "iopub.execute_input": "2022-11-21T06:55:02.938801Z",
     "iopub.status.busy": "2022-11-21T06:55:02.937597Z",
     "iopub.status.idle": "2022-11-21T06:55:02.955572Z",
     "shell.execute_reply": "2022-11-21T06:55:02.954227Z",
     "shell.execute_reply.started": "2022-11-21T06:55:02.938625Z"
    }
   },
   "outputs": [
    {
     "data": {
      "text/plain": [
       "Brazil                       82\n",
       "Italy                        57\n",
       "Argentina                    54\n",
       "Germany FR                   43\n",
       "England                      35\n",
       "                             ..\n",
       "rn\">Serbia and Montenegro     1\n",
       "Iran                          1\n",
       "Norway                        1\n",
       "China PR                      1\n",
       "Wales                         1\n",
       "Name: Home Team Name, Length: 78, dtype: int64"
      ]
     },
     "execution_count": 11,
     "metadata": {},
     "output_type": "execute_result"
    }
   ],
   "source": [
    "matches['Home Team Name'].value_counts()"
   ]
  },
  {
   "cell_type": "code",
   "execution_count": 12,
   "metadata": {
    "execution": {
     "iopub.execute_input": "2022-11-21T06:55:02.957759Z",
     "iopub.status.busy": "2022-11-21T06:55:02.957300Z",
     "iopub.status.idle": "2022-11-21T06:55:02.969571Z",
     "shell.execute_reply": "2022-11-21T06:55:02.968187Z",
     "shell.execute_reply.started": "2022-11-21T06:55:02.957727Z"
    }
   },
   "outputs": [
    {
     "data": {
      "text/plain": [
       "rn\">Republic of Ireland       5\n",
       "rn\">United Arab Emirates      1\n",
       "rn\">Bosnia and Herzegovina    1\n",
       "rn\">Serbia and Montenegro     1\n",
       "rn\">Trinidad and Tobago       1\n",
       "Name: Home Team Name, dtype: int64"
      ]
     },
     "execution_count": 12,
     "metadata": {},
     "output_type": "execute_result"
    }
   ],
   "source": [
    "names = matches[matches['Home Team Name'].str.contains('rn\">')]['Home Team Name'].value_counts()\n",
    "names"
   ]
  },
  {
   "cell_type": "code",
   "execution_count": 13,
   "metadata": {
    "execution": {
     "iopub.execute_input": "2022-11-21T06:55:02.971823Z",
     "iopub.status.busy": "2022-11-21T06:55:02.971470Z",
     "iopub.status.idle": "2022-11-21T06:55:02.983275Z",
     "shell.execute_reply": "2022-11-21T06:55:02.982181Z",
     "shell.execute_reply.started": "2022-11-21T06:55:02.971792Z"
    }
   },
   "outputs": [
    {
     "data": {
      "text/plain": [
       "['rn\">Republic of Ireland',\n",
       " 'rn\">United Arab Emirates',\n",
       " 'rn\">Bosnia and Herzegovina',\n",
       " 'rn\">Serbia and Montenegro',\n",
       " 'rn\">Trinidad and Tobago']"
      ]
     },
     "execution_count": 13,
     "metadata": {},
     "output_type": "execute_result"
    }
   ],
   "source": [
    "wrong = list(names.index)\n",
    "wrong"
   ]
  },
  {
   "cell_type": "code",
   "execution_count": 14,
   "metadata": {
    "execution": {
     "iopub.execute_input": "2022-11-21T06:55:02.985268Z",
     "iopub.status.busy": "2022-11-21T06:55:02.984697Z",
     "iopub.status.idle": "2022-11-21T06:55:02.998757Z",
     "shell.execute_reply": "2022-11-21T06:55:02.997671Z",
     "shell.execute_reply.started": "2022-11-21T06:55:02.985231Z"
    }
   },
   "outputs": [
    {
     "data": {
      "text/plain": [
       "['Republic of Ireland',\n",
       " 'United Arab Emirates',\n",
       " 'Bosnia and Herzegovina',\n",
       " 'Serbia and Montenegro',\n",
       " 'Trinidad and Tobago']"
      ]
     },
     "execution_count": 14,
     "metadata": {},
     "output_type": "execute_result"
    }
   ],
   "source": [
    "correct = [name.split('>')[1] for name in wrong]\n",
    "correct"
   ]
  },
  {
   "cell_type": "code",
   "execution_count": 15,
   "metadata": {
    "execution": {
     "iopub.execute_input": "2022-11-21T06:55:03.000571Z",
     "iopub.status.busy": "2022-11-21T06:55:03.000238Z",
     "iopub.status.idle": "2022-11-21T06:55:03.011234Z",
     "shell.execute_reply": "2022-11-21T06:55:03.010289Z",
     "shell.execute_reply.started": "2022-11-21T06:55:03.000540Z"
    }
   },
   "outputs": [],
   "source": [
    "old_name = ['Germany FR', 'Maracan� - Est�dio Jornalista M�rio Filho', 'Estadio do Maracana']\n",
    "new_name = ['Germany', 'Maracan Stadium', 'Maracan Stadium']"
   ]
  },
  {
   "cell_type": "code",
   "execution_count": 16,
   "metadata": {
    "execution": {
     "iopub.execute_input": "2022-11-21T06:55:03.012757Z",
     "iopub.status.busy": "2022-11-21T06:55:03.012324Z",
     "iopub.status.idle": "2022-11-21T06:55:03.024556Z",
     "shell.execute_reply": "2022-11-21T06:55:03.023389Z",
     "shell.execute_reply.started": "2022-11-21T06:55:03.012726Z"
    }
   },
   "outputs": [],
   "source": [
    "wrong = wrong + old_name\n",
    "correct = correct + new_name"
   ]
  },
  {
   "cell_type": "code",
   "execution_count": 17,
   "metadata": {
    "execution": {
     "iopub.execute_input": "2022-11-21T06:55:03.027667Z",
     "iopub.status.busy": "2022-11-21T06:55:03.027174Z",
     "iopub.status.idle": "2022-11-21T06:55:03.044156Z",
     "shell.execute_reply": "2022-11-21T06:55:03.043208Z",
     "shell.execute_reply.started": "2022-11-21T06:55:03.027620Z"
    }
   },
   "outputs": [
    {
     "data": {
      "text/plain": [
       "(['rn\">Republic of Ireland',\n",
       "  'rn\">United Arab Emirates',\n",
       "  'rn\">Bosnia and Herzegovina',\n",
       "  'rn\">Serbia and Montenegro',\n",
       "  'rn\">Trinidad and Tobago',\n",
       "  'Germany FR',\n",
       "  'Maracan� - Est�dio Jornalista M�rio Filho',\n",
       "  'Estadio do Maracana'],\n",
       " ['Republic of Ireland',\n",
       "  'United Arab Emirates',\n",
       "  'Bosnia and Herzegovina',\n",
       "  'Serbia and Montenegro',\n",
       "  'Trinidad and Tobago',\n",
       "  'Germany',\n",
       "  'Maracan Stadium',\n",
       "  'Maracan Stadium'])"
      ]
     },
     "execution_count": 17,
     "metadata": {},
     "output_type": "execute_result"
    }
   ],
   "source": [
    "wrong, correct"
   ]
  },
  {
   "cell_type": "code",
   "execution_count": 18,
   "metadata": {
    "execution": {
     "iopub.execute_input": "2022-11-21T06:55:03.045844Z",
     "iopub.status.busy": "2022-11-21T06:55:03.045388Z",
     "iopub.status.idle": "2022-11-21T06:55:03.142307Z",
     "shell.execute_reply": "2022-11-21T06:55:03.141209Z",
     "shell.execute_reply.started": "2022-11-21T06:55:03.045810Z"
    }
   },
   "outputs": [],
   "source": [
    "for index, wr in enumerate(wrong):\n",
    "    world_cup = world_cup.replace(wrong[index], correct[index])\n",
    "    \n",
    "for index, wr in enumerate(wrong):\n",
    "    matches = matches.replace(wrong[index], correct[index])\n",
    "    \n",
    "for index, wr in enumerate(wrong):\n",
    "    players = players.replace(wrong[index], correct[index])"
   ]
  },
  {
   "cell_type": "code",
   "execution_count": 19,
   "metadata": {
    "execution": {
     "iopub.execute_input": "2022-11-21T06:55:03.144078Z",
     "iopub.status.busy": "2022-11-21T06:55:03.143752Z",
     "iopub.status.idle": "2022-11-21T06:55:03.157473Z",
     "shell.execute_reply": "2022-11-21T06:55:03.156203Z",
     "shell.execute_reply.started": "2022-11-21T06:55:03.144029Z"
    }
   },
   "outputs": [
    {
     "data": {
      "text/plain": [
       "Series([], Name: Home Team Name, dtype: int64)"
      ]
     },
     "execution_count": 19,
     "metadata": {},
     "output_type": "execute_result"
    }
   ],
   "source": [
    "names = matches[matches['Home Team Name'].str.contains('rn\">')]['Home Team Name'].value_counts()\n",
    "names"
   ]
  },
  {
   "cell_type": "markdown",
   "metadata": {},
   "source": [
    "# Most Number of World Cup Winning Title"
   ]
  },
  {
   "cell_type": "code",
   "execution_count": 20,
   "metadata": {
    "execution": {
     "iopub.execute_input": "2022-11-21T06:55:03.159522Z",
     "iopub.status.busy": "2022-11-21T06:55:03.159051Z",
     "iopub.status.idle": "2022-11-21T06:55:03.170676Z",
     "shell.execute_reply": "2022-11-21T06:55:03.169717Z",
     "shell.execute_reply.started": "2022-11-21T06:55:03.159479Z"
    }
   },
   "outputs": [
    {
     "data": {
      "text/plain": [
       "Brazil       5\n",
       "Germany      4\n",
       "Italy        4\n",
       "Argentina    2\n",
       "Uruguay      2\n",
       "France       1\n",
       "England      1\n",
       "Spain        1\n",
       "Name: Winner, dtype: int64"
      ]
     },
     "execution_count": 20,
     "metadata": {},
     "output_type": "execute_result"
    }
   ],
   "source": [
    "winner = world_cup['Winner'].value_counts()\n",
    "winner"
   ]
  },
  {
   "cell_type": "code",
   "execution_count": 21,
   "metadata": {
    "execution": {
     "iopub.execute_input": "2022-11-21T06:55:03.172382Z",
     "iopub.status.busy": "2022-11-21T06:55:03.172053Z",
     "iopub.status.idle": "2022-11-21T06:55:03.187020Z",
     "shell.execute_reply": "2022-11-21T06:55:03.185808Z",
     "shell.execute_reply.started": "2022-11-21T06:55:03.172353Z"
    }
   },
   "outputs": [
    {
     "data": {
      "text/plain": [
       "Germany           4\n",
       "Argentina         3\n",
       "Netherlands       3\n",
       "Italy             2\n",
       "Hungary           2\n",
       "Czechoslovakia    2\n",
       "Brazil            2\n",
       "France            1\n",
       "Sweden            1\n",
       "Name: Runners-Up, dtype: int64"
      ]
     },
     "execution_count": 21,
     "metadata": {},
     "output_type": "execute_result"
    }
   ],
   "source": [
    "runnerup = world_cup['Runners-Up'].value_counts()\n",
    "runnerup"
   ]
  },
  {
   "cell_type": "code",
   "execution_count": 22,
   "metadata": {
    "execution": {
     "iopub.execute_input": "2022-11-21T06:55:03.189415Z",
     "iopub.status.busy": "2022-11-21T06:55:03.188879Z",
     "iopub.status.idle": "2022-11-21T06:55:03.201767Z",
     "shell.execute_reply": "2022-11-21T06:55:03.200736Z",
     "shell.execute_reply.started": "2022-11-21T06:55:03.189366Z"
    }
   },
   "outputs": [
    {
     "data": {
      "text/plain": [
       "Germany        4\n",
       "Brazil         2\n",
       "Sweden         2\n",
       "Poland         2\n",
       "France         2\n",
       "Italy          1\n",
       "Chile          1\n",
       "Portugal       1\n",
       "Croatia        1\n",
       "Turkey         1\n",
       "Austria        1\n",
       "USA            1\n",
       "Netherlands    1\n",
       "Name: Third, dtype: int64"
      ]
     },
     "execution_count": 22,
     "metadata": {},
     "output_type": "execute_result"
    }
   ],
   "source": [
    "third = world_cup['Third'].value_counts()\n",
    "third"
   ]
  },
  {
   "cell_type": "code",
   "execution_count": 23,
   "metadata": {
    "execution": {
     "iopub.execute_input": "2022-11-21T06:55:03.203789Z",
     "iopub.status.busy": "2022-11-21T06:55:03.203435Z",
     "iopub.status.idle": "2022-11-21T06:55:03.221344Z",
     "shell.execute_reply": "2022-11-21T06:55:03.220144Z",
     "shell.execute_reply.started": "2022-11-21T06:55:03.203708Z"
    }
   },
   "outputs": [
    {
     "data": {
      "text/html": [
       "<div>\n",
       "<style scoped>\n",
       "    .dataframe tbody tr th:only-of-type {\n",
       "        vertical-align: middle;\n",
       "    }\n",
       "\n",
       "    .dataframe tbody tr th {\n",
       "        vertical-align: top;\n",
       "    }\n",
       "\n",
       "    .dataframe thead th {\n",
       "        text-align: right;\n",
       "    }\n",
       "</style>\n",
       "<table border=\"1\" class=\"dataframe\">\n",
       "  <thead>\n",
       "    <tr style=\"text-align: right;\">\n",
       "      <th></th>\n",
       "      <th>Winner</th>\n",
       "      <th>Runners-Up</th>\n",
       "      <th>Third</th>\n",
       "    </tr>\n",
       "  </thead>\n",
       "  <tbody>\n",
       "    <tr>\n",
       "      <th>Brazil</th>\n",
       "      <td>5</td>\n",
       "      <td>2</td>\n",
       "      <td>2</td>\n",
       "    </tr>\n",
       "    <tr>\n",
       "      <th>Germany</th>\n",
       "      <td>4</td>\n",
       "      <td>4</td>\n",
       "      <td>4</td>\n",
       "    </tr>\n",
       "    <tr>\n",
       "      <th>Italy</th>\n",
       "      <td>4</td>\n",
       "      <td>2</td>\n",
       "      <td>1</td>\n",
       "    </tr>\n",
       "    <tr>\n",
       "      <th>Argentina</th>\n",
       "      <td>2</td>\n",
       "      <td>3</td>\n",
       "      <td>0</td>\n",
       "    </tr>\n",
       "    <tr>\n",
       "      <th>Uruguay</th>\n",
       "      <td>2</td>\n",
       "      <td>0</td>\n",
       "      <td>0</td>\n",
       "    </tr>\n",
       "    <tr>\n",
       "      <th>France</th>\n",
       "      <td>1</td>\n",
       "      <td>1</td>\n",
       "      <td>2</td>\n",
       "    </tr>\n",
       "    <tr>\n",
       "      <th>England</th>\n",
       "      <td>1</td>\n",
       "      <td>0</td>\n",
       "      <td>0</td>\n",
       "    </tr>\n",
       "    <tr>\n",
       "      <th>Spain</th>\n",
       "      <td>1</td>\n",
       "      <td>0</td>\n",
       "      <td>0</td>\n",
       "    </tr>\n",
       "    <tr>\n",
       "      <th>Netherlands</th>\n",
       "      <td>0</td>\n",
       "      <td>3</td>\n",
       "      <td>1</td>\n",
       "    </tr>\n",
       "    <tr>\n",
       "      <th>Hungary</th>\n",
       "      <td>0</td>\n",
       "      <td>2</td>\n",
       "      <td>0</td>\n",
       "    </tr>\n",
       "    <tr>\n",
       "      <th>Czechoslovakia</th>\n",
       "      <td>0</td>\n",
       "      <td>2</td>\n",
       "      <td>0</td>\n",
       "    </tr>\n",
       "    <tr>\n",
       "      <th>Sweden</th>\n",
       "      <td>0</td>\n",
       "      <td>1</td>\n",
       "      <td>2</td>\n",
       "    </tr>\n",
       "    <tr>\n",
       "      <th>Poland</th>\n",
       "      <td>0</td>\n",
       "      <td>0</td>\n",
       "      <td>2</td>\n",
       "    </tr>\n",
       "    <tr>\n",
       "      <th>Chile</th>\n",
       "      <td>0</td>\n",
       "      <td>0</td>\n",
       "      <td>1</td>\n",
       "    </tr>\n",
       "    <tr>\n",
       "      <th>Portugal</th>\n",
       "      <td>0</td>\n",
       "      <td>0</td>\n",
       "      <td>1</td>\n",
       "    </tr>\n",
       "    <tr>\n",
       "      <th>Croatia</th>\n",
       "      <td>0</td>\n",
       "      <td>0</td>\n",
       "      <td>1</td>\n",
       "    </tr>\n",
       "    <tr>\n",
       "      <th>Turkey</th>\n",
       "      <td>0</td>\n",
       "      <td>0</td>\n",
       "      <td>1</td>\n",
       "    </tr>\n",
       "    <tr>\n",
       "      <th>Austria</th>\n",
       "      <td>0</td>\n",
       "      <td>0</td>\n",
       "      <td>1</td>\n",
       "    </tr>\n",
       "    <tr>\n",
       "      <th>USA</th>\n",
       "      <td>0</td>\n",
       "      <td>0</td>\n",
       "      <td>1</td>\n",
       "    </tr>\n",
       "  </tbody>\n",
       "</table>\n",
       "</div>"
      ],
      "text/plain": [
       "                Winner  Runners-Up  Third\n",
       "Brazil               5           2      2\n",
       "Germany              4           4      4\n",
       "Italy                4           2      1\n",
       "Argentina            2           3      0\n",
       "Uruguay              2           0      0\n",
       "France               1           1      2\n",
       "England              1           0      0\n",
       "Spain                1           0      0\n",
       "Netherlands          0           3      1\n",
       "Hungary              0           2      0\n",
       "Czechoslovakia       0           2      0\n",
       "Sweden               0           1      2\n",
       "Poland               0           0      2\n",
       "Chile                0           0      1\n",
       "Portugal             0           0      1\n",
       "Croatia              0           0      1\n",
       "Turkey               0           0      1\n",
       "Austria              0           0      1\n",
       "USA                  0           0      1"
      ]
     },
     "execution_count": 23,
     "metadata": {},
     "output_type": "execute_result"
    }
   ],
   "source": [
    "teams = pd.concat([winner, runnerup, third], axis=1)\n",
    "teams.fillna(0, inplace=True)\n",
    "teams = teams.astype(int)\n",
    "teams"
   ]
  },
  {
   "cell_type": "code",
   "execution_count": 24,
   "metadata": {
    "execution": {
     "iopub.execute_input": "2022-11-21T06:55:03.223514Z",
     "iopub.status.busy": "2022-11-21T06:55:03.222994Z",
     "iopub.status.idle": "2022-11-21T06:55:03.295761Z",
     "shell.execute_reply": "2022-11-21T06:55:03.294644Z",
     "shell.execute_reply.started": "2022-11-21T06:55:03.223472Z"
    }
   },
   "outputs": [
    {
     "data": {
      "text/html": [
       "        <script type=\"text/javascript\">\n",
       "        window.PlotlyConfig = {MathJaxConfig: 'local'};\n",
       "        if (window.MathJax && window.MathJax.Hub && window.MathJax.Hub.Config) {window.MathJax.Hub.Config({SVG: {font: \"STIX-Web\"}});}\n",
       "        if (typeof require !== 'undefined') {\n",
       "        require.undef(\"plotly\");\n",
       "        requirejs.config({\n",
       "            paths: {\n",
       "                'plotly': ['https://cdn.plot.ly/plotly-2.16.1.min']\n",
       "            }\n",
       "        });\n",
       "        require(['plotly'], function(Plotly) {\n",
       "            window._Plotly = Plotly;\n",
       "        });\n",
       "        }\n",
       "        </script>\n",
       "        "
      ]
     },
     "metadata": {},
     "output_type": "display_data"
    },
    {
     "ename": "NameError",
     "evalue": "name 'cf' is not defined",
     "output_type": "error",
     "traceback": [
      "\u001b[1;31m---------------------------------------------------------------------------\u001b[0m",
      "\u001b[1;31mNameError\u001b[0m                                 Traceback (most recent call last)",
      "\u001b[1;32m<ipython-input-24-f87bc6693f61>\u001b[0m in \u001b[0;36m<module>\u001b[1;34m\u001b[0m\n\u001b[0;32m      1\u001b[0m \u001b[1;32mfrom\u001b[0m \u001b[0mplotly\u001b[0m\u001b[1;33m.\u001b[0m\u001b[0moffline\u001b[0m \u001b[1;32mimport\u001b[0m \u001b[0miplot\u001b[0m\u001b[1;33m\u001b[0m\u001b[1;33m\u001b[0m\u001b[0m\n\u001b[0;32m      2\u001b[0m \u001b[0mpy\u001b[0m\u001b[1;33m.\u001b[0m\u001b[0moffline\u001b[0m\u001b[1;33m.\u001b[0m\u001b[0minit_notebook_mode\u001b[0m\u001b[1;33m(\u001b[0m\u001b[0mconnected\u001b[0m\u001b[1;33m=\u001b[0m\u001b[1;32mTrue\u001b[0m\u001b[1;33m)\u001b[0m\u001b[1;33m\u001b[0m\u001b[1;33m\u001b[0m\u001b[0m\n\u001b[1;32m----> 3\u001b[1;33m \u001b[0mcf\u001b[0m\u001b[1;33m.\u001b[0m\u001b[0mgo_offline\u001b[0m\u001b[1;33m(\u001b[0m\u001b[1;33m)\u001b[0m\u001b[1;33m\u001b[0m\u001b[1;33m\u001b[0m\u001b[0m\n\u001b[0m",
      "\u001b[1;31mNameError\u001b[0m: name 'cf' is not defined"
     ]
    }
   ],
   "source": [
    "from plotly.offline import iplot\n",
    "py.offline.init_notebook_mode(connected=True)\n",
    "cf.go_offline()"
   ]
  },
  {
   "cell_type": "code",
   "execution_count": 25,
   "metadata": {
    "execution": {
     "iopub.execute_input": "2022-11-21T06:55:03.297877Z",
     "iopub.status.busy": "2022-11-21T06:55:03.297432Z",
     "iopub.status.idle": "2022-11-21T06:55:04.165301Z",
     "shell.execute_reply": "2022-11-21T06:55:04.164140Z",
     "shell.execute_reply.started": "2022-11-21T06:55:03.297814Z"
    }
   },
   "outputs": [
    {
     "ename": "AttributeError",
     "evalue": "'DataFrame' object has no attribute 'iplot'",
     "output_type": "error",
     "traceback": [
      "\u001b[1;31m---------------------------------------------------------------------------\u001b[0m",
      "\u001b[1;31mAttributeError\u001b[0m                            Traceback (most recent call last)",
      "\u001b[1;32m<ipython-input-25-acd1522e75be>\u001b[0m in \u001b[0;36m<module>\u001b[1;34m\u001b[0m\n\u001b[1;32m----> 1\u001b[1;33m \u001b[0mteams\u001b[0m\u001b[1;33m.\u001b[0m\u001b[0miplot\u001b[0m\u001b[1;33m(\u001b[0m\u001b[0mkind\u001b[0m \u001b[1;33m=\u001b[0m \u001b[1;34m'bar'\u001b[0m\u001b[1;33m,\u001b[0m \u001b[0mxTitle\u001b[0m\u001b[1;33m=\u001b[0m\u001b[1;34m'Teams'\u001b[0m\u001b[1;33m,\u001b[0m \u001b[0myTitle\u001b[0m\u001b[1;33m=\u001b[0m\u001b[1;34m'Count'\u001b[0m\u001b[1;33m,\u001b[0m \u001b[0mtitle\u001b[0m\u001b[1;33m=\u001b[0m\u001b[1;34m'FIFA World Cup Winning Count'\u001b[0m\u001b[1;33m)\u001b[0m\u001b[1;33m\u001b[0m\u001b[1;33m\u001b[0m\u001b[0m\n\u001b[0m",
      "\u001b[1;32mD:\\Anaconda\\lib\\site-packages\\pandas\\core\\generic.py\u001b[0m in \u001b[0;36m__getattr__\u001b[1;34m(self, name)\u001b[0m\n\u001b[0;32m   5463\u001b[0m             \u001b[1;32mif\u001b[0m \u001b[0mself\u001b[0m\u001b[1;33m.\u001b[0m\u001b[0m_info_axis\u001b[0m\u001b[1;33m.\u001b[0m\u001b[0m_can_hold_identifiers_and_holds_name\u001b[0m\u001b[1;33m(\u001b[0m\u001b[0mname\u001b[0m\u001b[1;33m)\u001b[0m\u001b[1;33m:\u001b[0m\u001b[1;33m\u001b[0m\u001b[1;33m\u001b[0m\u001b[0m\n\u001b[0;32m   5464\u001b[0m                 \u001b[1;32mreturn\u001b[0m \u001b[0mself\u001b[0m\u001b[1;33m[\u001b[0m\u001b[0mname\u001b[0m\u001b[1;33m]\u001b[0m\u001b[1;33m\u001b[0m\u001b[1;33m\u001b[0m\u001b[0m\n\u001b[1;32m-> 5465\u001b[1;33m             \u001b[1;32mreturn\u001b[0m \u001b[0mobject\u001b[0m\u001b[1;33m.\u001b[0m\u001b[0m__getattribute__\u001b[0m\u001b[1;33m(\u001b[0m\u001b[0mself\u001b[0m\u001b[1;33m,\u001b[0m \u001b[0mname\u001b[0m\u001b[1;33m)\u001b[0m\u001b[1;33m\u001b[0m\u001b[1;33m\u001b[0m\u001b[0m\n\u001b[0m\u001b[0;32m   5466\u001b[0m \u001b[1;33m\u001b[0m\u001b[0m\n\u001b[0;32m   5467\u001b[0m     \u001b[1;32mdef\u001b[0m \u001b[0m__setattr__\u001b[0m\u001b[1;33m(\u001b[0m\u001b[0mself\u001b[0m\u001b[1;33m,\u001b[0m \u001b[0mname\u001b[0m\u001b[1;33m:\u001b[0m \u001b[0mstr\u001b[0m\u001b[1;33m,\u001b[0m \u001b[0mvalue\u001b[0m\u001b[1;33m)\u001b[0m \u001b[1;33m->\u001b[0m \u001b[1;32mNone\u001b[0m\u001b[1;33m:\u001b[0m\u001b[1;33m\u001b[0m\u001b[1;33m\u001b[0m\u001b[0m\n",
      "\u001b[1;31mAttributeError\u001b[0m: 'DataFrame' object has no attribute 'iplot'"
     ]
    }
   ],
   "source": [
    "teams.iplot(kind = 'bar', xTitle='Teams', yTitle='Count', title='FIFA World Cup Winning Count')"
   ]
  },
  {
   "cell_type": "markdown",
   "metadata": {},
   "source": [
    "# Number of Goal Per Countary"
   ]
  },
  {
   "cell_type": "code",
   "execution_count": 26,
   "metadata": {
    "execution": {
     "iopub.execute_input": "2022-11-21T06:55:04.167163Z",
     "iopub.status.busy": "2022-11-21T06:55:04.166766Z",
     "iopub.status.idle": "2022-11-21T06:55:04.193531Z",
     "shell.execute_reply": "2022-11-21T06:55:04.192331Z",
     "shell.execute_reply.started": "2022-11-21T06:55:04.167127Z"
    }
   },
   "outputs": [
    {
     "data": {
      "text/html": [
       "<div>\n",
       "<style scoped>\n",
       "    .dataframe tbody tr th:only-of-type {\n",
       "        vertical-align: middle;\n",
       "    }\n",
       "\n",
       "    .dataframe tbody tr th {\n",
       "        vertical-align: top;\n",
       "    }\n",
       "\n",
       "    .dataframe thead th {\n",
       "        text-align: right;\n",
       "    }\n",
       "</style>\n",
       "<table border=\"1\" class=\"dataframe\">\n",
       "  <thead>\n",
       "    <tr style=\"text-align: right;\">\n",
       "      <th></th>\n",
       "      <th>Year</th>\n",
       "      <th>Datetime</th>\n",
       "      <th>Stage</th>\n",
       "      <th>Stadium</th>\n",
       "      <th>City</th>\n",
       "      <th>Home Team Name</th>\n",
       "      <th>Home Team Goals</th>\n",
       "      <th>Away Team Goals</th>\n",
       "      <th>Away Team Name</th>\n",
       "      <th>Win conditions</th>\n",
       "      <th>Attendance</th>\n",
       "      <th>Half-time Home Goals</th>\n",
       "      <th>Half-time Away Goals</th>\n",
       "      <th>Referee</th>\n",
       "      <th>Assistant 1</th>\n",
       "      <th>Assistant 2</th>\n",
       "      <th>RoundID</th>\n",
       "      <th>MatchID</th>\n",
       "      <th>Home Team Initials</th>\n",
       "      <th>Away Team Initials</th>\n",
       "    </tr>\n",
       "  </thead>\n",
       "  <tbody>\n",
       "    <tr>\n",
       "      <th>0</th>\n",
       "      <td>1930</td>\n",
       "      <td>13 Jul 1930 - 15:00</td>\n",
       "      <td>Group 1</td>\n",
       "      <td>Pocitos</td>\n",
       "      <td>Montevideo</td>\n",
       "      <td>France</td>\n",
       "      <td>4</td>\n",
       "      <td>1</td>\n",
       "      <td>Mexico</td>\n",
       "      <td></td>\n",
       "      <td>4444.0</td>\n",
       "      <td>3</td>\n",
       "      <td>0</td>\n",
       "      <td>LOMBARDI Domingo (URU)</td>\n",
       "      <td>CRISTOPHE Henry (BEL)</td>\n",
       "      <td>REGO Gilberto (BRA)</td>\n",
       "      <td>201</td>\n",
       "      <td>1096</td>\n",
       "      <td>FRA</td>\n",
       "      <td>MEX</td>\n",
       "    </tr>\n",
       "    <tr>\n",
       "      <th>1</th>\n",
       "      <td>1930</td>\n",
       "      <td>13 Jul 1930 - 15:00</td>\n",
       "      <td>Group 4</td>\n",
       "      <td>Parque Central</td>\n",
       "      <td>Montevideo</td>\n",
       "      <td>USA</td>\n",
       "      <td>3</td>\n",
       "      <td>0</td>\n",
       "      <td>Belgium</td>\n",
       "      <td></td>\n",
       "      <td>18346.0</td>\n",
       "      <td>2</td>\n",
       "      <td>0</td>\n",
       "      <td>MACIAS Jose (ARG)</td>\n",
       "      <td>MATEUCCI Francisco (URU)</td>\n",
       "      <td>WARNKEN Alberto (CHI)</td>\n",
       "      <td>201</td>\n",
       "      <td>1090</td>\n",
       "      <td>USA</td>\n",
       "      <td>BEL</td>\n",
       "    </tr>\n",
       "  </tbody>\n",
       "</table>\n",
       "</div>"
      ],
      "text/plain": [
       "   Year              Datetime    Stage         Stadium         City  \\\n",
       "0  1930  13 Jul 1930 - 15:00   Group 1         Pocitos  Montevideo    \n",
       "1  1930  13 Jul 1930 - 15:00   Group 4  Parque Central  Montevideo    \n",
       "\n",
       "  Home Team Name  Home Team Goals  Away Team Goals Away Team Name  \\\n",
       "0         France                4                1         Mexico   \n",
       "1            USA                3                0        Belgium   \n",
       "\n",
       "  Win conditions  Attendance  Half-time Home Goals  Half-time Away Goals  \\\n",
       "0                     4444.0                     3                     0   \n",
       "1                    18346.0                     2                     0   \n",
       "\n",
       "                  Referee               Assistant 1            Assistant 2  \\\n",
       "0  LOMBARDI Domingo (URU)     CRISTOPHE Henry (BEL)    REGO Gilberto (BRA)   \n",
       "1       MACIAS Jose (ARG)  MATEUCCI Francisco (URU)  WARNKEN Alberto (CHI)   \n",
       "\n",
       "   RoundID  MatchID Home Team Initials Away Team Initials  \n",
       "0      201     1096                FRA                MEX  \n",
       "1      201     1090                USA                BEL  "
      ]
     },
     "execution_count": 26,
     "metadata": {},
     "output_type": "execute_result"
    }
   ],
   "source": [
    "matches.head(2)"
   ]
  },
  {
   "cell_type": "code",
   "execution_count": 27,
   "metadata": {
    "execution": {
     "iopub.execute_input": "2022-11-21T06:55:04.195574Z",
     "iopub.status.busy": "2022-11-21T06:55:04.195118Z",
     "iopub.status.idle": "2022-11-21T06:55:04.213567Z",
     "shell.execute_reply": "2022-11-21T06:55:04.212311Z",
     "shell.execute_reply.started": "2022-11-21T06:55:04.195541Z"
    }
   },
   "outputs": [],
   "source": [
    "home = matches[['Home Team Name', 'Home Team Goals']].dropna()\n",
    "away = matches[['Away Team Name', 'Away Team Goals']].dropna()"
   ]
  },
  {
   "cell_type": "code",
   "execution_count": 28,
   "metadata": {
    "execution": {
     "iopub.execute_input": "2022-11-21T06:55:04.215382Z",
     "iopub.status.busy": "2022-11-21T06:55:04.215018Z",
     "iopub.status.idle": "2022-11-21T06:55:04.222285Z",
     "shell.execute_reply": "2022-11-21T06:55:04.221287Z",
     "shell.execute_reply.started": "2022-11-21T06:55:04.215346Z"
    }
   },
   "outputs": [],
   "source": [
    "home.columns = ['Countries', 'Goals']\n",
    "away.columns = home.columns"
   ]
  },
  {
   "cell_type": "code",
   "execution_count": 29,
   "metadata": {
    "execution": {
     "iopub.execute_input": "2022-11-21T06:55:04.223760Z",
     "iopub.status.busy": "2022-11-21T06:55:04.223449Z",
     "iopub.status.idle": "2022-11-21T06:55:04.235031Z",
     "shell.execute_reply": "2022-11-21T06:55:04.234185Z",
     "shell.execute_reply.started": "2022-11-21T06:55:04.223728Z"
    }
   },
   "outputs": [],
   "source": [
    "goals = home.append(away, ignore_index = True)"
   ]
  },
  {
   "cell_type": "code",
   "execution_count": 30,
   "metadata": {
    "execution": {
     "iopub.execute_input": "2022-11-21T06:55:04.236995Z",
     "iopub.status.busy": "2022-11-21T06:55:04.236475Z",
     "iopub.status.idle": "2022-11-21T06:55:04.263540Z",
     "shell.execute_reply": "2022-11-21T06:55:04.262451Z",
     "shell.execute_reply.started": "2022-11-21T06:55:04.236959Z"
    }
   },
   "outputs": [
    {
     "data": {
      "text/html": [
       "<div>\n",
       "<style scoped>\n",
       "    .dataframe tbody tr th:only-of-type {\n",
       "        vertical-align: middle;\n",
       "    }\n",
       "\n",
       "    .dataframe tbody tr th {\n",
       "        vertical-align: top;\n",
       "    }\n",
       "\n",
       "    .dataframe thead th {\n",
       "        text-align: right;\n",
       "    }\n",
       "</style>\n",
       "<table border=\"1\" class=\"dataframe\">\n",
       "  <thead>\n",
       "    <tr style=\"text-align: right;\">\n",
       "      <th></th>\n",
       "      <th>Goals</th>\n",
       "    </tr>\n",
       "    <tr>\n",
       "      <th>Countries</th>\n",
       "      <th></th>\n",
       "    </tr>\n",
       "  </thead>\n",
       "  <tbody>\n",
       "    <tr>\n",
       "      <th>Algeria</th>\n",
       "      <td>14</td>\n",
       "    </tr>\n",
       "    <tr>\n",
       "      <th>Angola</th>\n",
       "      <td>1</td>\n",
       "    </tr>\n",
       "    <tr>\n",
       "      <th>Argentina</th>\n",
       "      <td>133</td>\n",
       "    </tr>\n",
       "    <tr>\n",
       "      <th>Australia</th>\n",
       "      <td>11</td>\n",
       "    </tr>\n",
       "    <tr>\n",
       "      <th>Austria</th>\n",
       "      <td>43</td>\n",
       "    </tr>\n",
       "    <tr>\n",
       "      <th>...</th>\n",
       "      <td>...</td>\n",
       "    </tr>\n",
       "    <tr>\n",
       "      <th>United Arab Emirates</th>\n",
       "      <td>2</td>\n",
       "    </tr>\n",
       "    <tr>\n",
       "      <th>Uruguay</th>\n",
       "      <td>80</td>\n",
       "    </tr>\n",
       "    <tr>\n",
       "      <th>Wales</th>\n",
       "      <td>4</td>\n",
       "    </tr>\n",
       "    <tr>\n",
       "      <th>Yugoslavia</th>\n",
       "      <td>60</td>\n",
       "    </tr>\n",
       "    <tr>\n",
       "      <th>Zaire</th>\n",
       "      <td>0</td>\n",
       "    </tr>\n",
       "  </tbody>\n",
       "</table>\n",
       "<p>82 rows × 1 columns</p>\n",
       "</div>"
      ],
      "text/plain": [
       "                      Goals\n",
       "Countries                  \n",
       "Algeria                  14\n",
       "Angola                    1\n",
       "Argentina               133\n",
       "Australia                11\n",
       "Austria                  43\n",
       "...                     ...\n",
       "United Arab Emirates      2\n",
       "Uruguay                  80\n",
       "Wales                     4\n",
       "Yugoslavia               60\n",
       "Zaire                     0\n",
       "\n",
       "[82 rows x 1 columns]"
      ]
     },
     "execution_count": 30,
     "metadata": {},
     "output_type": "execute_result"
    }
   ],
   "source": [
    "goals = goals.groupby('Countries').sum()\n",
    "goals"
   ]
  },
  {
   "cell_type": "code",
   "execution_count": 31,
   "metadata": {
    "execution": {
     "iopub.execute_input": "2022-11-21T06:55:04.265279Z",
     "iopub.status.busy": "2022-11-21T06:55:04.264787Z",
     "iopub.status.idle": "2022-11-21T06:55:04.280148Z",
     "shell.execute_reply": "2022-11-21T06:55:04.278976Z",
     "shell.execute_reply.started": "2022-11-21T06:55:04.265237Z"
    }
   },
   "outputs": [
    {
     "data": {
      "text/html": [
       "<div>\n",
       "<style scoped>\n",
       "    .dataframe tbody tr th:only-of-type {\n",
       "        vertical-align: middle;\n",
       "    }\n",
       "\n",
       "    .dataframe tbody tr th {\n",
       "        vertical-align: top;\n",
       "    }\n",
       "\n",
       "    .dataframe thead th {\n",
       "        text-align: right;\n",
       "    }\n",
       "</style>\n",
       "<table border=\"1\" class=\"dataframe\">\n",
       "  <thead>\n",
       "    <tr style=\"text-align: right;\">\n",
       "      <th></th>\n",
       "      <th>Goals</th>\n",
       "    </tr>\n",
       "    <tr>\n",
       "      <th>Countries</th>\n",
       "      <th></th>\n",
       "    </tr>\n",
       "  </thead>\n",
       "  <tbody>\n",
       "    <tr>\n",
       "      <th>Germany</th>\n",
       "      <td>235</td>\n",
       "    </tr>\n",
       "    <tr>\n",
       "      <th>Brazil</th>\n",
       "      <td>225</td>\n",
       "    </tr>\n",
       "    <tr>\n",
       "      <th>Argentina</th>\n",
       "      <td>133</td>\n",
       "    </tr>\n",
       "    <tr>\n",
       "      <th>Italy</th>\n",
       "      <td>128</td>\n",
       "    </tr>\n",
       "    <tr>\n",
       "      <th>France</th>\n",
       "      <td>108</td>\n",
       "    </tr>\n",
       "    <tr>\n",
       "      <th>...</th>\n",
       "      <td>...</td>\n",
       "    </tr>\n",
       "    <tr>\n",
       "      <th>Trinidad and Tobago</th>\n",
       "      <td>0</td>\n",
       "    </tr>\n",
       "    <tr>\n",
       "      <th>Canada</th>\n",
       "      <td>0</td>\n",
       "    </tr>\n",
       "    <tr>\n",
       "      <th>China PR</th>\n",
       "      <td>0</td>\n",
       "    </tr>\n",
       "    <tr>\n",
       "      <th>Dutch East Indies</th>\n",
       "      <td>0</td>\n",
       "    </tr>\n",
       "    <tr>\n",
       "      <th>Zaire</th>\n",
       "      <td>0</td>\n",
       "    </tr>\n",
       "  </tbody>\n",
       "</table>\n",
       "<p>82 rows × 1 columns</p>\n",
       "</div>"
      ],
      "text/plain": [
       "                     Goals\n",
       "Countries                 \n",
       "Germany                235\n",
       "Brazil                 225\n",
       "Argentina              133\n",
       "Italy                  128\n",
       "France                 108\n",
       "...                    ...\n",
       "Trinidad and Tobago      0\n",
       "Canada                   0\n",
       "China PR                 0\n",
       "Dutch East Indies        0\n",
       "Zaire                    0\n",
       "\n",
       "[82 rows x 1 columns]"
      ]
     },
     "execution_count": 31,
     "metadata": {},
     "output_type": "execute_result"
    }
   ],
   "source": [
    "goals = goals.sort_values(by = 'Goals', ascending=False)\n",
    "goals"
   ]
  },
  {
   "cell_type": "code",
   "execution_count": 32,
   "metadata": {
    "execution": {
     "iopub.execute_input": "2022-11-21T06:55:04.281753Z",
     "iopub.status.busy": "2022-11-21T06:55:04.281353Z",
     "iopub.status.idle": "2022-11-21T06:55:04.337922Z",
     "shell.execute_reply": "2022-11-21T06:55:04.336827Z",
     "shell.execute_reply.started": "2022-11-21T06:55:04.281723Z"
    }
   },
   "outputs": [
    {
     "ename": "AttributeError",
     "evalue": "'DataFrame' object has no attribute 'iplot'",
     "output_type": "error",
     "traceback": [
      "\u001b[1;31m---------------------------------------------------------------------------\u001b[0m",
      "\u001b[1;31mAttributeError\u001b[0m                            Traceback (most recent call last)",
      "\u001b[1;32m<ipython-input-32-4b5a456b8c7a>\u001b[0m in \u001b[0;36m<module>\u001b[1;34m\u001b[0m\n\u001b[1;32m----> 1\u001b[1;33m \u001b[0mgoals\u001b[0m\u001b[1;33m[\u001b[0m\u001b[1;33m:\u001b[0m\u001b[1;36m20\u001b[0m\u001b[1;33m]\u001b[0m\u001b[1;33m.\u001b[0m\u001b[0miplot\u001b[0m\u001b[1;33m(\u001b[0m\u001b[0mkind\u001b[0m\u001b[1;33m=\u001b[0m\u001b[1;34m'bar'\u001b[0m\u001b[1;33m,\u001b[0m \u001b[0mxTitle\u001b[0m \u001b[1;33m=\u001b[0m \u001b[1;34m'Country Names'\u001b[0m\u001b[1;33m,\u001b[0m \u001b[0myTitle\u001b[0m \u001b[1;33m=\u001b[0m \u001b[1;34m'Goals'\u001b[0m\u001b[1;33m,\u001b[0m \u001b[0mtitle\u001b[0m \u001b[1;33m=\u001b[0m \u001b[1;34m'Countries Hits Number of Goals'\u001b[0m\u001b[1;33m)\u001b[0m\u001b[1;33m\u001b[0m\u001b[1;33m\u001b[0m\u001b[0m\n\u001b[0m",
      "\u001b[1;32mD:\\Anaconda\\lib\\site-packages\\pandas\\core\\generic.py\u001b[0m in \u001b[0;36m__getattr__\u001b[1;34m(self, name)\u001b[0m\n\u001b[0;32m   5463\u001b[0m             \u001b[1;32mif\u001b[0m \u001b[0mself\u001b[0m\u001b[1;33m.\u001b[0m\u001b[0m_info_axis\u001b[0m\u001b[1;33m.\u001b[0m\u001b[0m_can_hold_identifiers_and_holds_name\u001b[0m\u001b[1;33m(\u001b[0m\u001b[0mname\u001b[0m\u001b[1;33m)\u001b[0m\u001b[1;33m:\u001b[0m\u001b[1;33m\u001b[0m\u001b[1;33m\u001b[0m\u001b[0m\n\u001b[0;32m   5464\u001b[0m                 \u001b[1;32mreturn\u001b[0m \u001b[0mself\u001b[0m\u001b[1;33m[\u001b[0m\u001b[0mname\u001b[0m\u001b[1;33m]\u001b[0m\u001b[1;33m\u001b[0m\u001b[1;33m\u001b[0m\u001b[0m\n\u001b[1;32m-> 5465\u001b[1;33m             \u001b[1;32mreturn\u001b[0m \u001b[0mobject\u001b[0m\u001b[1;33m.\u001b[0m\u001b[0m__getattribute__\u001b[0m\u001b[1;33m(\u001b[0m\u001b[0mself\u001b[0m\u001b[1;33m,\u001b[0m \u001b[0mname\u001b[0m\u001b[1;33m)\u001b[0m\u001b[1;33m\u001b[0m\u001b[1;33m\u001b[0m\u001b[0m\n\u001b[0m\u001b[0;32m   5466\u001b[0m \u001b[1;33m\u001b[0m\u001b[0m\n\u001b[0;32m   5467\u001b[0m     \u001b[1;32mdef\u001b[0m \u001b[0m__setattr__\u001b[0m\u001b[1;33m(\u001b[0m\u001b[0mself\u001b[0m\u001b[1;33m,\u001b[0m \u001b[0mname\u001b[0m\u001b[1;33m:\u001b[0m \u001b[0mstr\u001b[0m\u001b[1;33m,\u001b[0m \u001b[0mvalue\u001b[0m\u001b[1;33m)\u001b[0m \u001b[1;33m->\u001b[0m \u001b[1;32mNone\u001b[0m\u001b[1;33m:\u001b[0m\u001b[1;33m\u001b[0m\u001b[1;33m\u001b[0m\u001b[0m\n",
      "\u001b[1;31mAttributeError\u001b[0m: 'DataFrame' object has no attribute 'iplot'"
     ]
    }
   ],
   "source": [
    "goals[:20].iplot(kind='bar', xTitle = 'Country Names', yTitle = 'Goals', title = 'Countries Hits Number of Goals')"
   ]
  },
  {
   "cell_type": "markdown",
   "metadata": {},
   "source": [
    "# Attendance, Number of Teams, Goals, and Matches per Cup"
   ]
  },
  {
   "cell_type": "code",
   "execution_count": null,
   "metadata": {
    "execution": {
     "iopub.execute_input": "2022-11-21T06:55:04.340045Z",
     "iopub.status.busy": "2022-11-21T06:55:04.339445Z",
     "iopub.status.idle": "2022-11-21T06:55:04.347341Z",
     "shell.execute_reply": "2022-11-21T06:55:04.346211Z",
     "shell.execute_reply.started": "2022-11-21T06:55:04.340000Z"
    }
   },
   "outputs": [],
   "source": [
    "world_cup['Attendance'] = world_cup['Attendance'].str.replace(\".\", \"\")"
   ]
  },
  {
   "cell_type": "code",
   "execution_count": null,
   "metadata": {
    "execution": {
     "iopub.execute_input": "2022-11-21T06:55:04.354656Z",
     "iopub.status.busy": "2022-11-21T06:55:04.354083Z",
     "iopub.status.idle": "2022-11-21T06:55:04.374441Z",
     "shell.execute_reply": "2022-11-21T06:55:04.373208Z",
     "shell.execute_reply.started": "2022-11-21T06:55:04.354607Z"
    }
   },
   "outputs": [],
   "source": [
    "world_cup.head()"
   ]
  },
  {
   "cell_type": "code",
   "execution_count": null,
   "metadata": {
    "execution": {
     "iopub.execute_input": "2022-11-21T06:55:04.378338Z",
     "iopub.status.busy": "2022-11-21T06:55:04.377289Z",
     "iopub.status.idle": "2022-11-21T06:55:05.670018Z",
     "shell.execute_reply": "2022-11-21T06:55:05.668949Z",
     "shell.execute_reply.started": "2022-11-21T06:55:04.378186Z"
    }
   },
   "outputs": [],
   "source": [
    "fig, ax = plt.subplots(figsize = (10,5))\n",
    "sns.despine(right = True)\n",
    "g = sns.barplot(x = 'Year', y = 'Attendance', data = world_cup)\n",
    "g.set_xticklabels(g.get_xticklabels(), rotation = 80)\n",
    "g.set_title('Attendance Per Year')\n",
    "\n",
    "#==========================================\n",
    "\n",
    "fig, ax = plt.subplots(figsize = (10,5))\n",
    "sns.despine(right = True)\n",
    "g = sns.barplot(x = 'Year', y = 'QualifiedTeams', data = world_cup)\n",
    "g.set_xticklabels(g.get_xticklabels(), rotation = 80)\n",
    "g.set_title('Qualified Teams Per Year')\n",
    "\n",
    "#==========================================\n",
    "\n",
    "fig, ax = plt.subplots(figsize = (10,5))\n",
    "sns.despine(right = True)\n",
    "g = sns.barplot(x = 'Year', y = 'GoalsScored', data = world_cup)\n",
    "g.set_xticklabels(g.get_xticklabels(), rotation = 80)\n",
    "g.set_title('Goals Scored by Teams Per Year')\n",
    "\n",
    "\n",
    "#==========================================\n",
    "\n",
    "\n",
    "fig, ax = plt.subplots(figsize = (10,5))\n",
    "sns.despine(right = True)\n",
    "g = sns.barplot(x = 'Year', y = 'MatchesPlayed', data = world_cup)\n",
    "g.set_xticklabels(g.get_xticklabels(), rotation = 80)\n",
    "g.set_title('Matches Plyed Scored by Teams Per Year')\n"
   ]
  },
  {
   "cell_type": "markdown",
   "metadata": {},
   "source": [
    "# Goals Per Team Per World Cup"
   ]
  },
  {
   "cell_type": "code",
   "execution_count": null,
   "metadata": {
    "execution": {
     "iopub.execute_input": "2022-11-21T06:55:05.672218Z",
     "iopub.status.busy": "2022-11-21T06:55:05.671762Z",
     "iopub.status.idle": "2022-11-21T06:55:05.702464Z",
     "shell.execute_reply": "2022-11-21T06:55:05.701387Z",
     "shell.execute_reply.started": "2022-11-21T06:55:05.672172Z"
    }
   },
   "outputs": [],
   "source": [
    "\n",
    "matches.head(2)"
   ]
  },
  {
   "cell_type": "code",
   "execution_count": null,
   "metadata": {
    "execution": {
     "iopub.execute_input": "2022-11-21T06:55:05.704179Z",
     "iopub.status.busy": "2022-11-21T06:55:05.703844Z",
     "iopub.status.idle": "2022-11-21T06:55:05.730824Z",
     "shell.execute_reply": "2022-11-21T06:55:05.729440Z",
     "shell.execute_reply.started": "2022-11-21T06:55:05.704146Z"
    }
   },
   "outputs": [],
   "source": [
    "home = matches.groupby(['Year', 'Home Team Name'])['Home Team Goals'].sum()\n",
    "home"
   ]
  },
  {
   "cell_type": "code",
   "execution_count": null,
   "metadata": {
    "execution": {
     "iopub.execute_input": "2022-11-21T06:55:05.733031Z",
     "iopub.status.busy": "2022-11-21T06:55:05.732685Z",
     "iopub.status.idle": "2022-11-21T06:55:05.751183Z",
     "shell.execute_reply": "2022-11-21T06:55:05.750189Z",
     "shell.execute_reply.started": "2022-11-21T06:55:05.733000Z"
    }
   },
   "outputs": [],
   "source": [
    "away = matches.groupby(['Year', 'Away Team Name'])['Away Team Goals'].sum()\n",
    "away"
   ]
  },
  {
   "cell_type": "code",
   "execution_count": null,
   "metadata": {
    "execution": {
     "iopub.execute_input": "2022-11-21T06:55:05.752847Z",
     "iopub.status.busy": "2022-11-21T06:55:05.752530Z",
     "iopub.status.idle": "2022-11-21T06:55:05.805656Z",
     "shell.execute_reply": "2022-11-21T06:55:05.804631Z",
     "shell.execute_reply.started": "2022-11-21T06:55:05.752817Z"
    }
   },
   "outputs": [],
   "source": [
    "goals = pd.concat([home, away], axis=1)\n",
    "goals.fillna(0, inplace=True)\n",
    "goals['Goals'] = goals['Home Team Goals'] + goals['Away Team Goals']\n",
    "goals = goals.drop(labels = ['Home Team Goals', 'Away Team Goals'], axis = 1)\n",
    "goals"
   ]
  },
  {
   "cell_type": "code",
   "execution_count": null,
   "metadata": {
    "execution": {
     "iopub.execute_input": "2022-11-21T06:55:05.807372Z",
     "iopub.status.busy": "2022-11-21T06:55:05.806880Z",
     "iopub.status.idle": "2022-11-21T06:55:05.814439Z",
     "shell.execute_reply": "2022-11-21T06:55:05.813368Z",
     "shell.execute_reply.started": "2022-11-21T06:55:05.807329Z"
    }
   },
   "outputs": [],
   "source": [
    "goals = goals.reset_index()"
   ]
  },
  {
   "cell_type": "code",
   "execution_count": null,
   "metadata": {
    "execution": {
     "iopub.execute_input": "2022-11-21T06:55:05.816868Z",
     "iopub.status.busy": "2022-11-21T06:55:05.815974Z",
     "iopub.status.idle": "2022-11-21T06:55:05.841112Z",
     "shell.execute_reply": "2022-11-21T06:55:05.839759Z",
     "shell.execute_reply.started": "2022-11-21T06:55:05.816810Z"
    }
   },
   "outputs": [],
   "source": [
    "goals.columns = ['Year', 'Country', 'Goals']\n",
    "goals = goals.sort_values(by = ['Year', 'Goals'], ascending = [True, False])\n",
    "goals"
   ]
  },
  {
   "cell_type": "code",
   "execution_count": null,
   "metadata": {
    "execution": {
     "iopub.execute_input": "2022-11-21T06:55:05.842930Z",
     "iopub.status.busy": "2022-11-21T06:55:05.842540Z",
     "iopub.status.idle": "2022-11-21T06:55:05.859993Z",
     "shell.execute_reply": "2022-11-21T06:55:05.858842Z",
     "shell.execute_reply.started": "2022-11-21T06:55:05.842896Z"
    }
   },
   "outputs": [],
   "source": [
    "top5 = goals.groupby('Year').head()\n",
    "top5.head(10)"
   ]
  },
  {
   "cell_type": "code",
   "execution_count": null,
   "metadata": {
    "execution": {
     "iopub.execute_input": "2022-11-21T06:55:05.862221Z",
     "iopub.status.busy": "2022-11-21T06:55:05.861591Z",
     "iopub.status.idle": "2022-11-21T06:55:05.873809Z",
     "shell.execute_reply": "2022-11-21T06:55:05.872660Z",
     "shell.execute_reply.started": "2022-11-21T06:55:05.862174Z"
    }
   },
   "outputs": [],
   "source": [
    "import plotly.graph_objects as go"
   ]
  },
  {
   "cell_type": "code",
   "execution_count": null,
   "metadata": {
    "execution": {
     "iopub.execute_input": "2022-11-21T06:55:05.875652Z",
     "iopub.status.busy": "2022-11-21T06:55:05.875335Z",
     "iopub.status.idle": "2022-11-21T06:55:05.886861Z",
     "shell.execute_reply": "2022-11-21T06:55:05.885908Z",
     "shell.execute_reply.started": "2022-11-21T06:55:05.875622Z"
    }
   },
   "outputs": [],
   "source": [
    "\n",
    "x, y = goals['Year'].values, goals['Goals'].values"
   ]
  },
  {
   "cell_type": "code",
   "execution_count": null,
   "metadata": {
    "execution": {
     "iopub.execute_input": "2022-11-21T06:55:05.889087Z",
     "iopub.status.busy": "2022-11-21T06:55:05.888545Z",
     "iopub.status.idle": "2022-11-21T06:55:05.979579Z",
     "shell.execute_reply": "2022-11-21T06:55:05.978429Z",
     "shell.execute_reply.started": "2022-11-21T06:55:05.889032Z"
    }
   },
   "outputs": [],
   "source": [
    "data = []\n",
    "for team in top5['Country'].drop_duplicates().values:\n",
    "    year = top5[top5['Country'] == team]['Year']\n",
    "    goal = top5[top5['Country'] == team]['Goals']\n",
    "    \n",
    "    data.append(go.Bar(x = year, y = goal, name = team))\n",
    "layout = go.Layout(barmode = 'stack', title = 'Top 5 Teams with most Goals', showlegend = False)\n",
    "\n",
    "fig = go.Figure(data = data, layout = layout)\n",
    "fig.show()"
   ]
  },
  {
   "cell_type": "markdown",
   "metadata": {},
   "source": [
    "# Matches With Heihest Number Of Attendance"
   ]
  },
  {
   "cell_type": "code",
   "execution_count": null,
   "metadata": {
    "execution": {
     "iopub.execute_input": "2022-11-21T06:55:05.981528Z",
     "iopub.status.busy": "2022-11-21T06:55:05.980961Z",
     "iopub.status.idle": "2022-11-21T06:55:06.090730Z",
     "shell.execute_reply": "2022-11-21T06:55:06.089778Z",
     "shell.execute_reply.started": "2022-11-21T06:55:05.981493Z"
    }
   },
   "outputs": [],
   "source": [
    "matches['Datetime'] = pd.to_datetime(matches['Datetime'])"
   ]
  },
  {
   "cell_type": "code",
   "execution_count": null,
   "metadata": {
    "execution": {
     "iopub.execute_input": "2022-11-21T06:55:06.092271Z",
     "iopub.status.busy": "2022-11-21T06:55:06.091828Z",
     "iopub.status.idle": "2022-11-21T06:55:06.105676Z",
     "shell.execute_reply": "2022-11-21T06:55:06.104389Z",
     "shell.execute_reply.started": "2022-11-21T06:55:06.092234Z"
    }
   },
   "outputs": [],
   "source": [
    "matches['Datetime'] = matches['Datetime'].apply(lambda x: x.strftime('%d %b, %y'))"
   ]
  },
  {
   "cell_type": "code",
   "execution_count": null,
   "metadata": {
    "execution": {
     "iopub.execute_input": "2022-11-21T06:55:06.107624Z",
     "iopub.status.busy": "2022-11-21T06:55:06.107297Z",
     "iopub.status.idle": "2022-11-21T06:55:06.418827Z",
     "shell.execute_reply": "2022-11-21T06:55:06.417949Z",
     "shell.execute_reply.started": "2022-11-21T06:55:06.107592Z"
    }
   },
   "outputs": [],
   "source": [
    "top10 = matches.sort_values(by = 'Attendance', ascending = False)[:10]\n",
    "top10['vs'] = top10['Home Team Name'] + \" vs \" + top10['Away Team Name']\n",
    "\n",
    "plt.figure(figsize = (12,10))\n",
    "\n",
    "ax = sns.barplot(y = top10['vs'], x = top10['Attendance'])\n",
    "sns.despine(right = True)\n",
    "\n",
    "plt.ylabel('Match Teams')\n",
    "plt.xlabel('Attendence')\n",
    "plt.title('Matches with the highest number of Attendence')\n",
    "\n",
    "for i, s in enumerate(\"Stadium: \" + top10['Stadium'] +\", Date: \" + top10['Datetime']):\n",
    "    ax.text(2000, i, s, fontsize = 12, color = 'white')\n",
    "plt.show()"
   ]
  },
  {
   "cell_type": "markdown",
   "metadata": {},
   "source": [
    "# Stadium with Highest Average Attendance"
   ]
  },
  {
   "cell_type": "code",
   "execution_count": null,
   "metadata": {
    "execution": {
     "iopub.execute_input": "2022-11-21T06:55:06.420180Z",
     "iopub.status.busy": "2022-11-21T06:55:06.419841Z",
     "iopub.status.idle": "2022-11-21T06:55:06.690488Z",
     "shell.execute_reply": "2022-11-21T06:55:06.689287Z",
     "shell.execute_reply.started": "2022-11-21T06:55:06.420149Z"
    }
   },
   "outputs": [],
   "source": [
    "matches['Year'] = matches['Year'].astype(int)\n",
    "\n",
    "std = matches.groupby(['Stadium', 'City'])['Attendance'].mean().reset_index().sort_values(by = 'Attendance', ascending =False)\n",
    "\n",
    "top10 = std[:10]\n",
    "\n",
    "plt.figure(figsize = (12,9))\n",
    "ax = sns.barplot(y = top10['Stadium'], x = top10['Attendance'])\n",
    "sns.despine(right = True)\n",
    "\n",
    "plt.ylabel('Stadium Names')\n",
    "plt.xlabel('Attendance')\n",
    "plt.title('Stadium with the heighest number of attendance')\n",
    "for i, s in enumerate(\"City: \" + top10['City']):\n",
    "        ax.text(2000, i, s, fontsize = 12, color = 'b')\n",
    "        \n",
    "plt.show()"
   ]
  },
  {
   "cell_type": "code",
   "execution_count": null,
   "metadata": {
    "execution": {
     "iopub.execute_input": "2022-11-21T06:55:06.692203Z",
     "iopub.status.busy": "2022-11-21T06:55:06.691862Z",
     "iopub.status.idle": "2022-11-21T06:55:06.750717Z",
     "shell.execute_reply": "2022-11-21T06:55:06.749703Z",
     "shell.execute_reply.started": "2022-11-21T06:55:06.692172Z"
    }
   },
   "outputs": [],
   "source": [
    "matches['City'].value_counts()[:20].iplot(kind = 'bar')"
   ]
  },
  {
   "cell_type": "markdown",
   "metadata": {},
   "source": [
    "# Which countries had won the cup ?"
   ]
  },
  {
   "cell_type": "code",
   "execution_count": null,
   "metadata": {
    "execution": {
     "iopub.execute_input": "2022-11-21T06:55:06.752777Z",
     "iopub.status.busy": "2022-11-21T06:55:06.752464Z",
     "iopub.status.idle": "2022-11-21T06:55:07.204464Z",
     "shell.execute_reply": "2022-11-21T06:55:07.203193Z",
     "shell.execute_reply.started": "2022-11-21T06:55:06.752747Z"
    }
   },
   "outputs": [],
   "source": [
    "gold = world_cup[\"Winner\"]\n",
    "silver = world_cup[\"Runners-Up\"]\n",
    "bronze = world_cup[\"Third\"]\n",
    "\n",
    "gold_count = pd.DataFrame.from_dict(gold.value_counts())\n",
    "silver_count = pd.DataFrame.from_dict(silver.value_counts())\n",
    "bronze_count = pd.DataFrame.from_dict(bronze.value_counts())\n",
    "podium_count = gold_count.join(silver_count, how='outer').join(bronze_count, how='outer')\n",
    "podium_count = podium_count.fillna(0)\n",
    "podium_count.columns = ['WINNER', 'SECOND', 'THIRD']\n",
    "podium_count = podium_count.astype('int64')\n",
    "podium_count = podium_count.sort_values(by=['WINNER', 'SECOND', 'THIRD'], ascending=False)\n",
    "\n",
    "podium_count.plot(y=['WINNER', 'SECOND', 'THIRD'], kind=\"bar\", \n",
    "                  color =['gold','silver','brown'], figsize=(15, 6), fontsize=14,\n",
    "                 width=0.8, align='center')\n",
    "plt.xlabel('Countries')\n",
    "plt.ylabel('Number of podium')\n",
    "plt.title('Number of podium by country')"
   ]
  },
  {
   "cell_type": "markdown",
   "metadata": {},
   "source": [
    "# Number of goal per country"
   ]
  },
  {
   "cell_type": "code",
   "execution_count": null,
   "metadata": {
    "execution": {
     "iopub.execute_input": "2022-11-21T06:55:07.206471Z",
     "iopub.status.busy": "2022-11-21T06:55:07.205992Z",
     "iopub.status.idle": "2022-11-21T06:55:07.438712Z",
     "shell.execute_reply": "2022-11-21T06:55:07.437675Z",
     "shell.execute_reply.started": "2022-11-21T06:55:07.206434Z"
    }
   },
   "outputs": [],
   "source": [
    "#world_cups_matches['Win conditions'].value_counts()\n",
    "home = matches[['Home Team Name', 'Home Team Goals']].dropna()\n",
    "away = matches[['Away Team Name', 'Away Team Goals']].dropna()\n",
    "\n",
    "goal_per_country = pd.DataFrame(columns=['countries', 'goals'])\n",
    "goal_per_country = goal_per_country.append(home.rename(index=str, columns={'Home Team Name': 'countries', 'Home Team Goals': 'goals'}))\n",
    "goal_per_country = goal_per_country.append(away.rename(index=str, columns={'Away Team Name': 'countries', 'Away Team Goals': 'goals'}))\n",
    "\n",
    "goal_per_country['goals'] = goal_per_country['goals'].astype('int64')\n",
    "\n",
    "goal_per_country = goal_per_country.groupby(['countries'])['goals'].sum().sort_values(ascending=False)\n",
    "\n",
    "goal_per_country[:10].plot(x=goal_per_country.index, y=goal_per_country.values, kind=\"bar\", figsize=(12, 6), fontsize=14)\n",
    "plt.xlabel('Countries')\n",
    "plt.ylabel('Number of goals')\n",
    "plt.title('Top 10 of Number of goals by country')"
   ]
  },
  {
   "cell_type": "markdown",
   "metadata": {},
   "source": [
    "# Match outcome by home and away temas"
   ]
  },
  {
   "cell_type": "code",
   "execution_count": null,
   "metadata": {
    "execution": {
     "iopub.execute_input": "2022-11-21T06:56:07.394086Z",
     "iopub.status.busy": "2022-11-21T06:56:07.393678Z",
     "iopub.status.idle": "2022-11-21T06:56:07.399858Z",
     "shell.execute_reply": "2022-11-21T06:56:07.398720Z",
     "shell.execute_reply.started": "2022-11-21T06:56:07.394034Z"
    }
   },
   "outputs": [],
   "source": [
    "\n",
    "def get_labels(matches):\n",
    "    if matches['Home Team Goals'] > matches['Away Team Goals']:\n",
    "        return '主队获胜'\n",
    "    if matches['Home Team Goals'] < matches['Away Team Goals']:\n",
    "        return '客队获胜'\n",
    "    return '平局'"
   ]
  },
  {
   "cell_type": "code",
   "execution_count": null,
   "metadata": {
    "execution": {
     "iopub.execute_input": "2022-11-21T06:56:07.403217Z",
     "iopub.status.busy": "2022-11-21T06:56:07.402764Z",
     "iopub.status.idle": "2022-11-21T06:56:07.454722Z",
     "shell.execute_reply": "2022-11-21T06:56:07.453458Z",
     "shell.execute_reply.started": "2022-11-21T06:56:07.403172Z"
    }
   },
   "outputs": [],
   "source": [
    "matches['交战结果'] = matches.apply(lambda x: get_labels(x), axis=1)"
   ]
  },
  {
   "cell_type": "code",
   "execution_count": null,
   "metadata": {
    "execution": {
     "iopub.execute_input": "2022-11-21T06:56:07.457758Z",
     "iopub.status.busy": "2022-11-21T06:56:07.457292Z",
     "iopub.status.idle": "2022-11-21T06:56:07.491406Z",
     "shell.execute_reply": "2022-11-21T06:56:07.490164Z",
     "shell.execute_reply.started": "2022-11-21T06:56:07.457724Z"
    }
   },
   "outputs": [],
   "source": [
    "matches.head()"
   ]
  },
  {
   "cell_type": "code",
   "execution_count": null,
   "metadata": {
    "execution": {
     "iopub.execute_input": "2022-11-21T06:56:07.493572Z",
     "iopub.status.busy": "2022-11-21T06:56:07.493257Z",
     "iopub.status.idle": "2022-11-21T06:56:07.505450Z",
     "shell.execute_reply": "2022-11-21T06:56:07.504424Z",
     "shell.execute_reply.started": "2022-11-21T06:56:07.493542Z"
    }
   },
   "outputs": [],
   "source": [
    "mt = matches['outcome'].value_counts()\n",
    "mt"
   ]
  },
  {
   "cell_type": "code",
   "execution_count": null,
   "metadata": {
    "execution": {
     "iopub.execute_input": "2022-11-21T06:56:07.507682Z",
     "iopub.status.busy": "2022-11-21T06:56:07.507265Z",
     "iopub.status.idle": "2022-11-21T06:56:07.604315Z",
     "shell.execute_reply": "2022-11-21T06:56:07.603014Z",
     "shell.execute_reply.started": "2022-11-21T06:56:07.507646Z"
    }
   },
   "outputs": [],
   "source": [
    "plt.figure(figsize = (6,6))\n",
    "\n",
    "mt.plot.pie(autopct = \"%1.0f%%\", colors = sns.color_palette('winter_r'), shadow = True)\n",
    "\n",
    "c = plt.Circle((0,0), 0.4, color =  'white')\n",
    "plt.gca().add_artist(c)\n",
    "plt.title('主客队交战结果')\n",
    "plt.show()"
   ]
  },
  {
   "cell_type": "markdown",
   "metadata": {},
   "source": [
    "## I am working on this dataset so I will keep updating it\n",
    "\n",
    "### If you like my kernel please consider upvoting it\n",
    "\n",
    "## Thank you"
   ]
  }
 ],
 "metadata": {
  "kernelspec": {
   "display_name": "Python 3",
   "language": "python",
   "name": "python3"
  },
  "language_info": {
   "codemirror_mode": {
    "name": "ipython",
    "version": 3
   },
   "file_extension": ".py",
   "mimetype": "text/x-python",
   "name": "python",
   "nbconvert_exporter": "python",
   "pygments_lexer": "ipython3",
   "version": "3.8.8"
  },
  "toc": {
   "base_numbering": 1,
   "nav_menu": {},
   "number_sections": true,
   "sideBar": true,
   "skip_h1_title": false,
   "title_cell": "Table of Contents",
   "title_sidebar": "Contents",
   "toc_cell": false,
   "toc_position": {},
   "toc_section_display": true,
   "toc_window_display": false
  }
 },
 "nbformat": 4,
 "nbformat_minor": 4
}
