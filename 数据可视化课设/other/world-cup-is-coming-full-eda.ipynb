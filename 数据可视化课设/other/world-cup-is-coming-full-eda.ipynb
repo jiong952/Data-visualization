{
 "cells": [
  {
   "cell_type": "markdown",
   "metadata": {},
   "source": [
    "\n",
    "\n",
    "<div style=\"padding:20px;color:white;margin:0;font-size:220%;text-align:center;display:fill;border-radius:5px;background-color:#008000;overflow:hidden;font-weight:600\">World Cup- Exploratory Data Analysis</div>"
   ]
  },
  {
   "cell_type": "markdown",
   "metadata": {},
   "source": [
    "![](https://phantom-marca.unidadeditorial.es/f423e112c89abff5e275958da9d479f4/resize/1320/f/jpg/assets/multimedia/imagenes/2022/06/15/16553118744988.jpg)"
   ]
  },
  {
   "cell_type": "markdown",
   "metadata": {},
   "source": [
    "<div style=\"padding:20px;color:white;margin:0;font-size:220%;text-align:center;display:fill;border-radius:5px;background-color:#008000;overflow:hidden;font-weight:400\">Introduction</div>"
   ]
  },
  {
   "cell_type": "markdown",
   "metadata": {},
   "source": [
    "## World Cup, formally FIFA World Cup, in football (soccer), quadrennial tournament of men's national teams that determines the sport's world champion. It is likely the most popular sporting event in the world, drawing billions of television viewers every tournament."
   ]
  },
  {
   "cell_type": "markdown",
   "metadata": {},
   "source": [
    "### Import useful libraries"
   ]
  },
  {
   "cell_type": "code",
   "execution_count": 20,
   "metadata": {
    "_cell_guid": "b1076dfc-b9ad-4769-8c92-a6c4dae69d19",
    "_kg_hide-input": true,
    "_uuid": "8f2839f25d086af736a60e9eeb907d3b93b6e0e5",
    "execution": {
     "iopub.execute_input": "2022-09-22T09:41:48.802617Z",
     "iopub.status.busy": "2022-09-22T09:41:48.802259Z",
     "iopub.status.idle": "2022-09-22T09:41:48.809785Z",
     "shell.execute_reply": "2022-09-22T09:41:48.808931Z",
     "shell.execute_reply.started": "2022-09-22T09:41:48.802579Z"
    }
   },
   "outputs": [
    {
     "name": "stdout",
     "output_type": "stream",
     "text": [
      "./data2\\WorldCupMatches.csv\n",
      "./data2\\WorldCupPlayers.csv\n",
      "./data2\\WorldCups.csv\n"
     ]
    }
   ],
   "source": [
    "# This Python 3 environment comes with many helpful analytics libraries installed\n",
    "# It is defined by the kaggle/python Docker image: https://github.com/kaggle/docker-python\n",
    "# For example, here's several helpful packages to load\n",
    "\n",
    "import numpy as np # linear algebra\n",
    "import pandas as pd # data processing, CSV file I/O (e.g. pd.read_csv)\n",
    "\n",
    "# Input data files are available in the read-only \"../input/\" directory\n",
    "# For example, running this (by clicking run or pressing Shift+Enter) will list all files under the input directory\n",
    "\n",
    "import os\n",
    "for dirname, _, filenames in os.walk('./data2'):\n",
    "    for filename in filenames:\n",
    "        print(os.path.join(dirname, filename))\n",
    "\n",
    "# You can write up to 20GB to the current directory (/kaggle/working/) that gets preserved as output when you create a version using \"Save & Run All\" \n",
    "# You can also write temporary files to /kaggle/temp/, but they won't be saved outside of the current session"
   ]
  },
  {
   "cell_type": "code",
   "execution_count": 21,
   "metadata": {
    "_kg_hide-input": true,
    "execution": {
     "iopub.execute_input": "2022-09-22T09:41:48.811834Z",
     "iopub.status.busy": "2022-09-22T09:41:48.811319Z",
     "iopub.status.idle": "2022-09-22T09:41:48.821672Z",
     "shell.execute_reply": "2022-09-22T09:41:48.820829Z",
     "shell.execute_reply.started": "2022-09-22T09:41:48.811806Z"
    }
   },
   "outputs": [],
   "source": [
    "import seaborn as sns\n",
    "import matplotlib.pyplot as plt\n",
    "import plotly.express as px"
   ]
  },
  {
   "cell_type": "markdown",
   "metadata": {},
   "source": [
    "<div style=\"padding:20px;color:white;margin:0;font-size:220%;text-align:center;display:fill;border-radius:5px;background-color:#008000;overflow:hidden;font-weight:400\">Exploratory Data Analysis</div>"
   ]
  },
  {
   "cell_type": "markdown",
   "metadata": {},
   "source": [
    "<div style=\"padding:20px;color:white;margin:0;font-size:220%;text-align:center;display:fill;border-radius:5px;background-color:#008000;overflow:hidden;font-weight:100\">1. Preprocessing</div>"
   ]
  },
  {
   "cell_type": "code",
   "execution_count": 22,
   "metadata": {
    "execution": {
     "iopub.execute_input": "2022-09-22T09:41:48.823822Z",
     "iopub.status.busy": "2022-09-22T09:41:48.822988Z",
     "iopub.status.idle": "2022-09-22T09:41:48.845991Z",
     "shell.execute_reply": "2022-09-22T09:41:48.845352Z",
     "shell.execute_reply.started": "2022-09-22T09:41:48.823792Z"
    }
   },
   "outputs": [
    {
     "data": {
      "text/html": [
       "<div>\n",
       "<style scoped>\n",
       "    .dataframe tbody tr th:only-of-type {\n",
       "        vertical-align: middle;\n",
       "    }\n",
       "\n",
       "    .dataframe tbody tr th {\n",
       "        vertical-align: top;\n",
       "    }\n",
       "\n",
       "    .dataframe thead th {\n",
       "        text-align: right;\n",
       "    }\n",
       "</style>\n",
       "<table border=\"1\" class=\"dataframe\">\n",
       "  <thead>\n",
       "    <tr style=\"text-align: right;\">\n",
       "      <th></th>\n",
       "      <th>Year</th>\n",
       "      <th>Country</th>\n",
       "      <th>Winner</th>\n",
       "      <th>Runners-Up</th>\n",
       "      <th>Third</th>\n",
       "      <th>Fourth</th>\n",
       "      <th>GoalsScored</th>\n",
       "      <th>QualifiedTeams</th>\n",
       "      <th>MatchesPlayed</th>\n",
       "      <th>Attendance</th>\n",
       "    </tr>\n",
       "  </thead>\n",
       "  <tbody>\n",
       "    <tr>\n",
       "      <th>0</th>\n",
       "      <td>1930</td>\n",
       "      <td>Uruguay</td>\n",
       "      <td>Uruguay</td>\n",
       "      <td>Argentina</td>\n",
       "      <td>USA</td>\n",
       "      <td>Yugoslavia</td>\n",
       "      <td>70</td>\n",
       "      <td>13</td>\n",
       "      <td>18</td>\n",
       "      <td>590.549</td>\n",
       "    </tr>\n",
       "    <tr>\n",
       "      <th>1</th>\n",
       "      <td>1934</td>\n",
       "      <td>Italy</td>\n",
       "      <td>Italy</td>\n",
       "      <td>Czechoslovakia</td>\n",
       "      <td>Germany</td>\n",
       "      <td>Austria</td>\n",
       "      <td>70</td>\n",
       "      <td>16</td>\n",
       "      <td>17</td>\n",
       "      <td>363.000</td>\n",
       "    </tr>\n",
       "    <tr>\n",
       "      <th>2</th>\n",
       "      <td>1938</td>\n",
       "      <td>France</td>\n",
       "      <td>Italy</td>\n",
       "      <td>Hungary</td>\n",
       "      <td>Brazil</td>\n",
       "      <td>Sweden</td>\n",
       "      <td>84</td>\n",
       "      <td>15</td>\n",
       "      <td>18</td>\n",
       "      <td>375.700</td>\n",
       "    </tr>\n",
       "    <tr>\n",
       "      <th>3</th>\n",
       "      <td>1950</td>\n",
       "      <td>Brazil</td>\n",
       "      <td>Uruguay</td>\n",
       "      <td>Brazil</td>\n",
       "      <td>Sweden</td>\n",
       "      <td>Spain</td>\n",
       "      <td>88</td>\n",
       "      <td>13</td>\n",
       "      <td>22</td>\n",
       "      <td>1.045.246</td>\n",
       "    </tr>\n",
       "    <tr>\n",
       "      <th>4</th>\n",
       "      <td>1954</td>\n",
       "      <td>Switzerland</td>\n",
       "      <td>Germany FR</td>\n",
       "      <td>Hungary</td>\n",
       "      <td>Austria</td>\n",
       "      <td>Uruguay</td>\n",
       "      <td>140</td>\n",
       "      <td>16</td>\n",
       "      <td>26</td>\n",
       "      <td>768.607</td>\n",
       "    </tr>\n",
       "    <tr>\n",
       "      <th>5</th>\n",
       "      <td>1958</td>\n",
       "      <td>Sweden</td>\n",
       "      <td>Brazil</td>\n",
       "      <td>Sweden</td>\n",
       "      <td>France</td>\n",
       "      <td>Germany FR</td>\n",
       "      <td>126</td>\n",
       "      <td>16</td>\n",
       "      <td>35</td>\n",
       "      <td>819.810</td>\n",
       "    </tr>\n",
       "    <tr>\n",
       "      <th>6</th>\n",
       "      <td>1962</td>\n",
       "      <td>Chile</td>\n",
       "      <td>Brazil</td>\n",
       "      <td>Czechoslovakia</td>\n",
       "      <td>Chile</td>\n",
       "      <td>Yugoslavia</td>\n",
       "      <td>89</td>\n",
       "      <td>16</td>\n",
       "      <td>32</td>\n",
       "      <td>893.172</td>\n",
       "    </tr>\n",
       "    <tr>\n",
       "      <th>7</th>\n",
       "      <td>1966</td>\n",
       "      <td>England</td>\n",
       "      <td>England</td>\n",
       "      <td>Germany FR</td>\n",
       "      <td>Portugal</td>\n",
       "      <td>Soviet Union</td>\n",
       "      <td>89</td>\n",
       "      <td>16</td>\n",
       "      <td>32</td>\n",
       "      <td>1.563.135</td>\n",
       "    </tr>\n",
       "    <tr>\n",
       "      <th>8</th>\n",
       "      <td>1970</td>\n",
       "      <td>Mexico</td>\n",
       "      <td>Brazil</td>\n",
       "      <td>Italy</td>\n",
       "      <td>Germany FR</td>\n",
       "      <td>Uruguay</td>\n",
       "      <td>95</td>\n",
       "      <td>16</td>\n",
       "      <td>32</td>\n",
       "      <td>1.603.975</td>\n",
       "    </tr>\n",
       "    <tr>\n",
       "      <th>9</th>\n",
       "      <td>1974</td>\n",
       "      <td>Germany</td>\n",
       "      <td>Germany FR</td>\n",
       "      <td>Netherlands</td>\n",
       "      <td>Poland</td>\n",
       "      <td>Brazil</td>\n",
       "      <td>97</td>\n",
       "      <td>16</td>\n",
       "      <td>38</td>\n",
       "      <td>1.865.753</td>\n",
       "    </tr>\n",
       "    <tr>\n",
       "      <th>10</th>\n",
       "      <td>1978</td>\n",
       "      <td>Argentina</td>\n",
       "      <td>Argentina</td>\n",
       "      <td>Netherlands</td>\n",
       "      <td>Brazil</td>\n",
       "      <td>Italy</td>\n",
       "      <td>102</td>\n",
       "      <td>16</td>\n",
       "      <td>38</td>\n",
       "      <td>1.545.791</td>\n",
       "    </tr>\n",
       "    <tr>\n",
       "      <th>11</th>\n",
       "      <td>1982</td>\n",
       "      <td>Spain</td>\n",
       "      <td>Italy</td>\n",
       "      <td>Germany FR</td>\n",
       "      <td>Poland</td>\n",
       "      <td>France</td>\n",
       "      <td>146</td>\n",
       "      <td>24</td>\n",
       "      <td>52</td>\n",
       "      <td>2.109.723</td>\n",
       "    </tr>\n",
       "    <tr>\n",
       "      <th>12</th>\n",
       "      <td>1986</td>\n",
       "      <td>Mexico</td>\n",
       "      <td>Argentina</td>\n",
       "      <td>Germany FR</td>\n",
       "      <td>France</td>\n",
       "      <td>Belgium</td>\n",
       "      <td>132</td>\n",
       "      <td>24</td>\n",
       "      <td>52</td>\n",
       "      <td>2.394.031</td>\n",
       "    </tr>\n",
       "    <tr>\n",
       "      <th>13</th>\n",
       "      <td>1990</td>\n",
       "      <td>Italy</td>\n",
       "      <td>Germany FR</td>\n",
       "      <td>Argentina</td>\n",
       "      <td>Italy</td>\n",
       "      <td>England</td>\n",
       "      <td>115</td>\n",
       "      <td>24</td>\n",
       "      <td>52</td>\n",
       "      <td>2.516.215</td>\n",
       "    </tr>\n",
       "    <tr>\n",
       "      <th>14</th>\n",
       "      <td>1994</td>\n",
       "      <td>USA</td>\n",
       "      <td>Brazil</td>\n",
       "      <td>Italy</td>\n",
       "      <td>Sweden</td>\n",
       "      <td>Bulgaria</td>\n",
       "      <td>141</td>\n",
       "      <td>24</td>\n",
       "      <td>52</td>\n",
       "      <td>3.587.538</td>\n",
       "    </tr>\n",
       "    <tr>\n",
       "      <th>15</th>\n",
       "      <td>1998</td>\n",
       "      <td>France</td>\n",
       "      <td>France</td>\n",
       "      <td>Brazil</td>\n",
       "      <td>Croatia</td>\n",
       "      <td>Netherlands</td>\n",
       "      <td>171</td>\n",
       "      <td>32</td>\n",
       "      <td>64</td>\n",
       "      <td>2.785.100</td>\n",
       "    </tr>\n",
       "    <tr>\n",
       "      <th>16</th>\n",
       "      <td>2002</td>\n",
       "      <td>Korea/Japan</td>\n",
       "      <td>Brazil</td>\n",
       "      <td>Germany</td>\n",
       "      <td>Turkey</td>\n",
       "      <td>Korea Republic</td>\n",
       "      <td>161</td>\n",
       "      <td>32</td>\n",
       "      <td>64</td>\n",
       "      <td>2.705.197</td>\n",
       "    </tr>\n",
       "    <tr>\n",
       "      <th>17</th>\n",
       "      <td>2006</td>\n",
       "      <td>Germany</td>\n",
       "      <td>Italy</td>\n",
       "      <td>France</td>\n",
       "      <td>Germany</td>\n",
       "      <td>Portugal</td>\n",
       "      <td>147</td>\n",
       "      <td>32</td>\n",
       "      <td>64</td>\n",
       "      <td>3.359.439</td>\n",
       "    </tr>\n",
       "    <tr>\n",
       "      <th>18</th>\n",
       "      <td>2010</td>\n",
       "      <td>South Africa</td>\n",
       "      <td>Spain</td>\n",
       "      <td>Netherlands</td>\n",
       "      <td>Germany</td>\n",
       "      <td>Uruguay</td>\n",
       "      <td>145</td>\n",
       "      <td>32</td>\n",
       "      <td>64</td>\n",
       "      <td>3.178.856</td>\n",
       "    </tr>\n",
       "    <tr>\n",
       "      <th>19</th>\n",
       "      <td>2014</td>\n",
       "      <td>Brazil</td>\n",
       "      <td>Germany</td>\n",
       "      <td>Argentina</td>\n",
       "      <td>Netherlands</td>\n",
       "      <td>Brazil</td>\n",
       "      <td>171</td>\n",
       "      <td>32</td>\n",
       "      <td>64</td>\n",
       "      <td>3.386.810</td>\n",
       "    </tr>\n",
       "  </tbody>\n",
       "</table>\n",
       "</div>"
      ],
      "text/plain": [
       "    Year       Country      Winner      Runners-Up        Third  \\\n",
       "0   1930       Uruguay     Uruguay       Argentina          USA   \n",
       "1   1934         Italy       Italy  Czechoslovakia      Germany   \n",
       "2   1938        France       Italy         Hungary       Brazil   \n",
       "3   1950        Brazil     Uruguay          Brazil       Sweden   \n",
       "4   1954   Switzerland  Germany FR         Hungary      Austria   \n",
       "5   1958        Sweden      Brazil          Sweden       France   \n",
       "6   1962         Chile      Brazil  Czechoslovakia        Chile   \n",
       "7   1966       England     England      Germany FR     Portugal   \n",
       "8   1970        Mexico      Brazil           Italy   Germany FR   \n",
       "9   1974       Germany  Germany FR     Netherlands       Poland   \n",
       "10  1978     Argentina   Argentina     Netherlands       Brazil   \n",
       "11  1982         Spain       Italy      Germany FR       Poland   \n",
       "12  1986        Mexico   Argentina      Germany FR       France   \n",
       "13  1990         Italy  Germany FR       Argentina        Italy   \n",
       "14  1994           USA      Brazil           Italy       Sweden   \n",
       "15  1998        France      France          Brazil      Croatia   \n",
       "16  2002   Korea/Japan      Brazil         Germany       Turkey   \n",
       "17  2006       Germany       Italy          France      Germany   \n",
       "18  2010  South Africa       Spain     Netherlands      Germany   \n",
       "19  2014        Brazil     Germany       Argentina  Netherlands   \n",
       "\n",
       "            Fourth  GoalsScored  QualifiedTeams  MatchesPlayed Attendance  \n",
       "0       Yugoslavia           70              13             18    590.549  \n",
       "1          Austria           70              16             17    363.000  \n",
       "2           Sweden           84              15             18    375.700  \n",
       "3            Spain           88              13             22  1.045.246  \n",
       "4          Uruguay          140              16             26    768.607  \n",
       "5       Germany FR          126              16             35    819.810  \n",
       "6       Yugoslavia           89              16             32    893.172  \n",
       "7     Soviet Union           89              16             32  1.563.135  \n",
       "8          Uruguay           95              16             32  1.603.975  \n",
       "9           Brazil           97              16             38  1.865.753  \n",
       "10           Italy          102              16             38  1.545.791  \n",
       "11          France          146              24             52  2.109.723  \n",
       "12         Belgium          132              24             52  2.394.031  \n",
       "13         England          115              24             52  2.516.215  \n",
       "14        Bulgaria          141              24             52  3.587.538  \n",
       "15     Netherlands          171              32             64  2.785.100  \n",
       "16  Korea Republic          161              32             64  2.705.197  \n",
       "17        Portugal          147              32             64  3.359.439  \n",
       "18         Uruguay          145              32             64  3.178.856  \n",
       "19          Brazil          171              32             64  3.386.810  "
      ]
     },
     "execution_count": 22,
     "metadata": {},
     "output_type": "execute_result"
    }
   ],
   "source": [
    "#Looking at the DF\n",
    "\n",
    "hist_worldcup= pd.read_csv('./data2/WorldCups.csv')\n",
    "hist_worldcup"
   ]
  },
  {
   "cell_type": "code",
   "execution_count": 23,
   "metadata": {
    "execution": {
     "iopub.execute_input": "2022-09-22T09:41:48.867184Z",
     "iopub.status.busy": "2022-09-22T09:41:48.866616Z",
     "iopub.status.idle": "2022-09-22T09:41:48.895112Z",
     "shell.execute_reply": "2022-09-22T09:41:48.894157Z",
     "shell.execute_reply.started": "2022-09-22T09:41:48.867122Z"
    }
   },
   "outputs": [
    {
     "name": "stderr",
     "output_type": "stream",
     "text": [
      "<ipython-input-23-d9c74e9cb8bf>:4: FutureWarning: The default value of regex will change from True to False in a future version. In addition, single character regular expressions will*not* be treated as literal strings when regex=True.\n",
      "  hist_worldcup['Attendance']= hist_worldcup[\"Attendance\"].str.replace('.', '').astype(int)\n"
     ]
    }
   ],
   "source": [
    "hist_worldcup['Attendance'].dtypes #Some problem  with this column. As you can see dtype= object.\n",
    "\n",
    "#There is a problem with this column , that's why the preprocessing\n",
    "hist_worldcup['Attendance']= hist_worldcup[\"Attendance\"].str.replace('.', '').astype(int)\n",
    "\n",
    "\n",
    "#Add the last worldcup row that wasn't in the csv, the last world cup\n",
    "list2018= [2018,'Russia','France','Croatia','Belgium','England',169,32,64,\"3031768\"]\n",
    "hist_worldcup.loc[len(hist_worldcup)] = list2018\n",
    "\n",
    "#Add a column with data about the winner's continent\n",
    "\n",
    "hist_worldcup['Winner_continent']= ['America','Europe','Europe','America','Europe','America','America','Europe','America','Europe',\n",
    "                                   'America','Europe','America','Europe','America','Europe','America','Europe','Europe','Europe','Europe']\n",
    "\n",
    "#'Rename some columns'\n",
    "\n",
    "hist_worldcup= hist_worldcup.rename(columns={'Country':'Country_host','Runners-Up':'Second'})\n",
    "\n",
    "\n",
    "#Add a column with data about the continent where the World Cup was played\n",
    "hist_worldcup['Continent_host']= ['America','Europe','Europe','America','Europe','Europe','America','Europe', 'America','Europe',\n",
    "                                 'America','Europe','America','Europe','America','Europe','Asia','Europe','Africa','America','Europe']\n",
    "\n",
    "\n",
    "#Add a column to inform if the host win the world cup or not\n",
    "hist_worldcup['Host_winner']= hist_worldcup['Country_host']== hist_worldcup['Winner']\n",
    "\n",
    "\n",
    "\n",
    "#Add a column to inform if the host is in the best4\n",
    "hist_worldcup['Host_best4'] = hist_worldcup[['Winner','Second','Third','Fourth']].eq(hist_worldcup['Country_host'],axis=0).any(1)\n",
    "\n",
    "\n",
    "\n",
    "#Turn the Germany FR to Germany\n",
    "hist_worldcup = hist_worldcup.replace(['Germany FR'],'Germany')\n"
   ]
  },
  {
   "cell_type": "code",
   "execution_count": 24,
   "metadata": {
    "execution": {
     "iopub.execute_input": "2022-09-22T09:41:48.896678Z",
     "iopub.status.busy": "2022-09-22T09:41:48.896290Z",
     "iopub.status.idle": "2022-09-22T09:41:48.914294Z",
     "shell.execute_reply": "2022-09-22T09:41:48.913284Z",
     "shell.execute_reply.started": "2022-09-22T09:41:48.896648Z"
    }
   },
   "outputs": [
    {
     "data": {
      "text/html": [
       "<div>\n",
       "<style scoped>\n",
       "    .dataframe tbody tr th:only-of-type {\n",
       "        vertical-align: middle;\n",
       "    }\n",
       "\n",
       "    .dataframe tbody tr th {\n",
       "        vertical-align: top;\n",
       "    }\n",
       "\n",
       "    .dataframe thead th {\n",
       "        text-align: right;\n",
       "    }\n",
       "</style>\n",
       "<table border=\"1\" class=\"dataframe\">\n",
       "  <thead>\n",
       "    <tr style=\"text-align: right;\">\n",
       "      <th></th>\n",
       "      <th>Year</th>\n",
       "      <th>Country_host</th>\n",
       "      <th>Winner</th>\n",
       "      <th>Second</th>\n",
       "      <th>Third</th>\n",
       "      <th>Fourth</th>\n",
       "      <th>GoalsScored</th>\n",
       "      <th>QualifiedTeams</th>\n",
       "      <th>MatchesPlayed</th>\n",
       "      <th>Attendance</th>\n",
       "      <th>Winner_continent</th>\n",
       "      <th>Continent_host</th>\n",
       "      <th>Host_winner</th>\n",
       "      <th>Host_best4</th>\n",
       "    </tr>\n",
       "  </thead>\n",
       "  <tbody>\n",
       "    <tr>\n",
       "      <th>0</th>\n",
       "      <td>1930</td>\n",
       "      <td>Uruguay</td>\n",
       "      <td>Uruguay</td>\n",
       "      <td>Argentina</td>\n",
       "      <td>USA</td>\n",
       "      <td>Yugoslavia</td>\n",
       "      <td>70</td>\n",
       "      <td>13</td>\n",
       "      <td>18</td>\n",
       "      <td>590549</td>\n",
       "      <td>America</td>\n",
       "      <td>America</td>\n",
       "      <td>True</td>\n",
       "      <td>True</td>\n",
       "    </tr>\n",
       "    <tr>\n",
       "      <th>1</th>\n",
       "      <td>1934</td>\n",
       "      <td>Italy</td>\n",
       "      <td>Italy</td>\n",
       "      <td>Czechoslovakia</td>\n",
       "      <td>Germany</td>\n",
       "      <td>Austria</td>\n",
       "      <td>70</td>\n",
       "      <td>16</td>\n",
       "      <td>17</td>\n",
       "      <td>363000</td>\n",
       "      <td>Europe</td>\n",
       "      <td>Europe</td>\n",
       "      <td>True</td>\n",
       "      <td>True</td>\n",
       "    </tr>\n",
       "    <tr>\n",
       "      <th>2</th>\n",
       "      <td>1938</td>\n",
       "      <td>France</td>\n",
       "      <td>Italy</td>\n",
       "      <td>Hungary</td>\n",
       "      <td>Brazil</td>\n",
       "      <td>Sweden</td>\n",
       "      <td>84</td>\n",
       "      <td>15</td>\n",
       "      <td>18</td>\n",
       "      <td>375700</td>\n",
       "      <td>Europe</td>\n",
       "      <td>Europe</td>\n",
       "      <td>False</td>\n",
       "      <td>False</td>\n",
       "    </tr>\n",
       "    <tr>\n",
       "      <th>3</th>\n",
       "      <td>1950</td>\n",
       "      <td>Brazil</td>\n",
       "      <td>Uruguay</td>\n",
       "      <td>Brazil</td>\n",
       "      <td>Sweden</td>\n",
       "      <td>Spain</td>\n",
       "      <td>88</td>\n",
       "      <td>13</td>\n",
       "      <td>22</td>\n",
       "      <td>1045246</td>\n",
       "      <td>America</td>\n",
       "      <td>America</td>\n",
       "      <td>False</td>\n",
       "      <td>True</td>\n",
       "    </tr>\n",
       "    <tr>\n",
       "      <th>4</th>\n",
       "      <td>1954</td>\n",
       "      <td>Switzerland</td>\n",
       "      <td>Germany</td>\n",
       "      <td>Hungary</td>\n",
       "      <td>Austria</td>\n",
       "      <td>Uruguay</td>\n",
       "      <td>140</td>\n",
       "      <td>16</td>\n",
       "      <td>26</td>\n",
       "      <td>768607</td>\n",
       "      <td>Europe</td>\n",
       "      <td>Europe</td>\n",
       "      <td>False</td>\n",
       "      <td>False</td>\n",
       "    </tr>\n",
       "  </tbody>\n",
       "</table>\n",
       "</div>"
      ],
      "text/plain": [
       "   Year Country_host   Winner          Second    Third      Fourth  \\\n",
       "0  1930      Uruguay  Uruguay       Argentina      USA  Yugoslavia   \n",
       "1  1934        Italy    Italy  Czechoslovakia  Germany     Austria   \n",
       "2  1938       France    Italy         Hungary   Brazil      Sweden   \n",
       "3  1950       Brazil  Uruguay          Brazil   Sweden       Spain   \n",
       "4  1954  Switzerland  Germany         Hungary  Austria     Uruguay   \n",
       "\n",
       "   GoalsScored  QualifiedTeams  MatchesPlayed Attendance Winner_continent  \\\n",
       "0           70              13             18     590549          America   \n",
       "1           70              16             17     363000           Europe   \n",
       "2           84              15             18     375700           Europe   \n",
       "3           88              13             22    1045246          America   \n",
       "4          140              16             26     768607           Europe   \n",
       "\n",
       "  Continent_host  Host_winner  Host_best4  \n",
       "0        America         True        True  \n",
       "1         Europe         True        True  \n",
       "2         Europe        False       False  \n",
       "3        America        False        True  \n",
       "4         Europe        False       False  "
      ]
     },
     "execution_count": 24,
     "metadata": {},
     "output_type": "execute_result"
    }
   ],
   "source": [
    "#Looking at how it looks like the DF\n",
    "hist_worldcup.head()"
   ]
  },
  {
   "cell_type": "markdown",
   "metadata": {},
   "source": [
    "## Columns\n",
    "\n",
    "<li> Year </li>\n",
    "<li>  Country_host = where the world cup was played </li>\n",
    "<li>  Winner = World cup Championship </li>\n",
    "<li> Second </li>\n",
    "<li> Third </li>\n",
    "<li>  Fourth </li>\n",
    "<li>  GoalsScored </li>\n",
    "<li> QualifiedTeams = Number of competitors </li>\n",
    "<li> MatchesPlayed </li>\n",
    "<li> Attendance = Total of spectators </li>\n",
    "<li> Winner_continent = champion's continent </li>\n",
    "<li> Continent_host = host's continent </li> \n",
    "<li> Host_winner = if the host wins the world cup, True = Yes, False = Not </li>\n",
    "<li> Host_best4 = if the host is in the best 4   True = Yes, False = Not </li>"
   ]
  },
  {
   "cell_type": "markdown",
   "metadata": {},
   "source": [
    "<div style=\"padding:20px;color:white;margin:0;font-size:220%;text-align:center;display:fill;border-radius:5px;background-color:#008000;overflow:hidden;font-weight:100\">2. Data Visualization</div>"
   ]
  },
  {
   "cell_type": "markdown",
   "metadata": {},
   "source": [
    "<h3>Total Spectators</h3>"
   ]
  },
  {
   "cell_type": "code",
   "execution_count": 25,
   "metadata": {
    "execution": {
     "iopub.execute_input": "2022-09-22T09:41:48.917773Z",
     "iopub.status.busy": "2022-09-22T09:41:48.916900Z",
     "iopub.status.idle": "2022-09-22T09:41:48.924167Z",
     "shell.execute_reply": "2022-09-22T09:41:48.923360Z",
     "shell.execute_reply.started": "2022-09-22T09:41:48.917743Z"
    }
   },
   "outputs": [],
   "source": [
    "#There is a problem with this column , that's why the preprocessing\n",
    "#hist_worldcup['Attendance']= hist_worldcup[\"Attendance\"].str.replace('.', '').astype(int)\n",
    "#hist_worldcup['Attendance']"
   ]
  },
  {
   "cell_type": "code",
   "execution_count": 26,
   "metadata": {
    "execution": {
     "iopub.execute_input": "2022-09-22T09:41:48.925918Z",
     "iopub.status.busy": "2022-09-22T09:41:48.925205Z",
     "iopub.status.idle": "2022-09-22T09:41:49.257131Z",
     "shell.execute_reply": "2022-09-22T09:41:49.256292Z",
     "shell.execute_reply.started": "2022-09-22T09:41:48.925892Z"
    }
   },
   "outputs": [
    {
     "ename": "TypeError",
     "evalue": "unhashable type: 'list'",
     "output_type": "error",
     "traceback": [
      "\u001b[1;31m---------------------------------------------------------------------------\u001b[0m",
      "\u001b[1;31mTypeError\u001b[0m                                 Traceback (most recent call last)",
      "\u001b[1;32m<ipython-input-26-6561f5cb3eb6>\u001b[0m in \u001b[0;36m<module>\u001b[1;34m\u001b[0m\n\u001b[0;32m      2\u001b[0m \u001b[0mplt\u001b[0m\u001b[1;33m.\u001b[0m\u001b[0mtitle\u001b[0m\u001b[1;33m(\u001b[0m\u001b[1;34m'Total of spectators'\u001b[0m\u001b[1;33m,\u001b[0m\u001b[0msize\u001b[0m\u001b[1;33m=\u001b[0m\u001b[1;36m20\u001b[0m\u001b[1;33m,\u001b[0m\u001b[0mweight\u001b[0m\u001b[1;33m=\u001b[0m\u001b[1;34m'bold'\u001b[0m\u001b[1;33m)\u001b[0m\u001b[1;33m\u001b[0m\u001b[1;33m\u001b[0m\u001b[0m\n\u001b[0;32m      3\u001b[0m \u001b[0mhist_worldcup\u001b[0m\u001b[1;33m.\u001b[0m\u001b[0mplot\u001b[0m\u001b[1;33m.\u001b[0m\u001b[0mscatter\u001b[0m\u001b[1;33m(\u001b[0m\u001b[0mx\u001b[0m\u001b[1;33m=\u001b[0m\u001b[1;34m'Attendance'\u001b[0m\u001b[1;33m,\u001b[0m\u001b[0my\u001b[0m\u001b[1;33m=\u001b[0m\u001b[1;34m'Year'\u001b[0m\u001b[1;33m,\u001b[0m\u001b[0max\u001b[0m\u001b[1;33m=\u001b[0m\u001b[0max\u001b[0m\u001b[1;33m,\u001b[0m\u001b[0mzorder\u001b[0m\u001b[1;33m=\u001b[0m\u001b[1;36m2\u001b[0m\u001b[1;33m,\u001b[0m\u001b[0ms\u001b[0m\u001b[1;33m=\u001b[0m\u001b[1;36m100\u001b[0m\u001b[1;33m)\u001b[0m\u001b[1;33m\u001b[0m\u001b[1;33m\u001b[0m\u001b[0m\n\u001b[1;32m----> 4\u001b[1;33m \u001b[0max\u001b[0m\u001b[1;33m.\u001b[0m\u001b[0mspines\u001b[0m\u001b[1;33m[\u001b[0m\u001b[1;33m[\u001b[0m\u001b[1;34m'right'\u001b[0m\u001b[1;33m,\u001b[0m \u001b[1;34m'top'\u001b[0m\u001b[1;33m,\u001b[0m \u001b[1;34m'left'\u001b[0m\u001b[1;33m,\u001b[0m\u001b[1;34m'bottom'\u001b[0m\u001b[1;33m]\u001b[0m\u001b[1;33m]\u001b[0m\u001b[1;33m.\u001b[0m\u001b[0mset_visible\u001b[0m\u001b[1;33m(\u001b[0m\u001b[1;32mFalse\u001b[0m\u001b[1;33m)\u001b[0m\u001b[1;33m\u001b[0m\u001b[1;33m\u001b[0m\u001b[0m\n\u001b[0m\u001b[0;32m      5\u001b[0m \u001b[0max\u001b[0m\u001b[1;33m.\u001b[0m\u001b[0mset_ylabel\u001b[0m\u001b[1;33m(\u001b[0m\u001b[1;32mNone\u001b[0m\u001b[1;33m)\u001b[0m\u001b[1;33m\u001b[0m\u001b[1;33m\u001b[0m\u001b[0m\n\u001b[0;32m      6\u001b[0m \u001b[0max\u001b[0m\u001b[1;33m.\u001b[0m\u001b[0mset_xlabel\u001b[0m\u001b[1;33m(\u001b[0m\u001b[1;32mNone\u001b[0m\u001b[1;33m)\u001b[0m\u001b[1;33m\u001b[0m\u001b[1;33m\u001b[0m\u001b[0m\n",
      "\u001b[1;31mTypeError\u001b[0m: unhashable type: 'list'"
     ]
    },
    {
     "data": {
      "image/png": "[encoded data removed]",
      "text/plain": [
       "<Figure size 864x576 with 1 Axes>"
      ]
     },
     "metadata": {
      "needs_background": "light"
     },
     "output_type": "display_data"
    }
   ],
   "source": [
    "fig, ax= plt.subplots(figsize=(12,8))\n",
    "plt.title('Total of spectators',size=20,weight='bold')\n",
    "hist_worldcup.plot.scatter(x='Attendance',y='Year',ax=ax,zorder=2,s=100)\n",
    "ax.spines[['right', 'top', 'left','bottom']].set_visible(False)\n",
    "ax.set_ylabel(None)\n",
    "ax.set_xlabel(None)\n",
    "ax.grid(visible=True)\n",
    "ax.tick_params(axis='both', which='major', labelsize=15)\n",
    "ax.set_yticks(hist_worldcup['Year'].tolist())\n",
    "ax.set_xticks([500000,1000000,1500000,2000000,2500000,3000000,3500000,4000000])\n",
    "ax.ticklabel_format(style='plain')\n",
    "\n",
    "plt.tick_params(bottom=False, left=False)"
   ]
  },
  {
   "cell_type": "markdown",
   "metadata": {},
   "source": [
    "* As we can see the amount of spectators has grown up through the years. The world cup turned to be the most important sport event in the world. Although I have to say that in the last world cups, there was\n",
    "\n",
    "* An important thing to say is that between 1938 and 1950 there was no World Cup because of **the Second World War**."
   ]
  },
  {
   "cell_type": "markdown",
   "metadata": {},
   "source": [
    "### **Number of countries in the World Cup through years**"
   ]
  },
  {
   "cell_type": "code",
   "execution_count": 27,
   "metadata": {
    "execution": {
     "iopub.execute_input": "2022-09-22T09:41:49.259201Z",
     "iopub.status.busy": "2022-09-22T09:41:49.258295Z",
     "iopub.status.idle": "2022-09-22T09:41:49.516890Z",
     "shell.execute_reply": "2022-09-22T09:41:49.515957Z",
     "shell.execute_reply.started": "2022-09-22T09:41:49.259168Z"
    }
   },
   "outputs": [
    {
     "ename": "TypeError",
     "evalue": "unhashable type: 'list'",
     "output_type": "error",
     "traceback": [
      "\u001b[1;31m---------------------------------------------------------------------------\u001b[0m",
      "\u001b[1;31mTypeError\u001b[0m                                 Traceback (most recent call last)",
      "\u001b[1;32m<ipython-input-27-0d42e9a1c671>\u001b[0m in \u001b[0;36m<module>\u001b[1;34m\u001b[0m\n\u001b[0;32m      2\u001b[0m \u001b[0mplt\u001b[0m\u001b[1;33m.\u001b[0m\u001b[0mtitle\u001b[0m\u001b[1;33m(\u001b[0m\u001b[1;34m'Number of countries in the World Cup'\u001b[0m\u001b[1;33m,\u001b[0m\u001b[0msize\u001b[0m\u001b[1;33m=\u001b[0m\u001b[1;36m20\u001b[0m\u001b[1;33m,\u001b[0m\u001b[0mweight\u001b[0m\u001b[1;33m=\u001b[0m\u001b[1;34m'bold'\u001b[0m\u001b[1;33m)\u001b[0m\u001b[1;33m\u001b[0m\u001b[1;33m\u001b[0m\u001b[0m\n\u001b[0;32m      3\u001b[0m \u001b[0mhist_worldcup\u001b[0m\u001b[1;33m.\u001b[0m\u001b[0mplot\u001b[0m\u001b[1;33m.\u001b[0m\u001b[0mscatter\u001b[0m\u001b[1;33m(\u001b[0m\u001b[0mx\u001b[0m\u001b[1;33m=\u001b[0m\u001b[1;34m'QualifiedTeams'\u001b[0m\u001b[1;33m,\u001b[0m\u001b[0my\u001b[0m\u001b[1;33m=\u001b[0m\u001b[1;34m'Year'\u001b[0m\u001b[1;33m,\u001b[0m\u001b[0max\u001b[0m\u001b[1;33m=\u001b[0m\u001b[0max\u001b[0m\u001b[1;33m,\u001b[0m\u001b[0mzorder\u001b[0m\u001b[1;33m=\u001b[0m\u001b[1;36m2\u001b[0m\u001b[1;33m,\u001b[0m\u001b[0ms\u001b[0m\u001b[1;33m=\u001b[0m\u001b[1;36m100\u001b[0m\u001b[1;33m)\u001b[0m\u001b[1;33m\u001b[0m\u001b[1;33m\u001b[0m\u001b[0m\n\u001b[1;32m----> 4\u001b[1;33m \u001b[0max\u001b[0m\u001b[1;33m.\u001b[0m\u001b[0mspines\u001b[0m\u001b[1;33m[\u001b[0m\u001b[1;33m[\u001b[0m\u001b[1;34m'right'\u001b[0m\u001b[1;33m,\u001b[0m \u001b[1;34m'top'\u001b[0m\u001b[1;33m,\u001b[0m \u001b[1;34m'left'\u001b[0m\u001b[1;33m,\u001b[0m\u001b[1;34m'bottom'\u001b[0m\u001b[1;33m]\u001b[0m\u001b[1;33m]\u001b[0m\u001b[1;33m.\u001b[0m\u001b[0mset_visible\u001b[0m\u001b[1;33m(\u001b[0m\u001b[1;32mFalse\u001b[0m\u001b[1;33m)\u001b[0m\u001b[1;33m\u001b[0m\u001b[1;33m\u001b[0m\u001b[0m\n\u001b[0m\u001b[0;32m      5\u001b[0m \u001b[0max\u001b[0m\u001b[1;33m.\u001b[0m\u001b[0mset_ylabel\u001b[0m\u001b[1;33m(\u001b[0m\u001b[1;32mNone\u001b[0m\u001b[1;33m)\u001b[0m\u001b[1;33m\u001b[0m\u001b[1;33m\u001b[0m\u001b[0m\n\u001b[0;32m      6\u001b[0m \u001b[0max\u001b[0m\u001b[1;33m.\u001b[0m\u001b[0mset_xlabel\u001b[0m\u001b[1;33m(\u001b[0m\u001b[1;32mNone\u001b[0m\u001b[1;33m)\u001b[0m\u001b[1;33m\u001b[0m\u001b[1;33m\u001b[0m\u001b[0m\n",
      "\u001b[1;31mTypeError\u001b[0m: unhashable type: 'list'"
     ]
    },
    {
     "data": {
      "image/png": "[encoded data removed]",
      "text/plain": [
       "<Figure size 864x576 with 1 Axes>"
      ]
     },
     "metadata": {
      "needs_background": "light"
     },
     "output_type": "display_data"
    }
   ],
   "source": [
    "fig, ax= plt.subplots(figsize=(12,8))\n",
    "plt.title('Number of countries in the World Cup',size=20,weight='bold')\n",
    "hist_worldcup.plot.scatter(x='QualifiedTeams',y='Year',ax=ax,zorder=2,s=100)\n",
    "ax.spines[['right', 'top', 'left','bottom']].set_visible(False)\n",
    "ax.set_ylabel(None)\n",
    "ax.set_xlabel(None)\n",
    "ax.grid(visible=True)\n",
    "ax.tick_params(axis='both', which='major', labelsize=15)\n",
    "ax.set_yticks(hist_worldcup['Year'].tolist())\n",
    "ax.set_xticks([0,16,24 ,32,48])\n",
    "plt.tick_params(bottom=False, left=False)"
   ]
  },
  {
   "cell_type": "markdown",
   "metadata": {},
   "source": [
    "<h3> From the beggining, the World Cup has been incresing cup after cup. It has started with 13 countries and now there are 32.</h3>"
   ]
  },
  {
   "cell_type": "markdown",
   "metadata": {},
   "source": [
    "### **World Cup goals scored per year**"
   ]
  },
  {
   "cell_type": "code",
   "execution_count": 28,
   "metadata": {
    "execution": {
     "iopub.execute_input": "2022-09-22T09:41:49.518690Z",
     "iopub.status.busy": "2022-09-22T09:41:49.517991Z",
     "iopub.status.idle": "2022-09-22T09:41:49.783298Z",
     "shell.execute_reply": "2022-09-22T09:41:49.782555Z",
     "shell.execute_reply.started": "2022-09-22T09:41:49.518665Z"
    }
   },
   "outputs": [
    {
     "ename": "TypeError",
     "evalue": "unhashable type: 'list'",
     "output_type": "error",
     "traceback": [
      "\u001b[1;31m---------------------------------------------------------------------------\u001b[0m",
      "\u001b[1;31mTypeError\u001b[0m                                 Traceback (most recent call last)",
      "\u001b[1;32m<ipython-input-28-a1b112c62f22>\u001b[0m in \u001b[0;36m<module>\u001b[1;34m\u001b[0m\n\u001b[0;32m      2\u001b[0m \u001b[0mplt\u001b[0m\u001b[1;33m.\u001b[0m\u001b[0mtitle\u001b[0m\u001b[1;33m(\u001b[0m\u001b[1;34m'World cup goals scored per year'\u001b[0m\u001b[1;33m,\u001b[0m\u001b[0msize\u001b[0m\u001b[1;33m=\u001b[0m\u001b[1;36m20\u001b[0m\u001b[1;33m,\u001b[0m\u001b[0mweight\u001b[0m\u001b[1;33m=\u001b[0m\u001b[1;34m'bold'\u001b[0m\u001b[1;33m)\u001b[0m\u001b[1;33m\u001b[0m\u001b[1;33m\u001b[0m\u001b[0m\n\u001b[0;32m      3\u001b[0m \u001b[0mhist_worldcup\u001b[0m\u001b[1;33m.\u001b[0m\u001b[0mplot\u001b[0m\u001b[1;33m.\u001b[0m\u001b[0mscatter\u001b[0m\u001b[1;33m(\u001b[0m\u001b[0mx\u001b[0m\u001b[1;33m=\u001b[0m\u001b[1;34m'GoalsScored'\u001b[0m\u001b[1;33m,\u001b[0m\u001b[0my\u001b[0m\u001b[1;33m=\u001b[0m\u001b[1;34m'Year'\u001b[0m\u001b[1;33m,\u001b[0m\u001b[0max\u001b[0m\u001b[1;33m=\u001b[0m\u001b[0max\u001b[0m\u001b[1;33m,\u001b[0m\u001b[0mzorder\u001b[0m\u001b[1;33m=\u001b[0m\u001b[1;36m2\u001b[0m\u001b[1;33m,\u001b[0m\u001b[0ms\u001b[0m\u001b[1;33m=\u001b[0m\u001b[1;36m100\u001b[0m\u001b[1;33m)\u001b[0m\u001b[1;33m\u001b[0m\u001b[1;33m\u001b[0m\u001b[0m\n\u001b[1;32m----> 4\u001b[1;33m \u001b[0max\u001b[0m\u001b[1;33m.\u001b[0m\u001b[0mspines\u001b[0m\u001b[1;33m[\u001b[0m\u001b[1;33m[\u001b[0m\u001b[1;34m'right'\u001b[0m\u001b[1;33m,\u001b[0m \u001b[1;34m'top'\u001b[0m\u001b[1;33m,\u001b[0m \u001b[1;34m'left'\u001b[0m\u001b[1;33m,\u001b[0m\u001b[1;34m'bottom'\u001b[0m\u001b[1;33m]\u001b[0m\u001b[1;33m]\u001b[0m\u001b[1;33m.\u001b[0m\u001b[0mset_visible\u001b[0m\u001b[1;33m(\u001b[0m\u001b[1;32mFalse\u001b[0m\u001b[1;33m)\u001b[0m\u001b[1;33m\u001b[0m\u001b[1;33m\u001b[0m\u001b[0m\n\u001b[0m\u001b[0;32m      5\u001b[0m \u001b[0max\u001b[0m\u001b[1;33m.\u001b[0m\u001b[0mset_ylabel\u001b[0m\u001b[1;33m(\u001b[0m\u001b[1;32mNone\u001b[0m\u001b[1;33m)\u001b[0m\u001b[1;33m\u001b[0m\u001b[1;33m\u001b[0m\u001b[0m\n\u001b[0;32m      6\u001b[0m \u001b[0max\u001b[0m\u001b[1;33m.\u001b[0m\u001b[0mset_xlabel\u001b[0m\u001b[1;33m(\u001b[0m\u001b[1;32mNone\u001b[0m\u001b[1;33m)\u001b[0m\u001b[1;33m\u001b[0m\u001b[1;33m\u001b[0m\u001b[0m\n",
      "\u001b[1;31mTypeError\u001b[0m: unhashable type: 'list'"
     ]
    },
    {
     "data": {
      "image/png": "[encoded data removed]",
      "text/plain": [
       "<Figure size 864x576 with 1 Axes>"
      ]
     },
     "metadata": {
      "needs_background": "light"
     },
     "output_type": "display_data"
    }
   ],
   "source": [
    "fig, ax= plt.subplots(figsize=(12,8))\n",
    "plt.title('World cup goals scored per year',size=20,weight='bold')\n",
    "hist_worldcup.plot.scatter(x='GoalsScored',y='Year',ax=ax,zorder=2,s=100)\n",
    "ax.spines[['right', 'top', 'left','bottom']].set_visible(False)\n",
    "ax.set_ylabel(None)\n",
    "ax.set_xlabel(None)\n",
    "ax.grid(visible=True)\n",
    "ax.tick_params(axis='both', which='major', labelsize=15)\n",
    "ax.set_yticks(hist_worldcup['Year'].tolist())\n",
    "ax.set_xticks([50,75,100,125,150,175,200])\n",
    "plt.tick_params(bottom=False, left=False)"
   ]
  },
  {
   "cell_type": "markdown",
   "metadata": {},
   "source": [
    "<h3> The amount of countries and, as we can see in the DF, the amount of matches played turned the World Cup to have more goals scored.</h3>"
   ]
  },
  {
   "cell_type": "markdown",
   "metadata": {},
   "source": [
    "## **World Cup Champions**"
   ]
  },
  {
   "cell_type": "code",
   "execution_count": 29,
   "metadata": {
    "execution": {
     "iopub.execute_input": "2022-09-22T09:57:08.241304Z",
     "iopub.status.busy": "2022-09-22T09:57:08.240979Z",
     "iopub.status.idle": "2022-09-22T09:57:08.427927Z",
     "shell.execute_reply": "2022-09-22T09:57:08.427112Z",
     "shell.execute_reply.started": "2022-09-22T09:57:08.241276Z"
    }
   },
   "outputs": [
    {
     "ename": "TypeError",
     "evalue": "unhashable type: 'list'",
     "output_type": "error",
     "traceback": [
      "\u001b[1;31m---------------------------------------------------------------------------\u001b[0m",
      "\u001b[1;31mTypeError\u001b[0m                                 Traceback (most recent call last)",
      "\u001b[1;32m<ipython-input-29-24e8c95a7771>\u001b[0m in \u001b[0;36m<module>\u001b[1;34m\u001b[0m\n\u001b[0;32m      4\u001b[0m \u001b[0mplt\u001b[0m\u001b[1;33m.\u001b[0m\u001b[0mtitle\u001b[0m\u001b[1;33m(\u001b[0m\u001b[1;34m'World Cup Champions'\u001b[0m\u001b[1;33m,\u001b[0m\u001b[0msize\u001b[0m\u001b[1;33m=\u001b[0m\u001b[1;36m20\u001b[0m\u001b[1;33m,\u001b[0m\u001b[0mweight\u001b[0m\u001b[1;33m=\u001b[0m\u001b[1;34m'bold'\u001b[0m\u001b[1;33m)\u001b[0m\u001b[1;33m\u001b[0m\u001b[1;33m\u001b[0m\u001b[0m\n\u001b[0;32m      5\u001b[0m \u001b[0msns\u001b[0m\u001b[1;33m.\u001b[0m\u001b[0mcountplot\u001b[0m\u001b[1;33m(\u001b[0m\u001b[0mx\u001b[0m \u001b[1;33m=\u001b[0m \u001b[0mhist_worldcup\u001b[0m\u001b[1;33m[\u001b[0m\u001b[1;34m'Winner'\u001b[0m\u001b[1;33m]\u001b[0m\u001b[1;33m,\u001b[0m \u001b[0mpalette\u001b[0m\u001b[1;33m=\u001b[0m\u001b[0mpalette\u001b[0m\u001b[1;33m,\u001b[0m\u001b[0mlinewidth\u001b[0m\u001b[1;33m=\u001b[0m\u001b[1;36m2.5\u001b[0m\u001b[1;33m,\u001b[0m \u001b[0medgecolor\u001b[0m\u001b[1;33m=\u001b[0m\u001b[1;34m\".2\"\u001b[0m\u001b[1;33m)\u001b[0m\u001b[1;33m\u001b[0m\u001b[1;33m\u001b[0m\u001b[0m\n\u001b[1;32m----> 6\u001b[1;33m \u001b[0max\u001b[0m\u001b[1;33m.\u001b[0m\u001b[0mspines\u001b[0m\u001b[1;33m[\u001b[0m\u001b[1;33m[\u001b[0m\u001b[1;34m'right'\u001b[0m\u001b[1;33m,\u001b[0m \u001b[1;34m'top'\u001b[0m\u001b[1;33m,\u001b[0m \u001b[1;34m'left'\u001b[0m\u001b[1;33m,\u001b[0m\u001b[1;34m'bottom'\u001b[0m\u001b[1;33m]\u001b[0m\u001b[1;33m]\u001b[0m\u001b[1;33m.\u001b[0m\u001b[0mset_visible\u001b[0m\u001b[1;33m(\u001b[0m\u001b[1;32mFalse\u001b[0m\u001b[1;33m)\u001b[0m\u001b[1;33m\u001b[0m\u001b[1;33m\u001b[0m\u001b[0m\n\u001b[0m\u001b[0;32m      7\u001b[0m \u001b[0max\u001b[0m\u001b[1;33m.\u001b[0m\u001b[0mset_ylabel\u001b[0m\u001b[1;33m(\u001b[0m\u001b[1;32mNone\u001b[0m\u001b[1;33m)\u001b[0m\u001b[1;33m\u001b[0m\u001b[1;33m\u001b[0m\u001b[0m\n\u001b[0;32m      8\u001b[0m \u001b[0max\u001b[0m\u001b[1;33m.\u001b[0m\u001b[0mset_xlabel\u001b[0m\u001b[1;33m(\u001b[0m\u001b[1;32mNone\u001b[0m\u001b[1;33m)\u001b[0m\u001b[1;33m\u001b[0m\u001b[1;33m\u001b[0m\u001b[0m\n",
      "\u001b[1;31mTypeError\u001b[0m: unhashable type: 'list'"
     ]
    },
    {
     "data": {
      "image/png": "[encoded data removed]",
      "text/plain": [
       "<Figure size 1152x576 with 1 Axes>"
      ]
     },
     "metadata": {
      "needs_background": "light"
     },
     "output_type": "display_data"
    }
   ],
   "source": [
    "palette=['coral','orange','orange','yellow','firebrick','coral','coral','firebrick']\n",
    "fig, ax= plt.subplots(figsize=(16,8))\n",
    "\n",
    "plt.title('World Cup Champions',size=20,weight='bold')\n",
    "sns.countplot(x = hist_worldcup['Winner'], palette=palette,linewidth=2.5, edgecolor=\".2\")\n",
    "ax.spines[['right', 'top', 'left','bottom']].set_visible(False)\n",
    "ax.set_ylabel(None)\n",
    "ax.set_xlabel(None)\n",
    "plt.tick_params(labelleft=False, left=False,labelsize=14)\n",
    "\n",
    "for i in ax.containers:\n",
    "    ax.bar_label(i,fontsize=15);"
   ]
  },
  {
   "cell_type": "markdown",
   "metadata": {},
   "source": [
    " ###  Brazil has won the World Cup more times than any other country in the world.\n",
    "\n",
    "![](https://web-test.conmebol.com/wp-content/uploads/2020/06/ebviac5xqaivupq.jpeg)\n"
   ]
  },
  {
   "cell_type": "markdown",
   "metadata": {},
   "source": [
    "### **Which continent has got the most amount of World Cups?**"
   ]
  },
  {
   "cell_type": "code",
   "execution_count": 30,
   "metadata": {
    "execution": {
     "iopub.execute_input": "2022-09-22T09:41:49.959821Z",
     "iopub.status.busy": "2022-09-22T09:41:49.959141Z",
     "iopub.status.idle": "2022-09-22T09:41:49.965175Z",
     "shell.execute_reply": "2022-09-22T09:41:49.964503Z",
     "shell.execute_reply.started": "2022-09-22T09:41:49.959789Z"
    }
   },
   "outputs": [],
   "source": [
    "index1 = hist_worldcup['Winner_continent'].value_counts().index.tolist() #preprocessing for plotting a pie chart\n",
    "value1 = hist_worldcup['Winner_continent'].value_counts().values.tolist()\n"
   ]
  },
  {
   "cell_type": "code",
   "execution_count": 31,
   "metadata": {
    "execution": {
     "iopub.execute_input": "2022-09-22T09:41:49.966787Z",
     "iopub.status.busy": "2022-09-22T09:41:49.966331Z",
     "iopub.status.idle": "2022-09-22T09:41:50.466510Z",
     "shell.execute_reply": "2022-09-22T09:41:50.465548Z",
     "shell.execute_reply.started": "2022-09-22T09:41:49.966755Z"
    }
   },
   "outputs": [
    {
     "ename": "TypeError",
     "evalue": "unhashable type: 'list'",
     "output_type": "error",
     "traceback": [
      "\u001b[1;31m---------------------------------------------------------------------------\u001b[0m",
      "\u001b[1;31mTypeError\u001b[0m                                 Traceback (most recent call last)",
      "\u001b[1;32m<ipython-input-31-83d0829a167f>\u001b[0m in \u001b[0;36m<module>\u001b[1;34m\u001b[0m\n\u001b[0;32m      6\u001b[0m \u001b[0msns\u001b[0m\u001b[1;33m.\u001b[0m\u001b[0mcountplot\u001b[0m\u001b[1;33m(\u001b[0m\u001b[0max\u001b[0m\u001b[1;33m=\u001b[0m\u001b[0max\u001b[0m\u001b[1;33m[\u001b[0m\u001b[1;36m0\u001b[0m\u001b[1;33m]\u001b[0m\u001b[1;33m,\u001b[0m\u001b[0mx\u001b[0m\u001b[1;33m=\u001b[0m\u001b[0mhist_worldcup\u001b[0m\u001b[1;33m[\u001b[0m\u001b[1;34m'Winner_continent'\u001b[0m\u001b[1;33m]\u001b[0m\u001b[1;33m,\u001b[0m\u001b[0mpalette\u001b[0m\u001b[1;33m=\u001b[0m\u001b[0mpalette\u001b[0m\u001b[1;33m,\u001b[0m\u001b[0mlinewidth\u001b[0m\u001b[1;33m=\u001b[0m\u001b[1;36m2.5\u001b[0m\u001b[1;33m,\u001b[0m \u001b[0medgecolor\u001b[0m\u001b[1;33m=\u001b[0m\u001b[1;34m\".2\"\u001b[0m\u001b[1;33m)\u001b[0m\u001b[1;33m\u001b[0m\u001b[1;33m\u001b[0m\u001b[0m\n\u001b[0;32m      7\u001b[0m \u001b[0max\u001b[0m\u001b[1;33m[\u001b[0m\u001b[1;36m0\u001b[0m\u001b[1;33m]\u001b[0m\u001b[1;33m.\u001b[0m\u001b[0mset_title\u001b[0m\u001b[1;33m(\u001b[0m\u001b[1;34m'World Cup by Continent'\u001b[0m\u001b[1;33m,\u001b[0m\u001b[0msize\u001b[0m\u001b[1;33m=\u001b[0m\u001b[1;36m20\u001b[0m\u001b[1;33m,\u001b[0m\u001b[0mweight\u001b[0m\u001b[1;33m=\u001b[0m\u001b[1;34m'bold'\u001b[0m\u001b[1;33m)\u001b[0m\u001b[1;33m\u001b[0m\u001b[1;33m\u001b[0m\u001b[0m\n\u001b[1;32m----> 8\u001b[1;33m \u001b[0max\u001b[0m\u001b[1;33m[\u001b[0m\u001b[1;36m0\u001b[0m\u001b[1;33m]\u001b[0m\u001b[1;33m.\u001b[0m\u001b[0mspines\u001b[0m\u001b[1;33m[\u001b[0m\u001b[1;33m[\u001b[0m\u001b[1;34m'right'\u001b[0m\u001b[1;33m,\u001b[0m \u001b[1;34m'top'\u001b[0m\u001b[1;33m,\u001b[0m \u001b[1;34m'left'\u001b[0m\u001b[1;33m,\u001b[0m\u001b[1;34m'bottom'\u001b[0m\u001b[1;33m]\u001b[0m\u001b[1;33m]\u001b[0m\u001b[1;33m.\u001b[0m\u001b[0mset_visible\u001b[0m\u001b[1;33m(\u001b[0m\u001b[1;32mFalse\u001b[0m\u001b[1;33m)\u001b[0m\u001b[1;33m\u001b[0m\u001b[1;33m\u001b[0m\u001b[0m\n\u001b[0m\u001b[0;32m      9\u001b[0m \u001b[0max\u001b[0m\u001b[1;33m[\u001b[0m\u001b[1;36m0\u001b[0m\u001b[1;33m]\u001b[0m\u001b[1;33m.\u001b[0m\u001b[0mset_ylabel\u001b[0m\u001b[1;33m(\u001b[0m\u001b[1;32mNone\u001b[0m\u001b[1;33m)\u001b[0m\u001b[1;33m\u001b[0m\u001b[1;33m\u001b[0m\u001b[0m\n\u001b[0;32m     10\u001b[0m \u001b[0max\u001b[0m\u001b[1;33m[\u001b[0m\u001b[1;36m0\u001b[0m\u001b[1;33m]\u001b[0m\u001b[1;33m.\u001b[0m\u001b[0mset_xlabel\u001b[0m\u001b[1;33m(\u001b[0m\u001b[1;32mNone\u001b[0m\u001b[1;33m)\u001b[0m\u001b[1;33m\u001b[0m\u001b[1;33m\u001b[0m\u001b[0m\n",
      "\u001b[1;31mTypeError\u001b[0m: unhashable type: 'list'"
     ]
    },
    {
     "data": {
      "image/png": "[encoded data removed]",
      "text/plain": [
       "<Figure size 1152x576 with 2 Axes>"
      ]
     },
     "metadata": {
      "needs_background": "light"
     },
     "output_type": "display_data"
    }
   ],
   "source": [
    "palette=['firebrick','yellow']\n",
    "\n",
    "fig, ax= plt.subplots(nrows=1, ncols=2, figsize=(16,8))\n",
    "\n",
    "\n",
    "sns.countplot(ax=ax[0],x=hist_worldcup['Winner_continent'],palette=palette,linewidth=2.5, edgecolor=\".2\")\n",
    "ax[0].set_title('World Cup by Continent',size=20,weight='bold')\n",
    "ax[0].spines[['right', 'top', 'left','bottom']].set_visible(False)\n",
    "ax[0].set_ylabel(None)\n",
    "ax[0].set_xlabel(None)\n",
    "ax[0].tick_params(labelleft=False, left=False,labelsize=14)\n",
    "\n",
    "\n",
    "for i in ax[0].containers:\n",
    "    ax[0].bar_label(i,fontsize=15);\n",
    "    \n",
    "    \n",
    "    \n",
    "plt.pie(value1, labels = index1, autopct='%.0f%%' ,colors=['yellow','firebrick'],wedgeprops={\"edgecolor\":\"0\",'linewidth': 2.5,\n",
    "                    'antialiased': True},startangle=90,textprops={'fontsize': 20})\n",
    "ax[1].set_title('World Cup winning percentage by continent',size=20,weight='bold');\n",
    "\n"
   ]
  },
  {
   "cell_type": "markdown",
   "metadata": {},
   "source": [
    "<h3> As we can see, there is no Africa, Asian or Oceania Country. The World Cup has been always won by European or American countries.</h3>\n",
    "<h3> But European Countries has a bit more.</h3>\n",
    "\n",
    "![](https://editorial.uefa.com/resources/0252-0e8601efd21c-f0c6ba84591c-1000/format/wide1/1772593_w1.jpeg?imwidth=2048)"
   ]
  },
  {
   "cell_type": "code",
   "execution_count": 32,
   "metadata": {
    "execution": {
     "iopub.execute_input": "2022-09-22T09:41:50.468237Z",
     "iopub.status.busy": "2022-09-22T09:41:50.467681Z",
     "iopub.status.idle": "2022-09-22T09:41:50.650496Z",
     "shell.execute_reply": "2022-09-22T09:41:50.649679Z",
     "shell.execute_reply.started": "2022-09-22T09:41:50.468213Z"
    }
   },
   "outputs": [
    {
     "ename": "TypeError",
     "evalue": "unhashable type: 'list'",
     "output_type": "error",
     "traceback": [
      "\u001b[1;31m---------------------------------------------------------------------------\u001b[0m",
      "\u001b[1;31mTypeError\u001b[0m                                 Traceback (most recent call last)",
      "\u001b[1;32m<ipython-input-32-a953daaab88a>\u001b[0m in \u001b[0;36m<module>\u001b[1;34m\u001b[0m\n\u001b[0;32m      2\u001b[0m \u001b[0mplt\u001b[0m\u001b[1;33m.\u001b[0m\u001b[0mtitle\u001b[0m\u001b[1;33m(\u001b[0m\u001b[1;34m'Which continent has got the country that won the World Cup by years '\u001b[0m\u001b[1;33m,\u001b[0m\u001b[0msize\u001b[0m\u001b[1;33m=\u001b[0m\u001b[1;36m20\u001b[0m\u001b[1;33m,\u001b[0m\u001b[0mweight\u001b[0m\u001b[1;33m=\u001b[0m\u001b[1;34m'bold'\u001b[0m\u001b[1;33m)\u001b[0m\u001b[1;33m\u001b[0m\u001b[1;33m\u001b[0m\u001b[0m\n\u001b[0;32m      3\u001b[0m \u001b[0mhist_worldcup\u001b[0m\u001b[1;33m.\u001b[0m\u001b[0mplot\u001b[0m\u001b[1;33m.\u001b[0m\u001b[0mscatter\u001b[0m\u001b[1;33m(\u001b[0m\u001b[0mx\u001b[0m\u001b[1;33m=\u001b[0m\u001b[1;34m'Winner_continent'\u001b[0m\u001b[1;33m,\u001b[0m\u001b[0my\u001b[0m\u001b[1;33m=\u001b[0m\u001b[1;34m'Year'\u001b[0m\u001b[1;33m,\u001b[0m\u001b[0max\u001b[0m\u001b[1;33m=\u001b[0m\u001b[0max\u001b[0m\u001b[1;33m,\u001b[0m\u001b[0mzorder\u001b[0m\u001b[1;33m=\u001b[0m\u001b[1;36m2\u001b[0m\u001b[1;33m,\u001b[0m\u001b[0ms\u001b[0m\u001b[1;33m=\u001b[0m\u001b[1;36m100\u001b[0m\u001b[1;33m)\u001b[0m\u001b[1;33m\u001b[0m\u001b[1;33m\u001b[0m\u001b[0m\n\u001b[1;32m----> 4\u001b[1;33m \u001b[0max\u001b[0m\u001b[1;33m.\u001b[0m\u001b[0mspines\u001b[0m\u001b[1;33m[\u001b[0m\u001b[1;33m[\u001b[0m\u001b[1;34m'right'\u001b[0m\u001b[1;33m,\u001b[0m \u001b[1;34m'top'\u001b[0m\u001b[1;33m,\u001b[0m \u001b[1;34m'left'\u001b[0m\u001b[1;33m,\u001b[0m\u001b[1;34m'bottom'\u001b[0m\u001b[1;33m]\u001b[0m\u001b[1;33m]\u001b[0m\u001b[1;33m.\u001b[0m\u001b[0mset_visible\u001b[0m\u001b[1;33m(\u001b[0m\u001b[1;32mFalse\u001b[0m\u001b[1;33m)\u001b[0m\u001b[1;33m\u001b[0m\u001b[1;33m\u001b[0m\u001b[0m\n\u001b[0m\u001b[0;32m      5\u001b[0m \u001b[0max\u001b[0m\u001b[1;33m.\u001b[0m\u001b[0mset_ylabel\u001b[0m\u001b[1;33m(\u001b[0m\u001b[1;32mNone\u001b[0m\u001b[1;33m)\u001b[0m\u001b[1;33m\u001b[0m\u001b[1;33m\u001b[0m\u001b[0m\n\u001b[0;32m      6\u001b[0m \u001b[0max\u001b[0m\u001b[1;33m.\u001b[0m\u001b[0mset_xlabel\u001b[0m\u001b[1;33m(\u001b[0m\u001b[1;32mNone\u001b[0m\u001b[1;33m)\u001b[0m\u001b[1;33m\u001b[0m\u001b[1;33m\u001b[0m\u001b[0m\n",
      "\u001b[1;31mTypeError\u001b[0m: unhashable type: 'list'"
     ]
    },
    {
     "data": {
      "image/png": "[encoded data removed]",
      "text/plain": [
       "<Figure size 432x576 with 1 Axes>"
      ]
     },
     "metadata": {
      "needs_background": "light"
     },
     "output_type": "display_data"
    }
   ],
   "source": [
    "fig, ax= plt.subplots(figsize=(6,8))\n",
    "plt.title('Which continent has got the country that won the World Cup by years ',size=20,weight='bold')\n",
    "hist_worldcup.plot.scatter(x='Winner_continent',y='Year',ax=ax,zorder=2,s=100)\n",
    "ax.spines[['right', 'top', 'left','bottom']].set_visible(False)\n",
    "ax.set_ylabel(None)\n",
    "ax.set_xlabel(None)\n",
    "ax.grid(visible=True)\n",
    "ax.tick_params(axis='both', which='major', labelsize=15)\n",
    "ax.set_yticks(hist_worldcup['Year'].tolist());\n"
   ]
  },
  {
   "cell_type": "markdown",
   "metadata": {},
   "source": [
    "### In fact, the European's difference has become higher in the last four World Cups.\n",
    "\n",
    "\n",
    "### The last Champion was France...\n",
    "\n",
    "![](https://www.telegraph.co.uk/content/dam/world-cup/2018/07/15/TELEMMGLPICT000169509382_trans_NvBQzQNjv4BqpVlberWd9EgFPZtcLiMQfyf2A9a6I9YchsjMeADBa08.jpeg?imwidth=960)"
   ]
  },
  {
   "cell_type": "markdown",
   "metadata": {},
   "source": [
    "## **Number of times in the top 4**"
   ]
  },
  {
   "cell_type": "code",
   "execution_count": 33,
   "metadata": {
    "execution": {
     "iopub.execute_input": "2022-09-22T09:41:50.651864Z",
     "iopub.status.busy": "2022-09-22T09:41:50.651600Z",
     "iopub.status.idle": "2022-09-22T09:41:50.687602Z",
     "shell.execute_reply": "2022-09-22T09:41:50.686592Z",
     "shell.execute_reply.started": "2022-09-22T09:41:50.651838Z"
    }
   },
   "outputs": [
    {
     "data": {
      "text/html": [
       "<div>\n",
       "<style scoped>\n",
       "    .dataframe tbody tr th:only-of-type {\n",
       "        vertical-align: middle;\n",
       "    }\n",
       "\n",
       "    .dataframe tbody tr th {\n",
       "        vertical-align: top;\n",
       "    }\n",
       "\n",
       "    .dataframe thead th {\n",
       "        text-align: right;\n",
       "    }\n",
       "</style>\n",
       "<table border=\"1\" class=\"dataframe\">\n",
       "  <thead>\n",
       "    <tr style=\"text-align: right;\">\n",
       "      <th></th>\n",
       "      <th>index</th>\n",
       "      <th>Winner</th>\n",
       "      <th>Second</th>\n",
       "      <th>Third</th>\n",
       "      <th>Fourth</th>\n",
       "      <th>Total</th>\n",
       "      <th>Final</th>\n",
       "    </tr>\n",
       "  </thead>\n",
       "  <tbody>\n",
       "    <tr>\n",
       "      <th>0</th>\n",
       "      <td>Argentina</td>\n",
       "      <td>2.0</td>\n",
       "      <td>3.0</td>\n",
       "      <td>0.0</td>\n",
       "      <td>0.0</td>\n",
       "      <td>5.0</td>\n",
       "      <td>5.0</td>\n",
       "    </tr>\n",
       "    <tr>\n",
       "      <th>1</th>\n",
       "      <td>Austria</td>\n",
       "      <td>0.0</td>\n",
       "      <td>0.0</td>\n",
       "      <td>1.0</td>\n",
       "      <td>1.0</td>\n",
       "      <td>2.0</td>\n",
       "      <td>0.0</td>\n",
       "    </tr>\n",
       "    <tr>\n",
       "      <th>2</th>\n",
       "      <td>Belgium</td>\n",
       "      <td>0.0</td>\n",
       "      <td>0.0</td>\n",
       "      <td>1.0</td>\n",
       "      <td>1.0</td>\n",
       "      <td>2.0</td>\n",
       "      <td>0.0</td>\n",
       "    </tr>\n",
       "    <tr>\n",
       "      <th>3</th>\n",
       "      <td>Brazil</td>\n",
       "      <td>5.0</td>\n",
       "      <td>2.0</td>\n",
       "      <td>2.0</td>\n",
       "      <td>2.0</td>\n",
       "      <td>11.0</td>\n",
       "      <td>7.0</td>\n",
       "    </tr>\n",
       "    <tr>\n",
       "      <th>4</th>\n",
       "      <td>Bulgaria</td>\n",
       "      <td>0.0</td>\n",
       "      <td>0.0</td>\n",
       "      <td>0.0</td>\n",
       "      <td>1.0</td>\n",
       "      <td>1.0</td>\n",
       "      <td>0.0</td>\n",
       "    </tr>\n",
       "    <tr>\n",
       "      <th>5</th>\n",
       "      <td>Chile</td>\n",
       "      <td>0.0</td>\n",
       "      <td>0.0</td>\n",
       "      <td>1.0</td>\n",
       "      <td>0.0</td>\n",
       "      <td>1.0</td>\n",
       "      <td>0.0</td>\n",
       "    </tr>\n",
       "    <tr>\n",
       "      <th>6</th>\n",
       "      <td>Croatia</td>\n",
       "      <td>0.0</td>\n",
       "      <td>1.0</td>\n",
       "      <td>1.0</td>\n",
       "      <td>0.0</td>\n",
       "      <td>2.0</td>\n",
       "      <td>1.0</td>\n",
       "    </tr>\n",
       "    <tr>\n",
       "      <th>7</th>\n",
       "      <td>Czechoslovakia</td>\n",
       "      <td>0.0</td>\n",
       "      <td>2.0</td>\n",
       "      <td>0.0</td>\n",
       "      <td>0.0</td>\n",
       "      <td>2.0</td>\n",
       "      <td>2.0</td>\n",
       "    </tr>\n",
       "    <tr>\n",
       "      <th>8</th>\n",
       "      <td>England</td>\n",
       "      <td>1.0</td>\n",
       "      <td>0.0</td>\n",
       "      <td>0.0</td>\n",
       "      <td>2.0</td>\n",
       "      <td>3.0</td>\n",
       "      <td>1.0</td>\n",
       "    </tr>\n",
       "    <tr>\n",
       "      <th>9</th>\n",
       "      <td>France</td>\n",
       "      <td>2.0</td>\n",
       "      <td>1.0</td>\n",
       "      <td>2.0</td>\n",
       "      <td>1.0</td>\n",
       "      <td>6.0</td>\n",
       "      <td>3.0</td>\n",
       "    </tr>\n",
       "    <tr>\n",
       "      <th>10</th>\n",
       "      <td>Germany</td>\n",
       "      <td>4.0</td>\n",
       "      <td>4.0</td>\n",
       "      <td>4.0</td>\n",
       "      <td>1.0</td>\n",
       "      <td>13.0</td>\n",
       "      <td>8.0</td>\n",
       "    </tr>\n",
       "    <tr>\n",
       "      <th>11</th>\n",
       "      <td>Hungary</td>\n",
       "      <td>0.0</td>\n",
       "      <td>2.0</td>\n",
       "      <td>0.0</td>\n",
       "      <td>0.0</td>\n",
       "      <td>2.0</td>\n",
       "      <td>2.0</td>\n",
       "    </tr>\n",
       "    <tr>\n",
       "      <th>12</th>\n",
       "      <td>Italy</td>\n",
       "      <td>4.0</td>\n",
       "      <td>2.0</td>\n",
       "      <td>1.0</td>\n",
       "      <td>1.0</td>\n",
       "      <td>8.0</td>\n",
       "      <td>6.0</td>\n",
       "    </tr>\n",
       "    <tr>\n",
       "      <th>13</th>\n",
       "      <td>Korea Republic</td>\n",
       "      <td>0.0</td>\n",
       "      <td>0.0</td>\n",
       "      <td>0.0</td>\n",
       "      <td>1.0</td>\n",
       "      <td>1.0</td>\n",
       "      <td>0.0</td>\n",
       "    </tr>\n",
       "    <tr>\n",
       "      <th>14</th>\n",
       "      <td>Netherlands</td>\n",
       "      <td>0.0</td>\n",
       "      <td>3.0</td>\n",
       "      <td>1.0</td>\n",
       "      <td>1.0</td>\n",
       "      <td>5.0</td>\n",
       "      <td>3.0</td>\n",
       "    </tr>\n",
       "    <tr>\n",
       "      <th>15</th>\n",
       "      <td>Poland</td>\n",
       "      <td>0.0</td>\n",
       "      <td>0.0</td>\n",
       "      <td>2.0</td>\n",
       "      <td>0.0</td>\n",
       "      <td>2.0</td>\n",
       "      <td>0.0</td>\n",
       "    </tr>\n",
       "    <tr>\n",
       "      <th>16</th>\n",
       "      <td>Portugal</td>\n",
       "      <td>0.0</td>\n",
       "      <td>0.0</td>\n",
       "      <td>1.0</td>\n",
       "      <td>1.0</td>\n",
       "      <td>2.0</td>\n",
       "      <td>0.0</td>\n",
       "    </tr>\n",
       "    <tr>\n",
       "      <th>17</th>\n",
       "      <td>Soviet Union</td>\n",
       "      <td>0.0</td>\n",
       "      <td>0.0</td>\n",
       "      <td>0.0</td>\n",
       "      <td>1.0</td>\n",
       "      <td>1.0</td>\n",
       "      <td>0.0</td>\n",
       "    </tr>\n",
       "    <tr>\n",
       "      <th>18</th>\n",
       "      <td>Spain</td>\n",
       "      <td>1.0</td>\n",
       "      <td>0.0</td>\n",
       "      <td>0.0</td>\n",
       "      <td>1.0</td>\n",
       "      <td>2.0</td>\n",
       "      <td>1.0</td>\n",
       "    </tr>\n",
       "    <tr>\n",
       "      <th>19</th>\n",
       "      <td>Sweden</td>\n",
       "      <td>0.0</td>\n",
       "      <td>1.0</td>\n",
       "      <td>2.0</td>\n",
       "      <td>1.0</td>\n",
       "      <td>4.0</td>\n",
       "      <td>1.0</td>\n",
       "    </tr>\n",
       "    <tr>\n",
       "      <th>20</th>\n",
       "      <td>Turkey</td>\n",
       "      <td>0.0</td>\n",
       "      <td>0.0</td>\n",
       "      <td>1.0</td>\n",
       "      <td>0.0</td>\n",
       "      <td>1.0</td>\n",
       "      <td>0.0</td>\n",
       "    </tr>\n",
       "    <tr>\n",
       "      <th>21</th>\n",
       "      <td>USA</td>\n",
       "      <td>0.0</td>\n",
       "      <td>0.0</td>\n",
       "      <td>1.0</td>\n",
       "      <td>0.0</td>\n",
       "      <td>1.0</td>\n",
       "      <td>0.0</td>\n",
       "    </tr>\n",
       "    <tr>\n",
       "      <th>22</th>\n",
       "      <td>Uruguay</td>\n",
       "      <td>2.0</td>\n",
       "      <td>0.0</td>\n",
       "      <td>0.0</td>\n",
       "      <td>3.0</td>\n",
       "      <td>5.0</td>\n",
       "      <td>2.0</td>\n",
       "    </tr>\n",
       "    <tr>\n",
       "      <th>23</th>\n",
       "      <td>Yugoslavia</td>\n",
       "      <td>0.0</td>\n",
       "      <td>0.0</td>\n",
       "      <td>0.0</td>\n",
       "      <td>2.0</td>\n",
       "      <td>2.0</td>\n",
       "      <td>0.0</td>\n",
       "    </tr>\n",
       "  </tbody>\n",
       "</table>\n",
       "</div>"
      ],
      "text/plain": [
       "             index  Winner  Second  Third  Fourth  Total  Final\n",
       "0        Argentina     2.0     3.0    0.0     0.0    5.0    5.0\n",
       "1          Austria     0.0     0.0    1.0     1.0    2.0    0.0\n",
       "2          Belgium     0.0     0.0    1.0     1.0    2.0    0.0\n",
       "3           Brazil     5.0     2.0    2.0     2.0   11.0    7.0\n",
       "4         Bulgaria     0.0     0.0    0.0     1.0    1.0    0.0\n",
       "5            Chile     0.0     0.0    1.0     0.0    1.0    0.0\n",
       "6          Croatia     0.0     1.0    1.0     0.0    2.0    1.0\n",
       "7   Czechoslovakia     0.0     2.0    0.0     0.0    2.0    2.0\n",
       "8          England     1.0     0.0    0.0     2.0    3.0    1.0\n",
       "9           France     2.0     1.0    2.0     1.0    6.0    3.0\n",
       "10         Germany     4.0     4.0    4.0     1.0   13.0    8.0\n",
       "11         Hungary     0.0     2.0    0.0     0.0    2.0    2.0\n",
       "12           Italy     4.0     2.0    1.0     1.0    8.0    6.0\n",
       "13  Korea Republic     0.0     0.0    0.0     1.0    1.0    0.0\n",
       "14     Netherlands     0.0     3.0    1.0     1.0    5.0    3.0\n",
       "15          Poland     0.0     0.0    2.0     0.0    2.0    0.0\n",
       "16        Portugal     0.0     0.0    1.0     1.0    2.0    0.0\n",
       "17    Soviet Union     0.0     0.0    0.0     1.0    1.0    0.0\n",
       "18           Spain     1.0     0.0    0.0     1.0    2.0    1.0\n",
       "19          Sweden     0.0     1.0    2.0     1.0    4.0    1.0\n",
       "20          Turkey     0.0     0.0    1.0     0.0    1.0    0.0\n",
       "21             USA     0.0     0.0    1.0     0.0    1.0    0.0\n",
       "22         Uruguay     2.0     0.0    0.0     3.0    5.0    2.0\n",
       "23      Yugoslavia     0.0     0.0    0.0     2.0    2.0    0.0"
      ]
     },
     "execution_count": 33,
     "metadata": {},
     "output_type": "execute_result"
    }
   ],
   "source": [
    "col=['Winner','Second','Third','Fourth'] #Preprocessing\n",
    "\n",
    "countries = hist_worldcup[col].apply(pd.value_counts).reset_index().fillna(0)\n",
    "countries['Total'] = countries['Winner']+countries['Second']+countries['Third']+countries['Fourth']\n",
    "countries['Final'] = countries['Winner']+countries['Second']\n",
    "countries\n"
   ]
  },
  {
   "cell_type": "code",
   "execution_count": 34,
   "metadata": {
    "execution": {
     "iopub.execute_input": "2022-09-22T09:41:50.689313Z",
     "iopub.status.busy": "2022-09-22T09:41:50.689027Z",
     "iopub.status.idle": "2022-09-22T09:41:51.072966Z",
     "shell.execute_reply": "2022-09-22T09:41:51.072066Z",
     "shell.execute_reply.started": "2022-09-22T09:41:50.689286Z"
    }
   },
   "outputs": [
    {
     "ename": "TypeError",
     "evalue": "unhashable type: 'list'",
     "output_type": "error",
     "traceback": [
      "\u001b[1;31m---------------------------------------------------------------------------\u001b[0m",
      "\u001b[1;31mTypeError\u001b[0m                                 Traceback (most recent call last)",
      "\u001b[1;32m<ipython-input-34-721ec6805cf4>\u001b[0m in \u001b[0;36m<module>\u001b[1;34m\u001b[0m\n\u001b[0;32m      5\u001b[0m \u001b[0mplt\u001b[0m\u001b[1;33m.\u001b[0m\u001b[0mtitle\u001b[0m\u001b[1;33m(\u001b[0m\u001b[1;34m'Number of times in the top 4'\u001b[0m\u001b[1;33m,\u001b[0m\u001b[0msize\u001b[0m\u001b[1;33m=\u001b[0m\u001b[1;36m20\u001b[0m\u001b[1;33m,\u001b[0m\u001b[0mweight\u001b[0m\u001b[1;33m=\u001b[0m\u001b[1;34m'bold'\u001b[0m\u001b[1;33m)\u001b[0m\u001b[1;33m\u001b[0m\u001b[1;33m\u001b[0m\u001b[0m\n\u001b[0;32m      6\u001b[0m \u001b[0msns\u001b[0m\u001b[1;33m.\u001b[0m\u001b[0mbarplot\u001b[0m\u001b[1;33m(\u001b[0m\u001b[0mdata\u001b[0m\u001b[1;33m=\u001b[0m\u001b[0mcountries\u001b[0m\u001b[1;33m,\u001b[0m\u001b[0mx\u001b[0m\u001b[1;33m=\u001b[0m\u001b[1;34m'index'\u001b[0m\u001b[1;33m,\u001b[0m\u001b[0my\u001b[0m\u001b[1;33m=\u001b[0m\u001b[1;34m'Total'\u001b[0m\u001b[1;33m,\u001b[0m\u001b[0mpalette\u001b[0m\u001b[1;33m=\u001b[0m\u001b[0mclrs\u001b[0m\u001b[1;33m,\u001b[0m\u001b[0mlinewidth\u001b[0m\u001b[1;33m=\u001b[0m\u001b[1;36m2.5\u001b[0m\u001b[1;33m,\u001b[0m \u001b[0medgecolor\u001b[0m\u001b[1;33m=\u001b[0m\u001b[1;34m\".2\"\u001b[0m\u001b[1;33m)\u001b[0m\u001b[1;33m\u001b[0m\u001b[1;33m\u001b[0m\u001b[0m\n\u001b[1;32m----> 7\u001b[1;33m \u001b[0max\u001b[0m\u001b[1;33m.\u001b[0m\u001b[0mspines\u001b[0m\u001b[1;33m[\u001b[0m\u001b[1;33m[\u001b[0m\u001b[1;34m'right'\u001b[0m\u001b[1;33m,\u001b[0m \u001b[1;34m'top'\u001b[0m\u001b[1;33m,\u001b[0m \u001b[1;34m'left'\u001b[0m\u001b[1;33m,\u001b[0m\u001b[1;34m'bottom'\u001b[0m\u001b[1;33m]\u001b[0m\u001b[1;33m]\u001b[0m\u001b[1;33m.\u001b[0m\u001b[0mset_visible\u001b[0m\u001b[1;33m(\u001b[0m\u001b[1;32mFalse\u001b[0m\u001b[1;33m)\u001b[0m\u001b[1;33m\u001b[0m\u001b[1;33m\u001b[0m\u001b[0m\n\u001b[0m\u001b[0;32m      8\u001b[0m \u001b[0max\u001b[0m\u001b[1;33m.\u001b[0m\u001b[0mset_ylabel\u001b[0m\u001b[1;33m(\u001b[0m\u001b[1;32mNone\u001b[0m\u001b[1;33m)\u001b[0m\u001b[1;33m\u001b[0m\u001b[1;33m\u001b[0m\u001b[0m\n\u001b[0;32m      9\u001b[0m \u001b[0max\u001b[0m\u001b[1;33m.\u001b[0m\u001b[0mset_xlabel\u001b[0m\u001b[1;33m(\u001b[0m\u001b[1;32mNone\u001b[0m\u001b[1;33m)\u001b[0m\u001b[1;33m\u001b[0m\u001b[1;33m\u001b[0m\u001b[0m\n",
      "\u001b[1;31mTypeError\u001b[0m: unhashable type: 'list'"
     ]
    },
    {
     "data": {
      "image/png": "[encoded data removed]",
      "text/plain": [
       "<Figure size 1440x576 with 1 Axes>"
      ]
     },
     "metadata": {
      "needs_background": "light"
     },
     "output_type": "display_data"
    }
   ],
   "source": [
    "#Set the Palette\n",
    "clrs= ['yellow' if (i>=8) else 'y' if (5<=i<8) else 'firebrick' if (3<=i<5) else 'orangered' if (i==2) else 'red' for i in countries['Total']]\n",
    "\n",
    "fig, ax= plt.subplots(figsize=(20,8))\n",
    "plt.title('Number of times in the top 4',size=20,weight='bold')\n",
    "sns.barplot(data=countries,x='index',y='Total',palette=clrs,linewidth=2.5, edgecolor=\".2\")\n",
    "ax.spines[['right', 'top', 'left','bottom']].set_visible(False)\n",
    "ax.set_ylabel(None)\n",
    "ax.set_xlabel(None)\n",
    "plt.tick_params(labelleft=False, left=False,labelsize=14)\n",
    "\n",
    "\n",
    "plt.xticks(rotation=45)\n",
    "\n",
    "for i in ax.containers:\n",
    "    ax.bar_label(i,fontsize=15);\n"
   ]
  },
  {
   "cell_type": "markdown",
   "metadata": {},
   "source": [
    "* ### Germany is the Country that has arrived more times to the semifinal. Brazil follows, then Italy\n",
    "![](https://media.gq.com.mx/photos/5be9fd19b5be864fa44b0be7/master/w_1600,c_limit/alemania_mundial_brasil_2014_5681.jpg)"
   ]
  },
  {
   "cell_type": "markdown",
   "metadata": {},
   "source": [
    "## **Number of times in the final**"
   ]
  },
  {
   "cell_type": "code",
   "execution_count": 35,
   "metadata": {
    "execution": {
     "iopub.execute_input": "2022-09-22T09:41:51.074373Z",
     "iopub.status.busy": "2022-09-22T09:41:51.074139Z",
     "iopub.status.idle": "2022-09-22T09:41:51.094944Z",
     "shell.execute_reply": "2022-09-22T09:41:51.093805Z",
     "shell.execute_reply.started": "2022-09-22T09:41:51.074351Z"
    }
   },
   "outputs": [
    {
     "data": {
      "text/html": [
       "<div>\n",
       "<style scoped>\n",
       "    .dataframe tbody tr th:only-of-type {\n",
       "        vertical-align: middle;\n",
       "    }\n",
       "\n",
       "    .dataframe tbody tr th {\n",
       "        vertical-align: top;\n",
       "    }\n",
       "\n",
       "    .dataframe thead th {\n",
       "        text-align: right;\n",
       "    }\n",
       "</style>\n",
       "<table border=\"1\" class=\"dataframe\">\n",
       "  <thead>\n",
       "    <tr style=\"text-align: right;\">\n",
       "      <th></th>\n",
       "      <th>index</th>\n",
       "      <th>Winner</th>\n",
       "      <th>Second</th>\n",
       "      <th>Third</th>\n",
       "      <th>Fourth</th>\n",
       "      <th>Total</th>\n",
       "      <th>Final</th>\n",
       "    </tr>\n",
       "  </thead>\n",
       "  <tbody>\n",
       "    <tr>\n",
       "      <th>0</th>\n",
       "      <td>Argentina</td>\n",
       "      <td>2.0</td>\n",
       "      <td>3.0</td>\n",
       "      <td>0.0</td>\n",
       "      <td>0.0</td>\n",
       "      <td>5.0</td>\n",
       "      <td>5.0</td>\n",
       "    </tr>\n",
       "    <tr>\n",
       "      <th>3</th>\n",
       "      <td>Brazil</td>\n",
       "      <td>5.0</td>\n",
       "      <td>2.0</td>\n",
       "      <td>2.0</td>\n",
       "      <td>2.0</td>\n",
       "      <td>11.0</td>\n",
       "      <td>7.0</td>\n",
       "    </tr>\n",
       "    <tr>\n",
       "      <th>6</th>\n",
       "      <td>Croatia</td>\n",
       "      <td>0.0</td>\n",
       "      <td>1.0</td>\n",
       "      <td>1.0</td>\n",
       "      <td>0.0</td>\n",
       "      <td>2.0</td>\n",
       "      <td>1.0</td>\n",
       "    </tr>\n",
       "    <tr>\n",
       "      <th>7</th>\n",
       "      <td>Czechoslovakia</td>\n",
       "      <td>0.0</td>\n",
       "      <td>2.0</td>\n",
       "      <td>0.0</td>\n",
       "      <td>0.0</td>\n",
       "      <td>2.0</td>\n",
       "      <td>2.0</td>\n",
       "    </tr>\n",
       "    <tr>\n",
       "      <th>8</th>\n",
       "      <td>England</td>\n",
       "      <td>1.0</td>\n",
       "      <td>0.0</td>\n",
       "      <td>0.0</td>\n",
       "      <td>2.0</td>\n",
       "      <td>3.0</td>\n",
       "      <td>1.0</td>\n",
       "    </tr>\n",
       "    <tr>\n",
       "      <th>9</th>\n",
       "      <td>France</td>\n",
       "      <td>2.0</td>\n",
       "      <td>1.0</td>\n",
       "      <td>2.0</td>\n",
       "      <td>1.0</td>\n",
       "      <td>6.0</td>\n",
       "      <td>3.0</td>\n",
       "    </tr>\n",
       "    <tr>\n",
       "      <th>10</th>\n",
       "      <td>Germany</td>\n",
       "      <td>4.0</td>\n",
       "      <td>4.0</td>\n",
       "      <td>4.0</td>\n",
       "      <td>1.0</td>\n",
       "      <td>13.0</td>\n",
       "      <td>8.0</td>\n",
       "    </tr>\n",
       "    <tr>\n",
       "      <th>11</th>\n",
       "      <td>Hungary</td>\n",
       "      <td>0.0</td>\n",
       "      <td>2.0</td>\n",
       "      <td>0.0</td>\n",
       "      <td>0.0</td>\n",
       "      <td>2.0</td>\n",
       "      <td>2.0</td>\n",
       "    </tr>\n",
       "    <tr>\n",
       "      <th>12</th>\n",
       "      <td>Italy</td>\n",
       "      <td>4.0</td>\n",
       "      <td>2.0</td>\n",
       "      <td>1.0</td>\n",
       "      <td>1.0</td>\n",
       "      <td>8.0</td>\n",
       "      <td>6.0</td>\n",
       "    </tr>\n",
       "    <tr>\n",
       "      <th>14</th>\n",
       "      <td>Netherlands</td>\n",
       "      <td>0.0</td>\n",
       "      <td>3.0</td>\n",
       "      <td>1.0</td>\n",
       "      <td>1.0</td>\n",
       "      <td>5.0</td>\n",
       "      <td>3.0</td>\n",
       "    </tr>\n",
       "    <tr>\n",
       "      <th>18</th>\n",
       "      <td>Spain</td>\n",
       "      <td>1.0</td>\n",
       "      <td>0.0</td>\n",
       "      <td>0.0</td>\n",
       "      <td>1.0</td>\n",
       "      <td>2.0</td>\n",
       "      <td>1.0</td>\n",
       "    </tr>\n",
       "    <tr>\n",
       "      <th>19</th>\n",
       "      <td>Sweden</td>\n",
       "      <td>0.0</td>\n",
       "      <td>1.0</td>\n",
       "      <td>2.0</td>\n",
       "      <td>1.0</td>\n",
       "      <td>4.0</td>\n",
       "      <td>1.0</td>\n",
       "    </tr>\n",
       "    <tr>\n",
       "      <th>22</th>\n",
       "      <td>Uruguay</td>\n",
       "      <td>2.0</td>\n",
       "      <td>0.0</td>\n",
       "      <td>0.0</td>\n",
       "      <td>3.0</td>\n",
       "      <td>5.0</td>\n",
       "      <td>2.0</td>\n",
       "    </tr>\n",
       "  </tbody>\n",
       "</table>\n",
       "</div>"
      ],
      "text/plain": [
       "             index  Winner  Second  Third  Fourth  Total  Final\n",
       "0        Argentina     2.0     3.0    0.0     0.0    5.0    5.0\n",
       "3           Brazil     5.0     2.0    2.0     2.0   11.0    7.0\n",
       "6          Croatia     0.0     1.0    1.0     0.0    2.0    1.0\n",
       "7   Czechoslovakia     0.0     2.0    0.0     0.0    2.0    2.0\n",
       "8          England     1.0     0.0    0.0     2.0    3.0    1.0\n",
       "9           France     2.0     1.0    2.0     1.0    6.0    3.0\n",
       "10         Germany     4.0     4.0    4.0     1.0   13.0    8.0\n",
       "11         Hungary     0.0     2.0    0.0     0.0    2.0    2.0\n",
       "12           Italy     4.0     2.0    1.0     1.0    8.0    6.0\n",
       "14     Netherlands     0.0     3.0    1.0     1.0    5.0    3.0\n",
       "18           Spain     1.0     0.0    0.0     1.0    2.0    1.0\n",
       "19          Sweden     0.0     1.0    2.0     1.0    4.0    1.0\n",
       "22         Uruguay     2.0     0.0    0.0     3.0    5.0    2.0"
      ]
     },
     "execution_count": 35,
     "metadata": {},
     "output_type": "execute_result"
    }
   ],
   "source": [
    "finalist = countries.drop(countries[(countries['Winner']==0) & (countries['Second']==0)].index) #Preprocessing\n",
    "finalist"
   ]
  },
  {
   "cell_type": "code",
   "execution_count": 36,
   "metadata": {
    "execution": {
     "iopub.execute_input": "2022-09-22T09:41:51.096622Z",
     "iopub.status.busy": "2022-09-22T09:41:51.096343Z",
     "iopub.status.idle": "2022-09-22T09:41:51.367370Z",
     "shell.execute_reply": "2022-09-22T09:41:51.366532Z",
     "shell.execute_reply.started": "2022-09-22T09:41:51.096598Z"
    }
   },
   "outputs": [
    {
     "ename": "TypeError",
     "evalue": "unhashable type: 'list'",
     "output_type": "error",
     "traceback": [
      "\u001b[1;31m---------------------------------------------------------------------------\u001b[0m",
      "\u001b[1;31mTypeError\u001b[0m                                 Traceback (most recent call last)",
      "\u001b[1;32m<ipython-input-36-009f1a036307>\u001b[0m in \u001b[0;36m<module>\u001b[1;34m\u001b[0m\n\u001b[0;32m      6\u001b[0m \u001b[0mplt\u001b[0m\u001b[1;33m.\u001b[0m\u001b[0mtitle\u001b[0m\u001b[1;33m(\u001b[0m\u001b[1;34m'Number of times in the final'\u001b[0m\u001b[1;33m,\u001b[0m\u001b[0msize\u001b[0m\u001b[1;33m=\u001b[0m\u001b[1;36m20\u001b[0m\u001b[1;33m,\u001b[0m\u001b[0mweight\u001b[0m\u001b[1;33m=\u001b[0m\u001b[1;34m'bold'\u001b[0m\u001b[1;33m)\u001b[0m\u001b[1;33m\u001b[0m\u001b[1;33m\u001b[0m\u001b[0m\n\u001b[0;32m      7\u001b[0m \u001b[0msns\u001b[0m\u001b[1;33m.\u001b[0m\u001b[0mbarplot\u001b[0m\u001b[1;33m(\u001b[0m\u001b[0mdata\u001b[0m\u001b[1;33m=\u001b[0m\u001b[0mfinalist\u001b[0m\u001b[1;33m,\u001b[0m\u001b[0mx\u001b[0m\u001b[1;33m=\u001b[0m\u001b[1;34m'index'\u001b[0m\u001b[1;33m,\u001b[0m\u001b[0my\u001b[0m\u001b[1;33m=\u001b[0m\u001b[1;34m'Final'\u001b[0m\u001b[1;33m,\u001b[0m\u001b[0mpalette\u001b[0m\u001b[1;33m=\u001b[0m\u001b[0mclrs\u001b[0m\u001b[1;33m,\u001b[0m\u001b[0mlinewidth\u001b[0m\u001b[1;33m=\u001b[0m\u001b[1;36m2.5\u001b[0m\u001b[1;33m,\u001b[0m \u001b[0medgecolor\u001b[0m\u001b[1;33m=\u001b[0m\u001b[1;34m\".2\"\u001b[0m\u001b[1;33m)\u001b[0m\u001b[1;33m\u001b[0m\u001b[1;33m\u001b[0m\u001b[0m\n\u001b[1;32m----> 8\u001b[1;33m \u001b[0max\u001b[0m\u001b[1;33m.\u001b[0m\u001b[0mspines\u001b[0m\u001b[1;33m[\u001b[0m\u001b[1;33m[\u001b[0m\u001b[1;34m'right'\u001b[0m\u001b[1;33m,\u001b[0m \u001b[1;34m'top'\u001b[0m\u001b[1;33m,\u001b[0m \u001b[1;34m'left'\u001b[0m\u001b[1;33m,\u001b[0m\u001b[1;34m'bottom'\u001b[0m\u001b[1;33m]\u001b[0m\u001b[1;33m]\u001b[0m\u001b[1;33m.\u001b[0m\u001b[0mset_visible\u001b[0m\u001b[1;33m(\u001b[0m\u001b[1;32mFalse\u001b[0m\u001b[1;33m)\u001b[0m\u001b[1;33m\u001b[0m\u001b[1;33m\u001b[0m\u001b[0m\n\u001b[0m\u001b[0;32m      9\u001b[0m \u001b[0max\u001b[0m\u001b[1;33m.\u001b[0m\u001b[0mset_ylabel\u001b[0m\u001b[1;33m(\u001b[0m\u001b[1;32mNone\u001b[0m\u001b[1;33m)\u001b[0m\u001b[1;33m\u001b[0m\u001b[1;33m\u001b[0m\u001b[0m\n\u001b[0;32m     10\u001b[0m \u001b[0max\u001b[0m\u001b[1;33m.\u001b[0m\u001b[0mset_xlabel\u001b[0m\u001b[1;33m(\u001b[0m\u001b[1;32mNone\u001b[0m\u001b[1;33m)\u001b[0m\u001b[1;33m\u001b[0m\u001b[1;33m\u001b[0m\u001b[0m\n",
      "\u001b[1;31mTypeError\u001b[0m: unhashable type: 'list'"
     ]
    },
    {
     "data": {
      "image/png": "[encoded data removed]",
      "text/plain": [
       "<Figure size 1440x576 with 1 Axes>"
      ]
     },
     "metadata": {
      "needs_background": "light"
     },
     "output_type": "display_data"
    }
   ],
   "source": [
    "#Set the color\n",
    "clrs= ['yellow' if (i>=6) else 'y' if (i==5) else 'firebrick' if (3<=i<5) else 'orangered' if (i==2) else 'red' for i in finalist['Final']]\n",
    "\n",
    "\n",
    "fig, ax= plt.subplots(figsize=(20,8))\n",
    "plt.title('Number of times in the final',size=20,weight='bold')\n",
    "sns.barplot(data=finalist,x='index',y='Final',palette=clrs,linewidth=2.5, edgecolor=\".2\")\n",
    "ax.spines[['right', 'top', 'left','bottom']].set_visible(False)\n",
    "ax.set_ylabel(None)\n",
    "ax.set_xlabel(None)\n",
    "plt.tick_params(labelleft=False, left=False,labelsize=14)\n",
    "\n",
    "\n",
    "plt.xticks(rotation=45)\n",
    "\n",
    "for i in ax.containers:\n",
    "    ax.bar_label(i,fontsize=15);"
   ]
  },
  {
   "cell_type": "markdown",
   "metadata": {},
   "source": [
    "* ### The same three countries.\n",
    "* ### An important thing to see is that Argentina has the same value than in the other figure. So, Argentina has never been third or fourth.\n",
    "![](https://images2.minutemediacdn.com/image/upload/c_fill,w_912,h_516,f_auto,q_auto,g_auto/shape/cover/sport/fifa-world-cup-2014-brazil-argentina-v-bosnia-and-herzegovina-5ea1a6a726e40eb1dd000001.jpg)"
   ]
  },
  {
   "cell_type": "markdown",
   "metadata": {},
   "source": [
    "## **Looking at the relationship between being champion and reaching the final**"
   ]
  },
  {
   "cell_type": "code",
   "execution_count": 37,
   "metadata": {
    "execution": {
     "iopub.execute_input": "2022-09-22T09:41:51.369179Z",
     "iopub.status.busy": "2022-09-22T09:41:51.368747Z",
     "iopub.status.idle": "2022-09-22T09:41:51.378813Z",
     "shell.execute_reply": "2022-09-22T09:41:51.378086Z",
     "shell.execute_reply.started": "2022-09-22T09:41:51.369144Z"
    }
   },
   "outputs": [],
   "source": [
    "finalist['rel_final'] = finalist['Winner']/finalist['Final'] #preprocessing\n",
    "relationship= np.round(finalist[(finalist['Second']>0) | (finalist['Winner']>0)],decimals=2)\n"
   ]
  },
  {
   "cell_type": "code",
   "execution_count": 38,
   "metadata": {
    "execution": {
     "iopub.execute_input": "2022-09-22T09:41:51.380259Z",
     "iopub.status.busy": "2022-09-22T09:41:51.379662Z",
     "iopub.status.idle": "2022-09-22T09:41:51.650309Z",
     "shell.execute_reply": "2022-09-22T09:41:51.649611Z",
     "shell.execute_reply.started": "2022-09-22T09:41:51.380234Z"
    }
   },
   "outputs": [
    {
     "data": {
      "text/plain": [
       "(array([ 0,  1,  2,  3,  4,  5,  6,  7,  8,  9, 10, 11, 12]),\n",
       " [Text(0, 0, 'Argentina'),\n",
       "  Text(1, 0, 'Brazil'),\n",
       "  Text(2, 0, 'Croatia'),\n",
       "  Text(3, 0, 'Czechoslovakia'),\n",
       "  Text(4, 0, 'England'),\n",
       "  Text(5, 0, 'France'),\n",
       "  Text(6, 0, 'Germany'),\n",
       "  Text(7, 0, 'Hungary'),\n",
       "  Text(8, 0, 'Italy'),\n",
       "  Text(9, 0, 'Netherlands'),\n",
       "  Text(10, 0, 'Spain'),\n",
       "  Text(11, 0, 'Sweden'),\n",
       "  Text(12, 0, 'Uruguay')])"
      ]
     },
     "execution_count": 38,
     "metadata": {},
     "output_type": "execute_result"
    },
    {
     "data": {
      "image/png": "[encoded data removed]",
      "text/plain": [
       "<Figure size 1440x576 with 1 Axes>"
      ]
     },
     "metadata": {
      "needs_background": "light"
     },
     "output_type": "display_data"
    }
   ],
   "source": [
    "#Set the color\n",
    "clrs= ['yellow' if (i==1) else 'y' if (0.5<i<1) else 'firebrick' if (i==0.5) else 'orangered' if (0<i<0.5) else 'red' for i in relationship['rel_final']]\n",
    "\n",
    "\n",
    "fig, ax= plt.subplots(figsize=(20,8))\n",
    "plt.title('Percentage of winning reaching the final',size=20,weight='bold')\n",
    "sns.barplot(data=relationship,x='index',y='rel_final',palette=clrs,linewidth=2.5, edgecolor=\".2\")\n",
    "ax.set_ylabel(None)\n",
    "ax.set_xlabel(None)\n",
    "plt.tick_params(labelleft=False, left=False,labelsize=14)\n",
    "\n",
    "\n",
    "plt.xticks(rotation=45)"
   ]
  },
  {
   "cell_type": "markdown",
   "metadata": {},
   "source": [
    "* ### 1 is the best rate between winning/reach the final, 0 is the worst. There are three countries that have always won the world cup when they reached the final: England, Spain and Uruguay. But there is only one country that have reached the final more than one time. Yes, Uruguay.\n",
    "![](https://sc2.elpais.com.uy/files/article_default_content/uploads/2022/05/12/627d85a1a393b.jpeg)\n",
    "\n",
    "* ### And if we compare with the other figure, we realize that Netherlands reached the final on three times, but they always lost.\n",
    "\n",
    "![](https://canalshowsport.com.ar/wp-content/uploads/2020/08/1537590545_703853_1537590712_noticia_normal-768x432.jpg)"
   ]
  },
  {
   "cell_type": "markdown",
   "metadata": {},
   "source": [
    "## **How many times each country reach at least the first 4 position** "
   ]
  },
  {
   "cell_type": "code",
   "execution_count": 39,
   "metadata": {
    "execution": {
     "iopub.execute_input": "2022-09-22T09:41:51.651855Z",
     "iopub.status.busy": "2022-09-22T09:41:51.651373Z",
     "iopub.status.idle": "2022-09-22T09:41:51.678210Z",
     "shell.execute_reply": "2022-09-22T09:41:51.677381Z",
     "shell.execute_reply.started": "2022-09-22T09:41:51.651828Z"
    }
   },
   "outputs": [
    {
     "data": {
      "text/html": [
       "<div>\n",
       "<style scoped>\n",
       "    .dataframe tbody tr th:only-of-type {\n",
       "        vertical-align: middle;\n",
       "    }\n",
       "\n",
       "    .dataframe tbody tr th {\n",
       "        vertical-align: top;\n",
       "    }\n",
       "\n",
       "    .dataframe thead th {\n",
       "        text-align: right;\n",
       "    }\n",
       "</style>\n",
       "<table border=\"1\" class=\"dataframe\">\n",
       "  <thead>\n",
       "    <tr style=\"text-align: right;\">\n",
       "      <th></th>\n",
       "      <th>index</th>\n",
       "      <th>Argentina</th>\n",
       "      <th>Austria</th>\n",
       "      <th>Belgium</th>\n",
       "      <th>Brazil</th>\n",
       "      <th>Bulgaria</th>\n",
       "      <th>Chile</th>\n",
       "      <th>Croatia</th>\n",
       "      <th>Czechoslovakia</th>\n",
       "      <th>England</th>\n",
       "      <th>...</th>\n",
       "      <th>Netherlands</th>\n",
       "      <th>Poland</th>\n",
       "      <th>Portugal</th>\n",
       "      <th>Soviet Union</th>\n",
       "      <th>Spain</th>\n",
       "      <th>Sweden</th>\n",
       "      <th>Turkey</th>\n",
       "      <th>USA</th>\n",
       "      <th>Uruguay</th>\n",
       "      <th>Yugoslavia</th>\n",
       "    </tr>\n",
       "  </thead>\n",
       "  <tbody>\n",
       "    <tr>\n",
       "      <th>0</th>\n",
       "      <td>Winner</td>\n",
       "      <td>2.0</td>\n",
       "      <td>0.0</td>\n",
       "      <td>0.0</td>\n",
       "      <td>5.0</td>\n",
       "      <td>0.0</td>\n",
       "      <td>0.0</td>\n",
       "      <td>0.0</td>\n",
       "      <td>0.0</td>\n",
       "      <td>1.0</td>\n",
       "      <td>...</td>\n",
       "      <td>0.0</td>\n",
       "      <td>0.0</td>\n",
       "      <td>0.0</td>\n",
       "      <td>0.0</td>\n",
       "      <td>1.0</td>\n",
       "      <td>0.0</td>\n",
       "      <td>0.0</td>\n",
       "      <td>0.0</td>\n",
       "      <td>2.0</td>\n",
       "      <td>0.0</td>\n",
       "    </tr>\n",
       "    <tr>\n",
       "      <th>1</th>\n",
       "      <td>Second</td>\n",
       "      <td>3.0</td>\n",
       "      <td>0.0</td>\n",
       "      <td>0.0</td>\n",
       "      <td>2.0</td>\n",
       "      <td>0.0</td>\n",
       "      <td>0.0</td>\n",
       "      <td>1.0</td>\n",
       "      <td>2.0</td>\n",
       "      <td>0.0</td>\n",
       "      <td>...</td>\n",
       "      <td>3.0</td>\n",
       "      <td>0.0</td>\n",
       "      <td>0.0</td>\n",
       "      <td>0.0</td>\n",
       "      <td>0.0</td>\n",
       "      <td>1.0</td>\n",
       "      <td>0.0</td>\n",
       "      <td>0.0</td>\n",
       "      <td>0.0</td>\n",
       "      <td>0.0</td>\n",
       "    </tr>\n",
       "    <tr>\n",
       "      <th>2</th>\n",
       "      <td>Third</td>\n",
       "      <td>0.0</td>\n",
       "      <td>1.0</td>\n",
       "      <td>1.0</td>\n",
       "      <td>2.0</td>\n",
       "      <td>0.0</td>\n",
       "      <td>1.0</td>\n",
       "      <td>1.0</td>\n",
       "      <td>0.0</td>\n",
       "      <td>0.0</td>\n",
       "      <td>...</td>\n",
       "      <td>1.0</td>\n",
       "      <td>2.0</td>\n",
       "      <td>1.0</td>\n",
       "      <td>0.0</td>\n",
       "      <td>0.0</td>\n",
       "      <td>2.0</td>\n",
       "      <td>1.0</td>\n",
       "      <td>1.0</td>\n",
       "      <td>0.0</td>\n",
       "      <td>0.0</td>\n",
       "    </tr>\n",
       "    <tr>\n",
       "      <th>3</th>\n",
       "      <td>Fourth</td>\n",
       "      <td>0.0</td>\n",
       "      <td>1.0</td>\n",
       "      <td>1.0</td>\n",
       "      <td>2.0</td>\n",
       "      <td>1.0</td>\n",
       "      <td>0.0</td>\n",
       "      <td>0.0</td>\n",
       "      <td>0.0</td>\n",
       "      <td>2.0</td>\n",
       "      <td>...</td>\n",
       "      <td>1.0</td>\n",
       "      <td>0.0</td>\n",
       "      <td>1.0</td>\n",
       "      <td>1.0</td>\n",
       "      <td>1.0</td>\n",
       "      <td>1.0</td>\n",
       "      <td>0.0</td>\n",
       "      <td>0.0</td>\n",
       "      <td>3.0</td>\n",
       "      <td>2.0</td>\n",
       "    </tr>\n",
       "  </tbody>\n",
       "</table>\n",
       "<p>4 rows × 25 columns</p>\n",
       "</div>"
      ],
      "text/plain": [
       "    index Argentina Austria Belgium Brazil Bulgaria Chile Croatia  \\\n",
       "0  Winner       2.0     0.0     0.0    5.0      0.0   0.0     0.0   \n",
       "1  Second       3.0     0.0     0.0    2.0      0.0   0.0     1.0   \n",
       "2   Third       0.0     1.0     1.0    2.0      0.0   1.0     1.0   \n",
       "3  Fourth       0.0     1.0     1.0    2.0      1.0   0.0     0.0   \n",
       "\n",
       "  Czechoslovakia England  ... Netherlands Poland Portugal Soviet Union Spain  \\\n",
       "0            0.0     1.0  ...         0.0    0.0      0.0          0.0   1.0   \n",
       "1            2.0     0.0  ...         3.0    0.0      0.0          0.0   0.0   \n",
       "2            0.0     0.0  ...         1.0    2.0      1.0          0.0   0.0   \n",
       "3            0.0     2.0  ...         1.0    0.0      1.0          1.0   1.0   \n",
       "\n",
       "  Sweden Turkey  USA Uruguay Yugoslavia  \n",
       "0    0.0    0.0  0.0     2.0        0.0  \n",
       "1    1.0    0.0  0.0     0.0        0.0  \n",
       "2    2.0    1.0  1.0     0.0        0.0  \n",
       "3    1.0    0.0  0.0     3.0        2.0  \n",
       "\n",
       "[4 rows x 25 columns]"
      ]
     },
     "execution_count": 39,
     "metadata": {},
     "output_type": "execute_result"
    }
   ],
   "source": [
    "transpose=countries.T.rename(columns=countries.T.iloc[0]).drop(index=['index','Total']) #preprocessing transpose\n",
    "\n",
    "transpose =transpose.reset_index()[0:4] \n",
    "transpose\n"
   ]
  },
  {
   "cell_type": "code",
   "execution_count": 40,
   "metadata": {
    "execution": {
     "iopub.execute_input": "2022-09-22T09:41:51.679526Z",
     "iopub.status.busy": "2022-09-22T09:41:51.679208Z",
     "iopub.status.idle": "2022-09-22T09:41:53.926493Z",
     "shell.execute_reply": "2022-09-22T09:41:53.925839Z",
     "shell.execute_reply.started": "2022-09-22T09:41:51.679495Z"
    }
   },
   "outputs": [
    {
     "ename": "TypeError",
     "evalue": "unhashable type: 'list'",
     "output_type": "error",
     "traceback": [
      "\u001b[1;31m---------------------------------------------------------------------------\u001b[0m",
      "\u001b[1;31mTypeError\u001b[0m                                 Traceback (most recent call last)",
      "\u001b[1;32m<ipython-input-40-e6a57756a11e>\u001b[0m in \u001b[0;36m<module>\u001b[1;34m\u001b[0m\n\u001b[0;32m      7\u001b[0m \u001b[1;32mfor\u001b[0m \u001b[0max\u001b[0m\u001b[1;33m,\u001b[0m \u001b[0mcol\u001b[0m \u001b[1;32min\u001b[0m \u001b[0mzip\u001b[0m\u001b[1;33m(\u001b[0m\u001b[0maxes\u001b[0m\u001b[1;33m.\u001b[0m\u001b[0mflat\u001b[0m\u001b[1;33m,\u001b[0m\u001b[0mcolumns\u001b[0m\u001b[1;33m)\u001b[0m\u001b[1;33m:\u001b[0m\u001b[1;33m\u001b[0m\u001b[1;33m\u001b[0m\u001b[0m\n\u001b[0;32m      8\u001b[0m     \u001b[0msns\u001b[0m\u001b[1;33m.\u001b[0m\u001b[0mbarplot\u001b[0m\u001b[1;33m(\u001b[0m\u001b[0mdata\u001b[0m\u001b[1;33m=\u001b[0m\u001b[0mtranspose\u001b[0m\u001b[1;33m,\u001b[0m \u001b[0mx\u001b[0m\u001b[1;33m=\u001b[0m\u001b[1;34m'index'\u001b[0m\u001b[1;33m,\u001b[0m\u001b[0my\u001b[0m\u001b[1;33m=\u001b[0m\u001b[0mcol\u001b[0m\u001b[1;33m,\u001b[0m\u001b[0max\u001b[0m\u001b[1;33m=\u001b[0m\u001b[0max\u001b[0m\u001b[1;33m,\u001b[0m\u001b[0mpalette\u001b[0m\u001b[1;33m=\u001b[0m\u001b[0mclr\u001b[0m\u001b[1;33m,\u001b[0m\u001b[0mlinewidth\u001b[0m\u001b[1;33m=\u001b[0m\u001b[1;36m2.5\u001b[0m\u001b[1;33m,\u001b[0m \u001b[0medgecolor\u001b[0m\u001b[1;33m=\u001b[0m\u001b[1;34m\".2\"\u001b[0m\u001b[1;33m)\u001b[0m\u001b[1;33m\u001b[0m\u001b[1;33m\u001b[0m\u001b[0m\n\u001b[1;32m----> 9\u001b[1;33m     \u001b[0max\u001b[0m\u001b[1;33m.\u001b[0m\u001b[0mspines\u001b[0m\u001b[1;33m[\u001b[0m\u001b[1;33m[\u001b[0m\u001b[1;34m'top'\u001b[0m\u001b[1;33m,\u001b[0m\u001b[1;34m'left'\u001b[0m\u001b[1;33m,\u001b[0m\u001b[1;34m'right'\u001b[0m\u001b[1;33m]\u001b[0m\u001b[1;33m]\u001b[0m\u001b[1;33m.\u001b[0m\u001b[0mset_visible\u001b[0m\u001b[1;33m(\u001b[0m\u001b[1;32mFalse\u001b[0m\u001b[1;33m)\u001b[0m\u001b[1;33m\u001b[0m\u001b[1;33m\u001b[0m\u001b[0m\n\u001b[0m\u001b[0;32m     10\u001b[0m     \u001b[0max\u001b[0m\u001b[1;33m.\u001b[0m\u001b[0mset_ylabel\u001b[0m\u001b[1;33m(\u001b[0m\u001b[1;32mNone\u001b[0m\u001b[1;33m)\u001b[0m\u001b[1;33m\u001b[0m\u001b[1;33m\u001b[0m\u001b[0m\n\u001b[0;32m     11\u001b[0m     \u001b[0max\u001b[0m\u001b[1;33m.\u001b[0m\u001b[0mset_xlabel\u001b[0m\u001b[1;33m(\u001b[0m\u001b[1;32mNone\u001b[0m\u001b[1;33m)\u001b[0m\u001b[1;33m\u001b[0m\u001b[1;33m\u001b[0m\u001b[0m\n",
      "\u001b[1;31mTypeError\u001b[0m: unhashable type: 'list'"
     ]
    },
    {
     "data": {
      "image/png": "[encoded data removed]",
      "text/plain": [
       "<Figure size 1440x4320 with 24 Axes>"
      ]
     },
     "metadata": {
      "needs_background": "light"
     },
     "output_type": "display_data"
    }
   ],
   "source": [
    "\n",
    "columns= transpose.columns[1:]\n",
    "clr= ['yellow','orange','firebrick','red']\n",
    "fig, axes = plt.subplots(12,2, figsize=(20,60))\n",
    "\n",
    "fig.subplots_adjust(hspace=.5,top =1, wspace=.175)\n",
    "\n",
    "for ax, col in zip(axes.flat,columns):\n",
    "    sns.barplot(data=transpose, x='index',y=col,ax=ax,palette=clr,linewidth=2.5, edgecolor=\".2\")\n",
    "    ax.spines[['top','left','right']].set_visible(False)\n",
    "    ax.set_ylabel(None)\n",
    "    ax.set_xlabel(None)\n",
    "    ax.tick_params(labelleft=False, left=False,labelsize=14)\n",
    "    ax.set_title(col,fontweight=\"bold\")\n",
    "    for i in ax.containers:\n",
    "        ax.bar_label(i,fontsize=15);\n"
   ]
  },
  {
   "cell_type": "markdown",
   "metadata": {},
   "source": [
    "## **There is a believe that the host nation has got better results in the World Cup. Is it like this?**\n",
    "\n",
    "## **The host Nation reachs the final?**"
   ]
  },
  {
   "cell_type": "code",
   "execution_count": null,
   "metadata": {
    "execution": {
     "iopub.execute_input": "2022-09-22T09:41:53.927973Z",
     "iopub.status.busy": "2022-09-22T09:41:53.927580Z",
     "iopub.status.idle": "2022-09-22T09:41:53.932274Z",
     "shell.execute_reply": "2022-09-22T09:41:53.931734Z",
     "shell.execute_reply.started": "2022-09-22T09:41:53.927948Z"
    }
   },
   "outputs": [],
   "source": [
    "index = hist_worldcup['Host_winner'].value_counts().index.tolist()\n",
    "value = hist_worldcup['Host_winner'].value_counts().values.tolist()"
   ]
  },
  {
   "cell_type": "code",
   "execution_count": null,
   "metadata": {
    "execution": {
     "iopub.execute_input": "2022-09-22T09:41:53.933723Z",
     "iopub.status.busy": "2022-09-22T09:41:53.933284Z",
     "iopub.status.idle": "2022-09-22T09:41:54.114049Z",
     "shell.execute_reply": "2022-09-22T09:41:54.113222Z",
     "shell.execute_reply.started": "2022-09-22T09:41:53.933693Z"
    }
   },
   "outputs": [],
   "source": [
    "palette=['firebrick','yellow']\n",
    "\n",
    "fig, ax= plt.subplots(nrows=1, ncols=2,figsize=(16,8))\n",
    "\n",
    "sns.countplot(ax=ax[0], x=hist_worldcup['Host_winner'],palette=palette,linewidth=2.5, edgecolor=\".2\")\n",
    "ax[0].set_title('Host nation finalist?',size=20,weight='bold')\n",
    "ax[0].spines[['right', 'top', 'left','bottom']].set_visible(False)\n",
    "ax[0].set_ylabel(None)\n",
    "ax[0].set_xlabel(None)\n",
    "ax[0].tick_params(labelleft=False, left=False,labelsize=14)\n",
    "for i in ax[0].containers:\n",
    "    ax[0].bar_label(i,fontsize=15);\n",
    "\n",
    "    \n",
    "plt.pie(value, labels = index, autopct='%.0f%%' ,colors=['firebrick','yellow'],wedgeprops={\"edgecolor\":\"0\",'linewidth': 2.5,\n",
    "                    'antialiased': True},startangle=90,textprops={'fontsize': 20})\n",
    "ax[1].set_title('Percentage',size=20,weight='bold');"
   ]
  },
  {
   "cell_type": "markdown",
   "metadata": {},
   "source": [
    "<h3> From 21 World Cups, in 5 World cup the host nation has reached the final. The 24%. A considerable number.</h3>\n",
    "\n",
    "## **The host nation reachs the best 4?**"
   ]
  },
  {
   "cell_type": "code",
   "execution_count": 41,
   "metadata": {
    "execution": {
     "iopub.execute_input": "2022-09-22T09:41:54.115819Z",
     "iopub.status.busy": "2022-09-22T09:41:54.115327Z",
     "iopub.status.idle": "2022-09-22T09:41:54.121630Z",
     "shell.execute_reply": "2022-09-22T09:41:54.120689Z",
     "shell.execute_reply.started": "2022-09-22T09:41:54.115787Z"
    }
   },
   "outputs": [],
   "source": [
    "index  = hist_worldcup['Host_best4'].value_counts().index.tolist()\n",
    "values = hist_worldcup['Host_best4'].value_counts().values.tolist()"
   ]
  },
  {
   "cell_type": "code",
   "execution_count": 42,
   "metadata": {
    "execution": {
     "iopub.execute_input": "2022-09-22T09:41:54.123249Z",
     "iopub.status.busy": "2022-09-22T09:41:54.122939Z",
     "iopub.status.idle": "2022-09-22T09:41:54.287909Z",
     "shell.execute_reply": "2022-09-22T09:41:54.287226Z",
     "shell.execute_reply.started": "2022-09-22T09:41:54.123209Z"
    }
   },
   "outputs": [
    {
     "ename": "TypeError",
     "evalue": "unhashable type: 'list'",
     "output_type": "error",
     "traceback": [
      "\u001b[1;31m---------------------------------------------------------------------------\u001b[0m",
      "\u001b[1;31mTypeError\u001b[0m                                 Traceback (most recent call last)",
      "\u001b[1;32m<ipython-input-42-816a6c702e1f>\u001b[0m in \u001b[0;36m<module>\u001b[1;34m\u001b[0m\n\u001b[0;32m      5\u001b[0m \u001b[0msns\u001b[0m\u001b[1;33m.\u001b[0m\u001b[0mcountplot\u001b[0m\u001b[1;33m(\u001b[0m\u001b[0max\u001b[0m\u001b[1;33m=\u001b[0m\u001b[0max\u001b[0m\u001b[1;33m[\u001b[0m\u001b[1;36m0\u001b[0m\u001b[1;33m]\u001b[0m\u001b[1;33m,\u001b[0m\u001b[0mx\u001b[0m\u001b[1;33m=\u001b[0m\u001b[0mhist_worldcup\u001b[0m\u001b[1;33m[\u001b[0m\u001b[1;34m'Host_best4'\u001b[0m\u001b[1;33m]\u001b[0m\u001b[1;33m,\u001b[0m\u001b[0mpalette\u001b[0m\u001b[1;33m=\u001b[0m\u001b[0mpalette\u001b[0m\u001b[1;33m,\u001b[0m\u001b[0mlinewidth\u001b[0m\u001b[1;33m=\u001b[0m\u001b[1;36m2.5\u001b[0m\u001b[1;33m,\u001b[0m \u001b[0medgecolor\u001b[0m\u001b[1;33m=\u001b[0m\u001b[1;34m\".2\"\u001b[0m\u001b[1;33m)\u001b[0m\u001b[1;33m\u001b[0m\u001b[1;33m\u001b[0m\u001b[0m\n\u001b[0;32m      6\u001b[0m \u001b[0max\u001b[0m\u001b[1;33m[\u001b[0m\u001b[1;36m0\u001b[0m\u001b[1;33m]\u001b[0m\u001b[1;33m.\u001b[0m\u001b[0mset_title\u001b[0m\u001b[1;33m(\u001b[0m\u001b[1;34m'Host in best 4'\u001b[0m\u001b[1;33m,\u001b[0m\u001b[0msize\u001b[0m\u001b[1;33m=\u001b[0m\u001b[1;36m20\u001b[0m\u001b[1;33m,\u001b[0m\u001b[0mweight\u001b[0m\u001b[1;33m=\u001b[0m\u001b[1;34m'bold'\u001b[0m\u001b[1;33m)\u001b[0m\u001b[1;33m\u001b[0m\u001b[1;33m\u001b[0m\u001b[0m\n\u001b[1;32m----> 7\u001b[1;33m \u001b[0max\u001b[0m\u001b[1;33m[\u001b[0m\u001b[1;36m0\u001b[0m\u001b[1;33m]\u001b[0m\u001b[1;33m.\u001b[0m\u001b[0mspines\u001b[0m\u001b[1;33m[\u001b[0m\u001b[1;33m[\u001b[0m\u001b[1;34m'right'\u001b[0m\u001b[1;33m,\u001b[0m \u001b[1;34m'top'\u001b[0m\u001b[1;33m,\u001b[0m \u001b[1;34m'left'\u001b[0m\u001b[1;33m,\u001b[0m\u001b[1;34m'bottom'\u001b[0m\u001b[1;33m]\u001b[0m\u001b[1;33m]\u001b[0m\u001b[1;33m.\u001b[0m\u001b[0mset_visible\u001b[0m\u001b[1;33m(\u001b[0m\u001b[1;32mFalse\u001b[0m\u001b[1;33m)\u001b[0m\u001b[1;33m\u001b[0m\u001b[1;33m\u001b[0m\u001b[0m\n\u001b[0m\u001b[0;32m      8\u001b[0m \u001b[0max\u001b[0m\u001b[1;33m[\u001b[0m\u001b[1;36m0\u001b[0m\u001b[1;33m]\u001b[0m\u001b[1;33m.\u001b[0m\u001b[0mset_ylabel\u001b[0m\u001b[1;33m(\u001b[0m\u001b[1;32mNone\u001b[0m\u001b[1;33m)\u001b[0m\u001b[1;33m\u001b[0m\u001b[1;33m\u001b[0m\u001b[0m\n\u001b[0;32m      9\u001b[0m \u001b[0max\u001b[0m\u001b[1;33m[\u001b[0m\u001b[1;36m0\u001b[0m\u001b[1;33m]\u001b[0m\u001b[1;33m.\u001b[0m\u001b[0mset_xlabel\u001b[0m\u001b[1;33m(\u001b[0m\u001b[1;32mNone\u001b[0m\u001b[1;33m)\u001b[0m\u001b[1;33m\u001b[0m\u001b[1;33m\u001b[0m\u001b[0m\n",
      "\u001b[1;31mTypeError\u001b[0m: unhashable type: 'list'"
     ]
    },
    {
     "data": {
      "image/png": "[encoded data removed]",
      "text/plain": [
       "<Figure size 1152x576 with 2 Axes>"
      ]
     },
     "metadata": {
      "needs_background": "light"
     },
     "output_type": "display_data"
    }
   ],
   "source": [
    "palette=['firebrick','yellow']\n",
    "\n",
    "fig, ax= plt.subplots(nrows=1, ncols=2,figsize=(16,8))\n",
    "\n",
    "sns.countplot(ax=ax[0],x=hist_worldcup['Host_best4'],palette=palette,linewidth=2.5, edgecolor=\".2\")\n",
    "ax[0].set_title('Host in best 4',size=20,weight='bold')\n",
    "ax[0].spines[['right', 'top', 'left','bottom']].set_visible(False)\n",
    "ax[0].set_ylabel(None)\n",
    "ax[0].set_xlabel(None)\n",
    "ax[0].tick_params(labelleft=False, left=False,labelsize=14)\n",
    "for i in ax[0].containers:\n",
    "    ax[0].bar_label(i,fontsize=15);\n",
    "    \n",
    "plt.pie(values, labels = index, autopct='%.0f%%' ,colors=['yellow','firebrick'],wedgeprops={\"edgecolor\":\"0\",'linewidth': 2.5,\n",
    "                    'antialiased': True},startangle=90,textprops={'fontsize': 20})\n",
    "ax[1].set_title('Percentage',size=20,weight='bold');\n",
    "\n",
    "\n"
   ]
  },
  {
   "cell_type": "markdown",
   "metadata": {},
   "source": [
    "<h3> From 21 World Cups, in 11 times the host nation has reached the semifinal. The 52%. More than a half.<h3>"
   ]
  },
  {
   "cell_type": "markdown",
   "metadata": {},
   "source": [
    "<div style=\"padding:20px;color:white;margin:0;font-size:220%;text-align:center;display:fill;border-radius:5px;background-color:#008000;overflow:hidden;font-weight:100\">3. Extra Analysis</div>"
   ]
  },
  {
   "cell_type": "code",
   "execution_count": 43,
   "metadata": {
    "execution": {
     "iopub.execute_input": "2022-09-22T09:41:54.294533Z",
     "iopub.status.busy": "2022-09-22T09:41:54.292913Z",
     "iopub.status.idle": "2022-09-22T09:41:54.331430Z",
     "shell.execute_reply": "2022-09-22T09:41:54.330757Z",
     "shell.execute_reply.started": "2022-09-22T09:41:54.294506Z"
    }
   },
   "outputs": [
    {
     "data": {
      "text/html": [
       "<div>\n",
       "<style scoped>\n",
       "    .dataframe tbody tr th:only-of-type {\n",
       "        vertical-align: middle;\n",
       "    }\n",
       "\n",
       "    .dataframe tbody tr th {\n",
       "        vertical-align: top;\n",
       "    }\n",
       "\n",
       "    .dataframe thead th {\n",
       "        text-align: right;\n",
       "    }\n",
       "</style>\n",
       "<table border=\"1\" class=\"dataframe\">\n",
       "  <thead>\n",
       "    <tr style=\"text-align: right;\">\n",
       "      <th></th>\n",
       "      <th>Year</th>\n",
       "      <th>Datetime</th>\n",
       "      <th>Stage</th>\n",
       "      <th>Stadium</th>\n",
       "      <th>City</th>\n",
       "      <th>Home Team Name</th>\n",
       "      <th>Home Team Goals</th>\n",
       "      <th>Away Team Goals</th>\n",
       "      <th>Away Team Name</th>\n",
       "      <th>Win conditions</th>\n",
       "      <th>Attendance</th>\n",
       "      <th>Half-time Home Goals</th>\n",
       "      <th>Half-time Away Goals</th>\n",
       "      <th>Referee</th>\n",
       "      <th>Assistant 1</th>\n",
       "      <th>Assistant 2</th>\n",
       "      <th>RoundID</th>\n",
       "      <th>MatchID</th>\n",
       "      <th>Home Team Initials</th>\n",
       "      <th>Away Team Initials</th>\n",
       "    </tr>\n",
       "  </thead>\n",
       "  <tbody>\n",
       "    <tr>\n",
       "      <th>0</th>\n",
       "      <td>1930.0</td>\n",
       "      <td>13 Jul 1930 - 15:00</td>\n",
       "      <td>Group 1</td>\n",
       "      <td>Pocitos</td>\n",
       "      <td>Montevideo</td>\n",
       "      <td>France</td>\n",
       "      <td>4.0</td>\n",
       "      <td>1.0</td>\n",
       "      <td>Mexico</td>\n",
       "      <td></td>\n",
       "      <td>4444.0</td>\n",
       "      <td>3.0</td>\n",
       "      <td>0.0</td>\n",
       "      <td>LOMBARDI Domingo (URU)</td>\n",
       "      <td>CRISTOPHE Henry (BEL)</td>\n",
       "      <td>REGO Gilberto (BRA)</td>\n",
       "      <td>201.0</td>\n",
       "      <td>1096.0</td>\n",
       "      <td>FRA</td>\n",
       "      <td>MEX</td>\n",
       "    </tr>\n",
       "    <tr>\n",
       "      <th>1</th>\n",
       "      <td>1930.0</td>\n",
       "      <td>13 Jul 1930 - 15:00</td>\n",
       "      <td>Group 4</td>\n",
       "      <td>Parque Central</td>\n",
       "      <td>Montevideo</td>\n",
       "      <td>USA</td>\n",
       "      <td>3.0</td>\n",
       "      <td>0.0</td>\n",
       "      <td>Belgium</td>\n",
       "      <td></td>\n",
       "      <td>18346.0</td>\n",
       "      <td>2.0</td>\n",
       "      <td>0.0</td>\n",
       "      <td>MACIAS Jose (ARG)</td>\n",
       "      <td>MATEUCCI Francisco (URU)</td>\n",
       "      <td>WARNKEN Alberto (CHI)</td>\n",
       "      <td>201.0</td>\n",
       "      <td>1090.0</td>\n",
       "      <td>USA</td>\n",
       "      <td>BEL</td>\n",
       "    </tr>\n",
       "    <tr>\n",
       "      <th>2</th>\n",
       "      <td>1930.0</td>\n",
       "      <td>14 Jul 1930 - 12:45</td>\n",
       "      <td>Group 2</td>\n",
       "      <td>Parque Central</td>\n",
       "      <td>Montevideo</td>\n",
       "      <td>Yugoslavia</td>\n",
       "      <td>2.0</td>\n",
       "      <td>1.0</td>\n",
       "      <td>Brazil</td>\n",
       "      <td></td>\n",
       "      <td>24059.0</td>\n",
       "      <td>2.0</td>\n",
       "      <td>0.0</td>\n",
       "      <td>TEJADA Anibal (URU)</td>\n",
       "      <td>VALLARINO Ricardo (URU)</td>\n",
       "      <td>BALWAY Thomas (FRA)</td>\n",
       "      <td>201.0</td>\n",
       "      <td>1093.0</td>\n",
       "      <td>YUG</td>\n",
       "      <td>BRA</td>\n",
       "    </tr>\n",
       "    <tr>\n",
       "      <th>3</th>\n",
       "      <td>1930.0</td>\n",
       "      <td>14 Jul 1930 - 14:50</td>\n",
       "      <td>Group 3</td>\n",
       "      <td>Pocitos</td>\n",
       "      <td>Montevideo</td>\n",
       "      <td>Romania</td>\n",
       "      <td>3.0</td>\n",
       "      <td>1.0</td>\n",
       "      <td>Peru</td>\n",
       "      <td></td>\n",
       "      <td>2549.0</td>\n",
       "      <td>1.0</td>\n",
       "      <td>0.0</td>\n",
       "      <td>WARNKEN Alberto (CHI)</td>\n",
       "      <td>LANGENUS Jean (BEL)</td>\n",
       "      <td>MATEUCCI Francisco (URU)</td>\n",
       "      <td>201.0</td>\n",
       "      <td>1098.0</td>\n",
       "      <td>ROU</td>\n",
       "      <td>PER</td>\n",
       "    </tr>\n",
       "    <tr>\n",
       "      <th>4</th>\n",
       "      <td>1930.0</td>\n",
       "      <td>15 Jul 1930 - 16:00</td>\n",
       "      <td>Group 1</td>\n",
       "      <td>Parque Central</td>\n",
       "      <td>Montevideo</td>\n",
       "      <td>Argentina</td>\n",
       "      <td>1.0</td>\n",
       "      <td>0.0</td>\n",
       "      <td>France</td>\n",
       "      <td></td>\n",
       "      <td>23409.0</td>\n",
       "      <td>0.0</td>\n",
       "      <td>0.0</td>\n",
       "      <td>REGO Gilberto (BRA)</td>\n",
       "      <td>SAUCEDO Ulises (BOL)</td>\n",
       "      <td>RADULESCU Constantin (ROU)</td>\n",
       "      <td>201.0</td>\n",
       "      <td>1085.0</td>\n",
       "      <td>ARG</td>\n",
       "      <td>FRA</td>\n",
       "    </tr>\n",
       "  </tbody>\n",
       "</table>\n",
       "</div>"
      ],
      "text/plain": [
       "     Year              Datetime    Stage         Stadium         City  \\\n",
       "0  1930.0  13 Jul 1930 - 15:00   Group 1         Pocitos  Montevideo    \n",
       "1  1930.0  13 Jul 1930 - 15:00   Group 4  Parque Central  Montevideo    \n",
       "2  1930.0  14 Jul 1930 - 12:45   Group 2  Parque Central  Montevideo    \n",
       "3  1930.0  14 Jul 1930 - 14:50   Group 3         Pocitos  Montevideo    \n",
       "4  1930.0  15 Jul 1930 - 16:00   Group 1  Parque Central  Montevideo    \n",
       "\n",
       "  Home Team Name  Home Team Goals  Away Team Goals Away Team Name  \\\n",
       "0         France              4.0              1.0         Mexico   \n",
       "1            USA              3.0              0.0        Belgium   \n",
       "2     Yugoslavia              2.0              1.0         Brazil   \n",
       "3        Romania              3.0              1.0           Peru   \n",
       "4      Argentina              1.0              0.0         France   \n",
       "\n",
       "  Win conditions  Attendance  Half-time Home Goals  Half-time Away Goals  \\\n",
       "0                     4444.0                   3.0                   0.0   \n",
       "1                    18346.0                   2.0                   0.0   \n",
       "2                    24059.0                   2.0                   0.0   \n",
       "3                     2549.0                   1.0                   0.0   \n",
       "4                    23409.0                   0.0                   0.0   \n",
       "\n",
       "                  Referee               Assistant 1  \\\n",
       "0  LOMBARDI Domingo (URU)     CRISTOPHE Henry (BEL)   \n",
       "1       MACIAS Jose (ARG)  MATEUCCI Francisco (URU)   \n",
       "2     TEJADA Anibal (URU)   VALLARINO Ricardo (URU)   \n",
       "3   WARNKEN Alberto (CHI)       LANGENUS Jean (BEL)   \n",
       "4     REGO Gilberto (BRA)      SAUCEDO Ulises (BOL)   \n",
       "\n",
       "                  Assistant 2  RoundID  MatchID Home Team Initials  \\\n",
       "0         REGO Gilberto (BRA)    201.0   1096.0                FRA   \n",
       "1       WARNKEN Alberto (CHI)    201.0   1090.0                USA   \n",
       "2         BALWAY Thomas (FRA)    201.0   1093.0                YUG   \n",
       "3    MATEUCCI Francisco (URU)    201.0   1098.0                ROU   \n",
       "4  RADULESCU Constantin (ROU)    201.0   1085.0                ARG   \n",
       "\n",
       "  Away Team Initials  \n",
       "0                MEX  \n",
       "1                BEL  \n",
       "2                BRA  \n",
       "3                PER  \n",
       "4                FRA  "
      ]
     },
     "execution_count": 43,
     "metadata": {},
     "output_type": "execute_result"
    }
   ],
   "source": [
    "matches = pd.read_csv('./data2/WorldCupMatches.csv') #Looking at another DF\n",
    "\n",
    "matches.head()\n"
   ]
  },
  {
   "cell_type": "code",
   "execution_count": 44,
   "metadata": {
    "execution": {
     "iopub.execute_input": "2022-09-22T09:41:54.341942Z",
     "iopub.status.busy": "2022-09-22T09:41:54.341614Z",
     "iopub.status.idle": "2022-09-22T09:41:54.352897Z",
     "shell.execute_reply": "2022-09-22T09:41:54.352027Z",
     "shell.execute_reply.started": "2022-09-22T09:41:54.341911Z"
    }
   },
   "outputs": [],
   "source": [
    "matches = matches.dropna(how='all') #Drop Rows with all null values"
   ]
  },
  {
   "cell_type": "code",
   "execution_count": 45,
   "metadata": {
    "execution": {
     "iopub.execute_input": "2022-09-22T09:41:54.354945Z",
     "iopub.status.busy": "2022-09-22T09:41:54.354118Z",
     "iopub.status.idle": "2022-09-22T09:41:54.363795Z",
     "shell.execute_reply": "2022-09-22T09:41:54.362844Z",
     "shell.execute_reply.started": "2022-09-22T09:41:54.354912Z"
    }
   },
   "outputs": [
    {
     "data": {
      "text/plain": [
       "Index(['Year', 'Datetime', 'Stage', 'Stadium', 'City', 'Home Team Name',\n",
       "       'Home Team Goals', 'Away Team Goals', 'Away Team Name',\n",
       "       'Win conditions', 'Attendance', 'Half-time Home Goals',\n",
       "       'Half-time Away Goals', 'Referee', 'Assistant 1', 'Assistant 2',\n",
       "       'RoundID', 'MatchID', 'Home Team Initials', 'Away Team Initials'],\n",
       "      dtype='object')"
      ]
     },
     "execution_count": 45,
     "metadata": {},
     "output_type": "execute_result"
    }
   ],
   "source": [
    "matches.columns"
   ]
  },
  {
   "cell_type": "code",
   "execution_count": 46,
   "metadata": {
    "execution": {
     "iopub.execute_input": "2022-09-22T09:41:54.365446Z",
     "iopub.status.busy": "2022-09-22T09:41:54.365113Z",
     "iopub.status.idle": "2022-09-22T09:41:54.399591Z",
     "shell.execute_reply": "2022-09-22T09:41:54.398949Z",
     "shell.execute_reply.started": "2022-09-22T09:41:54.365413Z"
    }
   },
   "outputs": [
    {
     "data": {
      "text/html": [
       "<div>\n",
       "<style scoped>\n",
       "    .dataframe tbody tr th:only-of-type {\n",
       "        vertical-align: middle;\n",
       "    }\n",
       "\n",
       "    .dataframe tbody tr th {\n",
       "        vertical-align: top;\n",
       "    }\n",
       "\n",
       "    .dataframe thead th {\n",
       "        text-align: right;\n",
       "    }\n",
       "</style>\n",
       "<table border=\"1\" class=\"dataframe\">\n",
       "  <thead>\n",
       "    <tr style=\"text-align: right;\">\n",
       "      <th></th>\n",
       "      <th>Year</th>\n",
       "      <th>Home Team Goals</th>\n",
       "      <th>Away Team Goals</th>\n",
       "      <th>Attendance</th>\n",
       "      <th>Half-time Home Goals</th>\n",
       "      <th>Half-time Away Goals</th>\n",
       "      <th>RoundID</th>\n",
       "      <th>MatchID</th>\n",
       "    </tr>\n",
       "  </thead>\n",
       "  <tbody>\n",
       "    <tr>\n",
       "      <th>count</th>\n",
       "      <td>852.000000</td>\n",
       "      <td>852.000000</td>\n",
       "      <td>852.000000</td>\n",
       "      <td>850.000000</td>\n",
       "      <td>852.000000</td>\n",
       "      <td>852.000000</td>\n",
       "      <td>8.520000e+02</td>\n",
       "      <td>8.520000e+02</td>\n",
       "    </tr>\n",
       "    <tr>\n",
       "      <th>mean</th>\n",
       "      <td>1985.089202</td>\n",
       "      <td>1.811033</td>\n",
       "      <td>1.022300</td>\n",
       "      <td>45164.800000</td>\n",
       "      <td>0.708920</td>\n",
       "      <td>0.428404</td>\n",
       "      <td>1.066177e+07</td>\n",
       "      <td>6.134687e+07</td>\n",
       "    </tr>\n",
       "    <tr>\n",
       "      <th>std</th>\n",
       "      <td>22.448825</td>\n",
       "      <td>1.610255</td>\n",
       "      <td>1.087573</td>\n",
       "      <td>23485.249247</td>\n",
       "      <td>0.937414</td>\n",
       "      <td>0.691252</td>\n",
       "      <td>2.729613e+07</td>\n",
       "      <td>1.110572e+08</td>\n",
       "    </tr>\n",
       "    <tr>\n",
       "      <th>min</th>\n",
       "      <td>1930.000000</td>\n",
       "      <td>0.000000</td>\n",
       "      <td>0.000000</td>\n",
       "      <td>2000.000000</td>\n",
       "      <td>0.000000</td>\n",
       "      <td>0.000000</td>\n",
       "      <td>2.010000e+02</td>\n",
       "      <td>2.500000e+01</td>\n",
       "    </tr>\n",
       "    <tr>\n",
       "      <th>25%</th>\n",
       "      <td>1970.000000</td>\n",
       "      <td>1.000000</td>\n",
       "      <td>0.000000</td>\n",
       "      <td>30000.000000</td>\n",
       "      <td>0.000000</td>\n",
       "      <td>0.000000</td>\n",
       "      <td>2.620000e+02</td>\n",
       "      <td>1.188750e+03</td>\n",
       "    </tr>\n",
       "    <tr>\n",
       "      <th>50%</th>\n",
       "      <td>1990.000000</td>\n",
       "      <td>2.000000</td>\n",
       "      <td>1.000000</td>\n",
       "      <td>41579.500000</td>\n",
       "      <td>0.000000</td>\n",
       "      <td>0.000000</td>\n",
       "      <td>3.370000e+02</td>\n",
       "      <td>2.191000e+03</td>\n",
       "    </tr>\n",
       "    <tr>\n",
       "      <th>75%</th>\n",
       "      <td>2002.000000</td>\n",
       "      <td>3.000000</td>\n",
       "      <td>2.000000</td>\n",
       "      <td>61374.500000</td>\n",
       "      <td>1.000000</td>\n",
       "      <td>1.000000</td>\n",
       "      <td>2.497220e+05</td>\n",
       "      <td>4.395006e+07</td>\n",
       "    </tr>\n",
       "    <tr>\n",
       "      <th>max</th>\n",
       "      <td>2014.000000</td>\n",
       "      <td>10.000000</td>\n",
       "      <td>7.000000</td>\n",
       "      <td>173850.000000</td>\n",
       "      <td>6.000000</td>\n",
       "      <td>5.000000</td>\n",
       "      <td>9.741060e+07</td>\n",
       "      <td>3.001865e+08</td>\n",
       "    </tr>\n",
       "  </tbody>\n",
       "</table>\n",
       "</div>"
      ],
      "text/plain": [
       "              Year  Home Team Goals  Away Team Goals     Attendance  \\\n",
       "count   852.000000       852.000000       852.000000     850.000000   \n",
       "mean   1985.089202         1.811033         1.022300   45164.800000   \n",
       "std      22.448825         1.610255         1.087573   23485.249247   \n",
       "min    1930.000000         0.000000         0.000000    2000.000000   \n",
       "25%    1970.000000         1.000000         0.000000   30000.000000   \n",
       "50%    1990.000000         2.000000         1.000000   41579.500000   \n",
       "75%    2002.000000         3.000000         2.000000   61374.500000   \n",
       "max    2014.000000        10.000000         7.000000  173850.000000   \n",
       "\n",
       "       Half-time Home Goals  Half-time Away Goals       RoundID       MatchID  \n",
       "count            852.000000            852.000000  8.520000e+02  8.520000e+02  \n",
       "mean               0.708920              0.428404  1.066177e+07  6.134687e+07  \n",
       "std                0.937414              0.691252  2.729613e+07  1.110572e+08  \n",
       "min                0.000000              0.000000  2.010000e+02  2.500000e+01  \n",
       "25%                0.000000              0.000000  2.620000e+02  1.188750e+03  \n",
       "50%                0.000000              0.000000  3.370000e+02  2.191000e+03  \n",
       "75%                1.000000              1.000000  2.497220e+05  4.395006e+07  \n",
       "max                6.000000              5.000000  9.741060e+07  3.001865e+08  "
      ]
     },
     "execution_count": 46,
     "metadata": {},
     "output_type": "execute_result"
    }
   ],
   "source": [
    "matches.describe()"
   ]
  },
  {
   "cell_type": "code",
   "execution_count": 47,
   "metadata": {
    "execution": {
     "iopub.execute_input": "2022-09-22T09:41:54.401233Z",
     "iopub.status.busy": "2022-09-22T09:41:54.400627Z",
     "iopub.status.idle": "2022-09-22T09:41:54.406705Z",
     "shell.execute_reply": "2022-09-22T09:41:54.405675Z",
     "shell.execute_reply.started": "2022-09-22T09:41:54.401208Z"
    }
   },
   "outputs": [
    {
     "data": {
      "text/plain": [
       "Index(['Year', 'Datetime', 'Stage', 'Stadium', 'City', 'Home Team Name',\n",
       "       'Home Team Goals', 'Away Team Goals', 'Away Team Name',\n",
       "       'Win conditions', 'Attendance', 'Half-time Home Goals',\n",
       "       'Half-time Away Goals', 'Referee', 'Assistant 1', 'Assistant 2',\n",
       "       'RoundID', 'MatchID', 'Home Team Initials', 'Away Team Initials'],\n",
       "      dtype='object')"
      ]
     },
     "execution_count": 47,
     "metadata": {},
     "output_type": "execute_result"
    }
   ],
   "source": [
    "matches.columns"
   ]
  },
  {
   "cell_type": "code",
   "execution_count": 48,
   "metadata": {
    "execution": {
     "iopub.execute_input": "2022-09-22T09:41:54.408484Z",
     "iopub.status.busy": "2022-09-22T09:41:54.408043Z",
     "iopub.status.idle": "2022-09-22T09:41:54.422315Z",
     "shell.execute_reply": "2022-09-22T09:41:54.421630Z",
     "shell.execute_reply.started": "2022-09-22T09:41:54.408455Z"
    }
   },
   "outputs": [
    {
     "data": {
      "text/plain": [
       "0      4-1\n",
       "1      3-0\n",
       "2      2-1\n",
       "3      3-1\n",
       "4      1-0\n",
       "      ... \n",
       "847    0-0\n",
       "848    1-7\n",
       "849    0-0\n",
       "850    0-3\n",
       "851    1-0\n",
       "Name: result, Length: 852, dtype: object"
      ]
     },
     "execution_count": 48,
     "metadata": {},
     "output_type": "execute_result"
    }
   ],
   "source": [
    "matches['Home Team Goals']= matches['Home Team Goals'].astype(int)\n",
    "matches['Away Team Goals']= matches['Away Team Goals'].astype(int)\n",
    "\n",
    "matches['result'] = matches['Home Team Goals'].astype(str)+\"-\"+matches['Away Team Goals'].astype(str)\n",
    "matches['result']"
   ]
  },
  {
   "cell_type": "markdown",
   "metadata": {},
   "source": [
    "## **Matches with the highest number of Attendance**"
   ]
  },
  {
   "cell_type": "code",
   "execution_count": 49,
   "metadata": {
    "execution": {
     "iopub.execute_input": "2022-09-22T09:41:54.424229Z",
     "iopub.status.busy": "2022-09-22T09:41:54.423346Z",
     "iopub.status.idle": "2022-09-22T09:41:54.630249Z",
     "shell.execute_reply": "2022-09-22T09:41:54.629639Z",
     "shell.execute_reply.started": "2022-09-22T09:41:54.424203Z"
    }
   },
   "outputs": [
    {
     "data": {
      "image/png": "[encoded data removed]",
      "text/plain": [
       "<Figure size 864x720 with 1 Axes>"
      ]
     },
     "metadata": {
      "needs_background": "light"
     },
     "output_type": "display_data"
    }
   ],
   "source": [
    "top5_attendance = matches.sort_values(by='Attendance',ascending=False)[:5]\n",
    "top5_attendance\n",
    "\n",
    "top5_attendance['vs'] = top5_attendance['Home Team Name'] + \" vs \" + top5_attendance['Away Team Name']\n",
    "\n",
    "top5_attendance['attend']= top5_attendance['Attendance'].astype(str)\n",
    "\n",
    "plt.figure(figsize = (12,10))\n",
    "\n",
    "ax = sns.barplot(y = top5_attendance['vs'], x = top5_attendance['Attendance'])\n",
    "sns.despine(right = True)\n",
    "\n",
    "plt.ylabel('Match Teams')\n",
    "plt.xlabel('Attendence')\n",
    "plt.title('Matches with the highest number of Attendence')\n",
    "\n",
    "for i, s in enumerate(top5_attendance['Stadium'] +\", Date: \" + top5_attendance['Datetime']+\"\\n\"+\": Attendance \" + top5_attendance['attend']):\n",
    "    ax.text(2000, i, s, fontsize = 12, color = 'white')\n",
    "plt.show()"
   ]
  },
  {
   "cell_type": "markdown",
   "metadata": {},
   "source": [
    "### This match between Uruguay vs Brazil in south america is knwon as \"Maracanazo. Finally Uruguay beat Brazil at the end\".\n",
    "![](https://i.pinimg.com/564x/18/c4/a9/18c4a9e256c67d78bd034fba8140a511.jpg)\n"
   ]
  },
  {
   "cell_type": "markdown",
   "metadata": {},
   "source": [
    "## **The Highest-Scoring matches in the World Cup**"
   ]
  },
  {
   "cell_type": "code",
   "execution_count": 50,
   "metadata": {
    "execution": {
     "iopub.execute_input": "2022-09-22T09:41:54.631569Z",
     "iopub.status.busy": "2022-09-22T09:41:54.631324Z",
     "iopub.status.idle": "2022-09-22T09:41:54.840888Z",
     "shell.execute_reply": "2022-09-22T09:41:54.840036Z",
     "shell.execute_reply.started": "2022-09-22T09:41:54.631546Z"
    }
   },
   "outputs": [
    {
     "data": {
      "image/png": "[encoded data removed]",
      "text/plain": [
       "<Figure size 864x720 with 1 Axes>"
      ]
     },
     "metadata": {
      "needs_background": "light"
     },
     "output_type": "display_data"
    }
   ],
   "source": [
    "\n",
    "matches['total_goals'] = matches['Home Team Goals']+ matches['Away Team Goals']\n",
    "matches['vs'] = matches['Home Team Name'] + \" vs \"+ matches['Away Team Name']\n",
    "\n",
    "top5_goals=matches.sort_values(by='total_goals',ascending=False)[:5]\n",
    "\n",
    "top5_goals['vs'] = top5_goals['Home Team Name'] + \" vs \" + top5_goals['Away Team Name']\n",
    "\n",
    "top5_goals['total_goals_str']= top5_goals['total_goals'].astype(str)+ \" goals scored\"\n",
    "\n",
    "\n",
    "top5_goals['Home Team Goals'] = top5_goals['Home Team Goals'].astype(int)\n",
    "top5_goals['Away Team Goals'] = top5_goals['Away Team Goals'].astype(int)\n",
    "\n",
    "\n",
    "top5_goals['result'] = top5_goals['Home Team Goals'].astype(str)+\"-\"+top5_goals['Away Team Goals'].astype(str)\n",
    "\n",
    "\n",
    "plt.figure(figsize = (12,10))\n",
    "ax = sns.barplot(y = top5_goals['vs'], x = top5_goals['total_goals'])\n",
    "sns.despine(right = True)\n",
    "plt.ylabel('Match Teams')\n",
    "plt.xlabel('Goals')\n",
    "plt.yticks(size=12)\n",
    "plt.xticks(size=12)\n",
    "plt.title('The highest-scoring matches in the history of world cup',size=20)\n",
    " \n",
    "\n",
    "for i, s in enumerate(\"Stadium \"+top5_goals['Stadium'] +\", Date: \" + top5_goals['Datetime']+\"\\n\" +\"stage: \"+top5_goals['Stage']+\". \"+\n",
    "                      top5_goals['total_goals_str']+ \", match result: \"+top5_goals['result'] ):\n",
    "    ax.text(1, i ,s,fontsize = 12, color = 'white',va = 'center')\n",
    "\n",
    "\n",
    "\n",
    "plt.show()\n"
   ]
  },
  {
   "cell_type": "markdown",
   "metadata": {},
   "source": [
    "## Austria vs Switzerland (7-5), 12 goals\n",
    "![](https://2.bp.blogspot.com/-lCfs-k78nEo/Upl3mP0qpYI/AAAAAAAABYU/zBnKYBcwSzY/s640/su%C3%AD%C3%A7a-%C3%A1ustria-1954.jpg)"
   ]
  },
  {
   "cell_type": "markdown",
   "metadata": {},
   "source": [
    "## **Highest difference of goals in a World Cup**"
   ]
  },
  {
   "cell_type": "code",
   "execution_count": 51,
   "metadata": {
    "execution": {
     "iopub.execute_input": "2022-09-22T09:41:54.842230Z",
     "iopub.status.busy": "2022-09-22T09:41:54.841951Z",
     "iopub.status.idle": "2022-09-22T09:41:54.868863Z",
     "shell.execute_reply": "2022-09-22T09:41:54.868085Z",
     "shell.execute_reply.started": "2022-09-22T09:41:54.842204Z"
    }
   },
   "outputs": [
    {
     "data": {
      "text/html": [
       "<div>\n",
       "<style scoped>\n",
       "    .dataframe tbody tr th:only-of-type {\n",
       "        vertical-align: middle;\n",
       "    }\n",
       "\n",
       "    .dataframe tbody tr th {\n",
       "        vertical-align: top;\n",
       "    }\n",
       "\n",
       "    .dataframe thead th {\n",
       "        text-align: right;\n",
       "    }\n",
       "</style>\n",
       "<table border=\"1\" class=\"dataframe\">\n",
       "  <thead>\n",
       "    <tr style=\"text-align: right;\">\n",
       "      <th></th>\n",
       "      <th>Year</th>\n",
       "      <th>Datetime</th>\n",
       "      <th>Stage</th>\n",
       "      <th>Stadium</th>\n",
       "      <th>City</th>\n",
       "      <th>Home Team Name</th>\n",
       "      <th>Home Team Goals</th>\n",
       "      <th>Away Team Goals</th>\n",
       "      <th>Away Team Name</th>\n",
       "      <th>Win conditions</th>\n",
       "      <th>...</th>\n",
       "      <th>Assistant 1</th>\n",
       "      <th>Assistant 2</th>\n",
       "      <th>RoundID</th>\n",
       "      <th>MatchID</th>\n",
       "      <th>Home Team Initials</th>\n",
       "      <th>Away Team Initials</th>\n",
       "      <th>result</th>\n",
       "      <th>total_goals</th>\n",
       "      <th>vs</th>\n",
       "      <th>difference_goals</th>\n",
       "    </tr>\n",
       "  </thead>\n",
       "  <tbody>\n",
       "    <tr>\n",
       "      <th>80</th>\n",
       "      <td>1954.0</td>\n",
       "      <td>17 Jun 1954 - 18:00</td>\n",
       "      <td>Group 2</td>\n",
       "      <td>Hardturm</td>\n",
       "      <td>Zurich</td>\n",
       "      <td>Hungary</td>\n",
       "      <td>9</td>\n",
       "      <td>0</td>\n",
       "      <td>Korea Republic</td>\n",
       "      <td></td>\n",
       "      <td>...</td>\n",
       "      <td>VON GUNTER Albert (SUI)</td>\n",
       "      <td>STEINER Carl (AUT)</td>\n",
       "      <td>211.0</td>\n",
       "      <td>1294.0</td>\n",
       "      <td>HUN</td>\n",
       "      <td>KOR</td>\n",
       "      <td>9-0</td>\n",
       "      <td>9</td>\n",
       "      <td>Hungary vs Korea Republic</td>\n",
       "      <td>9</td>\n",
       "    </tr>\n",
       "    <tr>\n",
       "      <th>243</th>\n",
       "      <td>1974.0</td>\n",
       "      <td>18 Jun 1974 - 19:30</td>\n",
       "      <td>Group 2</td>\n",
       "      <td>Parkstadion</td>\n",
       "      <td>Gelsenkirchen</td>\n",
       "      <td>Yugoslavia</td>\n",
       "      <td>9</td>\n",
       "      <td>0</td>\n",
       "      <td>Zaire</td>\n",
       "      <td></td>\n",
       "      <td>...</td>\n",
       "      <td>LLOBREGAT Vicente (VEN)</td>\n",
       "      <td>BARRETO RUIZ Ramon (URU)</td>\n",
       "      <td>262.0</td>\n",
       "      <td>2186.0</td>\n",
       "      <td>YUG</td>\n",
       "      <td>ZAI</td>\n",
       "      <td>9-0</td>\n",
       "      <td>9</td>\n",
       "      <td>Yugoslavia vs Zaire</td>\n",
       "      <td>9</td>\n",
       "    </tr>\n",
       "    <tr>\n",
       "      <th>312</th>\n",
       "      <td>1982.0</td>\n",
       "      <td>15 Jun 1982 - 21:00</td>\n",
       "      <td>Group 3</td>\n",
       "      <td>Nuevo Estadio</td>\n",
       "      <td>Elche</td>\n",
       "      <td>Hungary</td>\n",
       "      <td>10</td>\n",
       "      <td>1</td>\n",
       "      <td>El Salvador</td>\n",
       "      <td></td>\n",
       "      <td>...</td>\n",
       "      <td>CORVER Charles (NED)</td>\n",
       "      <td>LUND-SORENSEN Henning (DEN)</td>\n",
       "      <td>293.0</td>\n",
       "      <td>896.0</td>\n",
       "      <td>HUN</td>\n",
       "      <td>SLV</td>\n",
       "      <td>10-1</td>\n",
       "      <td>11</td>\n",
       "      <td>Hungary vs El Salvador</td>\n",
       "      <td>9</td>\n",
       "    </tr>\n",
       "    <tr>\n",
       "      <th>66</th>\n",
       "      <td>1950.0</td>\n",
       "      <td>02 Jul 1950 - 15:00</td>\n",
       "      <td>Group 4</td>\n",
       "      <td>Independencia</td>\n",
       "      <td>Belo Horizonte</td>\n",
       "      <td>Uruguay</td>\n",
       "      <td>8</td>\n",
       "      <td>0</td>\n",
       "      <td>Bolivia</td>\n",
       "      <td></td>\n",
       "      <td>...</td>\n",
       "      <td>VIANA Mario (BRA)</td>\n",
       "      <td>LEMESIC Leo (YUG)</td>\n",
       "      <td>208.0</td>\n",
       "      <td>1185.0</td>\n",
       "      <td>URU</td>\n",
       "      <td>BOL</td>\n",
       "      <td>8-0</td>\n",
       "      <td>8</td>\n",
       "      <td>Uruguay vs Bolivia</td>\n",
       "      <td>8</td>\n",
       "    </tr>\n",
       "    <tr>\n",
       "      <th>46</th>\n",
       "      <td>1938.0</td>\n",
       "      <td>12 Jun 1938 - 17:00</td>\n",
       "      <td>Quarter-finals</td>\n",
       "      <td>Fort Carree</td>\n",
       "      <td>Antibes</td>\n",
       "      <td>Sweden</td>\n",
       "      <td>8</td>\n",
       "      <td>0</td>\n",
       "      <td>Cuba</td>\n",
       "      <td></td>\n",
       "      <td>...</td>\n",
       "      <td>WEINGARTNER Karl (AUT)</td>\n",
       "      <td>SDEZ Victor (FRA)</td>\n",
       "      <td>429.0</td>\n",
       "      <td>1158.0</td>\n",
       "      <td>SWE</td>\n",
       "      <td>CUB</td>\n",
       "      <td>8-0</td>\n",
       "      <td>8</td>\n",
       "      <td>Sweden vs Cuba</td>\n",
       "      <td>8</td>\n",
       "    </tr>\n",
       "    <tr>\n",
       "      <th>583</th>\n",
       "      <td>2002.0</td>\n",
       "      <td>01 Jun 2002 - 20:30</td>\n",
       "      <td>Group E</td>\n",
       "      <td>Sapporo Dome</td>\n",
       "      <td>Sapporo</td>\n",
       "      <td>Germany</td>\n",
       "      <td>8</td>\n",
       "      <td>0</td>\n",
       "      <td>Saudi Arabia</td>\n",
       "      <td></td>\n",
       "      <td>...</td>\n",
       "      <td>GIACOMUZZI Miguel (PAR)</td>\n",
       "      <td>RAGOONATH Michael (TRI)</td>\n",
       "      <td>43950100.0</td>\n",
       "      <td>43950004.0</td>\n",
       "      <td>GER</td>\n",
       "      <td>KSA</td>\n",
       "      <td>8-0</td>\n",
       "      <td>8</td>\n",
       "      <td>Germany vs Saudi Arabia</td>\n",
       "      <td>8</td>\n",
       "    </tr>\n",
       "    <tr>\n",
       "      <th>88</th>\n",
       "      <td>1954.0</td>\n",
       "      <td>20 Jun 1954 - 17:00</td>\n",
       "      <td>Group 2</td>\n",
       "      <td>Charmilles</td>\n",
       "      <td>Geneva</td>\n",
       "      <td>Turkey</td>\n",
       "      <td>7</td>\n",
       "      <td>0</td>\n",
       "      <td>Korea Republic</td>\n",
       "      <td></td>\n",
       "      <td>...</td>\n",
       "      <td>ORLANDINI Vincenzo (ITA)</td>\n",
       "      <td>SCHONHOLZER Ernest (SUI)</td>\n",
       "      <td>211.0</td>\n",
       "      <td>1304.0</td>\n",
       "      <td>TUR</td>\n",
       "      <td>KOR</td>\n",
       "      <td>7-0</td>\n",
       "      <td>7</td>\n",
       "      <td>Turkey vs Korea Republic</td>\n",
       "      <td>7</td>\n",
       "    </tr>\n",
       "    <tr>\n",
       "      <th>737</th>\n",
       "      <td>2010.0</td>\n",
       "      <td>21 Jun 2010 - 13:30</td>\n",
       "      <td>Group G</td>\n",
       "      <td>Cape Town Stadium</td>\n",
       "      <td>Cape Town</td>\n",
       "      <td>Portugal</td>\n",
       "      <td>7</td>\n",
       "      <td>0</td>\n",
       "      <td>Korea DPR</td>\n",
       "      <td></td>\n",
       "      <td>...</td>\n",
       "      <td>BASUALTO Patricio (CHI)</td>\n",
       "      <td>MONDRIA Francisco (CHI)</td>\n",
       "      <td>249722.0</td>\n",
       "      <td>300061487.0</td>\n",
       "      <td>POR</td>\n",
       "      <td>PRK</td>\n",
       "      <td>7-0</td>\n",
       "      <td>7</td>\n",
       "      <td>Portugal vs Korea DPR</td>\n",
       "      <td>7</td>\n",
       "    </tr>\n",
       "    <tr>\n",
       "      <th>246</th>\n",
       "      <td>1974.0</td>\n",
       "      <td>19 Jun 1974 - 19:30</td>\n",
       "      <td>Group 4</td>\n",
       "      <td>Olympiastadion</td>\n",
       "      <td>Munich</td>\n",
       "      <td>Haiti</td>\n",
       "      <td>0</td>\n",
       "      <td>7</td>\n",
       "      <td>Poland</td>\n",
       "      <td></td>\n",
       "      <td>...</td>\n",
       "      <td>BIWERSI Ferdinand (GER)</td>\n",
       "      <td>ESCHWEILER Walter (GER)</td>\n",
       "      <td>262.0</td>\n",
       "      <td>2085.0</td>\n",
       "      <td>HAI</td>\n",
       "      <td>POL</td>\n",
       "      <td>0-7</td>\n",
       "      <td>7</td>\n",
       "      <td>Haiti vs Poland</td>\n",
       "      <td>7</td>\n",
       "    </tr>\n",
       "    <tr>\n",
       "      <th>83</th>\n",
       "      <td>1954.0</td>\n",
       "      <td>19 Jun 1954 - 16:50</td>\n",
       "      <td>Group 3</td>\n",
       "      <td>St. Jakob</td>\n",
       "      <td>Basel</td>\n",
       "      <td>Uruguay</td>\n",
       "      <td>7</td>\n",
       "      <td>0</td>\n",
       "      <td>Scotland</td>\n",
       "      <td></td>\n",
       "      <td>...</td>\n",
       "      <td>WYSSLING Paul (SUI)</td>\n",
       "      <td>GUIDI Denilo (SUI)</td>\n",
       "      <td>211.0</td>\n",
       "      <td>1313.0</td>\n",
       "      <td>URU</td>\n",
       "      <td>SCO</td>\n",
       "      <td>7-0</td>\n",
       "      <td>7</td>\n",
       "      <td>Uruguay vs Scotland</td>\n",
       "      <td>7</td>\n",
       "    </tr>\n",
       "  </tbody>\n",
       "</table>\n",
       "<p>10 rows × 24 columns</p>\n",
       "</div>"
      ],
      "text/plain": [
       "       Year              Datetime           Stage            Stadium  \\\n",
       "80   1954.0  17 Jun 1954 - 18:00          Group 2           Hardturm   \n",
       "243  1974.0  18 Jun 1974 - 19:30          Group 2        Parkstadion   \n",
       "312  1982.0  15 Jun 1982 - 21:00          Group 3      Nuevo Estadio   \n",
       "66   1950.0  02 Jul 1950 - 15:00          Group 4      Independencia   \n",
       "46   1938.0  12 Jun 1938 - 17:00   Quarter-finals        Fort Carree   \n",
       "583  2002.0  01 Jun 2002 - 20:30          Group E       Sapporo Dome   \n",
       "88   1954.0  20 Jun 1954 - 17:00          Group 2         Charmilles   \n",
       "737  2010.0  21 Jun 2010 - 13:30          Group G  Cape Town Stadium   \n",
       "246  1974.0  19 Jun 1974 - 19:30          Group 4     Olympiastadion   \n",
       "83   1954.0  19 Jun 1954 - 16:50          Group 3          St. Jakob   \n",
       "\n",
       "                City Home Team Name  Home Team Goals  Away Team Goals  \\\n",
       "80           Zurich         Hungary                9                0   \n",
       "243   Gelsenkirchen      Yugoslavia                9                0   \n",
       "312           Elche         Hungary               10                1   \n",
       "66   Belo Horizonte         Uruguay                8                0   \n",
       "46          Antibes          Sweden                8                0   \n",
       "583         Sapporo         Germany                8                0   \n",
       "88           Geneva          Turkey                7                0   \n",
       "737       Cape Town        Portugal                7                0   \n",
       "246          Munich           Haiti                0                7   \n",
       "83            Basel         Uruguay                7                0   \n",
       "\n",
       "     Away Team Name Win conditions  ...               Assistant 1  \\\n",
       "80   Korea Republic                 ...   VON GUNTER Albert (SUI)   \n",
       "243           Zaire                 ...   LLOBREGAT Vicente (VEN)   \n",
       "312     El Salvador                 ...      CORVER Charles (NED)   \n",
       "66          Bolivia                 ...         VIANA Mario (BRA)   \n",
       "46             Cuba                 ...    WEINGARTNER Karl (AUT)   \n",
       "583    Saudi Arabia                 ...   GIACOMUZZI Miguel (PAR)   \n",
       "88   Korea Republic                 ...  ORLANDINI Vincenzo (ITA)   \n",
       "737       Korea DPR                 ...   BASUALTO Patricio (CHI)   \n",
       "246          Poland                 ...   BIWERSI Ferdinand (GER)   \n",
       "83         Scotland                 ...       WYSSLING Paul (SUI)   \n",
       "\n",
       "                     Assistant 2     RoundID      MatchID Home Team Initials  \\\n",
       "80            STEINER Carl (AUT)       211.0       1294.0                HUN   \n",
       "243     BARRETO RUIZ Ramon (URU)       262.0       2186.0                YUG   \n",
       "312  LUND-SORENSEN Henning (DEN)       293.0        896.0                HUN   \n",
       "66             LEMESIC Leo (YUG)       208.0       1185.0                URU   \n",
       "46             SDEZ Victor (FRA)       429.0       1158.0                SWE   \n",
       "583      RAGOONATH Michael (TRI)  43950100.0   43950004.0                GER   \n",
       "88      SCHONHOLZER Ernest (SUI)       211.0       1304.0                TUR   \n",
       "737      MONDRIA Francisco (CHI)    249722.0  300061487.0                POR   \n",
       "246      ESCHWEILER Walter (GER)       262.0       2085.0                HAI   \n",
       "83            GUIDI Denilo (SUI)       211.0       1313.0                URU   \n",
       "\n",
       "    Away Team Initials  result  total_goals                         vs  \\\n",
       "80                 KOR     9-0            9  Hungary vs Korea Republic   \n",
       "243                ZAI     9-0            9        Yugoslavia vs Zaire   \n",
       "312                SLV    10-1           11     Hungary vs El Salvador   \n",
       "66                 BOL     8-0            8         Uruguay vs Bolivia   \n",
       "46                 CUB     8-0            8             Sweden vs Cuba   \n",
       "583                KSA     8-0            8    Germany vs Saudi Arabia   \n",
       "88                 KOR     7-0            7   Turkey vs Korea Republic   \n",
       "737                PRK     7-0            7      Portugal vs Korea DPR   \n",
       "246                POL     0-7            7            Haiti vs Poland   \n",
       "83                 SCO     7-0            7        Uruguay vs Scotland   \n",
       "\n",
       "    difference_goals  \n",
       "80                 9  \n",
       "243                9  \n",
       "312                9  \n",
       "66                 8  \n",
       "46                 8  \n",
       "583                8  \n",
       "88                 7  \n",
       "737                7  \n",
       "246                7  \n",
       "83                 7  \n",
       "\n",
       "[10 rows x 24 columns]"
      ]
     },
     "execution_count": 51,
     "metadata": {},
     "output_type": "execute_result"
    }
   ],
   "source": [
    "matches['difference_goals'] = pd.Series.abs(matches['Home Team Goals'] - matches['Away Team Goals']) #calculate the absolute difference with abs\n",
    "top5_difference=matches.sort_values(by='difference_goals',ascending=False)[:10]\n",
    "top5_difference"
   ]
  },
  {
   "cell_type": "code",
   "execution_count": 52,
   "metadata": {
    "execution": {
     "iopub.execute_input": "2022-09-22T09:41:54.870542Z",
     "iopub.status.busy": "2022-09-22T09:41:54.869846Z",
     "iopub.status.idle": "2022-09-22T09:41:54.876604Z",
     "shell.execute_reply": "2022-09-22T09:41:54.875659Z",
     "shell.execute_reply.started": "2022-09-22T09:41:54.870517Z"
    }
   },
   "outputs": [
    {
     "data": {
      "text/plain": [
       "80      9-0\n",
       "243     9-0\n",
       "312    10-1\n",
       "66      8-0\n",
       "46      8-0\n",
       "583     8-0\n",
       "88      7-0\n",
       "737     7-0\n",
       "246     0-7\n",
       "83      7-0\n",
       "Name: result, dtype: object"
      ]
     },
     "execution_count": 52,
     "metadata": {},
     "output_type": "execute_result"
    }
   ],
   "source": [
    "top5_difference['result']"
   ]
  },
  {
   "cell_type": "code",
   "execution_count": 55,
   "metadata": {
    "execution": {
     "iopub.execute_input": "2022-09-22T09:41:54.877988Z",
     "iopub.status.busy": "2022-09-22T09:41:54.877687Z",
     "iopub.status.idle": "2022-09-22T09:41:55.078119Z",
     "shell.execute_reply": "2022-09-22T09:41:55.077531Z",
     "shell.execute_reply.started": "2022-09-22T09:41:54.877958Z"
    }
   },
   "outputs": [
    {
     "ename": "TypeError",
     "evalue": "savefig() takes 2 positional arguments but 3 were given",
     "output_type": "error",
     "traceback": [
      "\u001b[1;31m---------------------------------------------------------------------------\u001b[0m",
      "\u001b[1;31mTypeError\u001b[0m                                 Traceback (most recent call last)",
      "\u001b[1;32m<ipython-input-55-6de238d59f33>\u001b[0m in \u001b[0;36m<module>\u001b[1;34m\u001b[0m\n\u001b[0;32m     23\u001b[0m     \u001b[0max\u001b[0m\u001b[1;33m.\u001b[0m\u001b[0mtext\u001b[0m\u001b[1;33m(\u001b[0m\u001b[1;36m1\u001b[0m\u001b[1;33m,\u001b[0m \u001b[0mi\u001b[0m \u001b[1;33m,\u001b[0m\u001b[0ms\u001b[0m\u001b[1;33m,\u001b[0m\u001b[0mfontsize\u001b[0m \u001b[1;33m=\u001b[0m \u001b[1;36m12\u001b[0m\u001b[1;33m,\u001b[0m \u001b[0mcolor\u001b[0m \u001b[1;33m=\u001b[0m \u001b[1;34m'white'\u001b[0m\u001b[1;33m)\u001b[0m\u001b[1;33m\u001b[0m\u001b[1;33m\u001b[0m\u001b[0m\n\u001b[0;32m     24\u001b[0m \u001b[1;33m\u001b[0m\u001b[0m\n\u001b[1;32m---> 25\u001b[1;33m \u001b[0mplt\u001b[0m\u001b[1;33m.\u001b[0m\u001b[0msavefig\u001b[0m\u001b[1;33m(\u001b[0m\u001b[1;34m'条形图-分差'\u001b[0m\u001b[1;33m,\u001b[0m\u001b[1;34m'*.jpg'\u001b[0m\u001b[1;33m)\u001b[0m\u001b[1;33m\u001b[0m\u001b[1;33m\u001b[0m\u001b[0m\n\u001b[0m\u001b[0;32m     26\u001b[0m \u001b[0mplt\u001b[0m\u001b[1;33m.\u001b[0m\u001b[0mshow\u001b[0m\u001b[1;33m(\u001b[0m\u001b[1;33m)\u001b[0m\u001b[1;33m\u001b[0m\u001b[1;33m\u001b[0m\u001b[0m\n",
      "\u001b[1;32mD:\\Anaconda\\lib\\site-packages\\matplotlib\\pyplot.py\u001b[0m in \u001b[0;36msavefig\u001b[1;34m(*args, **kwargs)\u001b[0m\n\u001b[0;32m    857\u001b[0m \u001b[1;32mdef\u001b[0m \u001b[0msavefig\u001b[0m\u001b[1;33m(\u001b[0m\u001b[1;33m*\u001b[0m\u001b[0margs\u001b[0m\u001b[1;33m,\u001b[0m \u001b[1;33m**\u001b[0m\u001b[0mkwargs\u001b[0m\u001b[1;33m)\u001b[0m\u001b[1;33m:\u001b[0m\u001b[1;33m\u001b[0m\u001b[1;33m\u001b[0m\u001b[0m\n\u001b[0;32m    858\u001b[0m     \u001b[0mfig\u001b[0m \u001b[1;33m=\u001b[0m \u001b[0mgcf\u001b[0m\u001b[1;33m(\u001b[0m\u001b[1;33m)\u001b[0m\u001b[1;33m\u001b[0m\u001b[1;33m\u001b[0m\u001b[0m\n\u001b[1;32m--> 859\u001b[1;33m     \u001b[0mres\u001b[0m \u001b[1;33m=\u001b[0m \u001b[0mfig\u001b[0m\u001b[1;33m.\u001b[0m\u001b[0msavefig\u001b[0m\u001b[1;33m(\u001b[0m\u001b[1;33m*\u001b[0m\u001b[0margs\u001b[0m\u001b[1;33m,\u001b[0m \u001b[1;33m**\u001b[0m\u001b[0mkwargs\u001b[0m\u001b[1;33m)\u001b[0m\u001b[1;33m\u001b[0m\u001b[1;33m\u001b[0m\u001b[0m\n\u001b[0m\u001b[0;32m    860\u001b[0m     \u001b[0mfig\u001b[0m\u001b[1;33m.\u001b[0m\u001b[0mcanvas\u001b[0m\u001b[1;33m.\u001b[0m\u001b[0mdraw_idle\u001b[0m\u001b[1;33m(\u001b[0m\u001b[1;33m)\u001b[0m   \u001b[1;31m# need this if 'transparent=True' to reset colors\u001b[0m\u001b[1;33m\u001b[0m\u001b[1;33m\u001b[0m\u001b[0m\n\u001b[0;32m    861\u001b[0m     \u001b[1;32mreturn\u001b[0m \u001b[0mres\u001b[0m\u001b[1;33m\u001b[0m\u001b[1;33m\u001b[0m\u001b[0m\n",
      "\u001b[1;31mTypeError\u001b[0m: savefig() takes 2 positional arguments but 3 were given"
     ]
    },
    {
     "data": {
      "image/png": "[encoded data removed]",
      "text/plain": [
       "<Figure size 864x648 with 1 Axes>"
      ]
     },
     "metadata": {
      "needs_background": "light"
     },
     "output_type": "display_data"
    }
   ],
   "source": [
    "\n",
    "top5_difference['difference_goals']=top5_difference['difference_goals'].astype(int)\n",
    "\n",
    "\n",
    "top5_difference['difference_goals_str']= top5_difference['difference_goals'].astype(str)+ \" goals difference\"\n",
    "\n",
    "\n",
    "\n",
    "\n",
    "top5_difference['result'] = top5_difference['Home Team Goals'].astype(str)+\"-\"+top5_difference['Away Team Goals'].astype(str)\n",
    "\n",
    "plt.rc(\"font\", family='Microsoft YaHei')\n",
    "plt.figure(figsize = (12,9))\n",
    "ax = sns.barplot(y = top5_difference['vs'], x = top5_difference['difference_goals'])\n",
    "sns.despine(right = True)\n",
    "plt.ylabel('比赛双方',fontsize=16)\n",
    "plt.xlabel('分差',fontsize=16)\n",
    "plt.yticks(size=12)\n",
    "plt.xticks(size=12)\n",
    "plt.title('最大分差的前10场比赛',fontsize=16)\n",
    " \n",
    "\n",
    "for i, s in enumerate(\"日期: \" + top5_difference['Datetime']+\"  比赛结果: \"+top5_difference['result'] ):\n",
    "    ax.text(1, i ,s,fontsize = 12, color = 'white')\n",
    "\n",
    "plt.savefig('条形图-分差','*.jpg')\n",
    "plt.show()\n"
   ]
  },
  {
   "cell_type": "markdown",
   "metadata": {},
   "source": [
    "## **Highest Scoring countries**"
   ]
  },
  {
   "cell_type": "code",
   "execution_count": null,
   "metadata": {
    "execution": {
     "iopub.execute_input": "2022-09-22T09:41:55.079470Z",
     "iopub.status.busy": "2022-09-22T09:41:55.079092Z",
     "iopub.status.idle": "2022-09-22T09:41:55.085879Z",
     "shell.execute_reply": "2022-09-22T09:41:55.084996Z",
     "shell.execute_reply.started": "2022-09-22T09:41:55.079446Z"
    }
   },
   "outputs": [],
   "source": [
    "matches = matches.replace(['Germany FR'],'Germany') #The same as the first DF"
   ]
  },
  {
   "cell_type": "code",
   "execution_count": 17,
   "metadata": {
    "execution": {
     "iopub.execute_input": "2022-09-22T09:41:55.087918Z",
     "iopub.status.busy": "2022-09-22T09:41:55.087493Z",
     "iopub.status.idle": "2022-09-22T09:41:55.097511Z",
     "shell.execute_reply": "2022-09-22T09:41:55.096671Z",
     "shell.execute_reply.started": "2022-09-22T09:41:55.087878Z"
    }
   },
   "outputs": [
    {
     "ename": "NameError",
     "evalue": "name 'matches' is not defined",
     "output_type": "error",
     "traceback": [
      "\u001b[1;31m---------------------------------------------------------------------------\u001b[0m",
      "\u001b[1;31mNameError\u001b[0m                                 Traceback (most recent call last)",
      "\u001b[1;32m<ipython-input-17-d7aa7906fcde>\u001b[0m in \u001b[0;36m<module>\u001b[1;34m\u001b[0m\n\u001b[1;32m----> 1\u001b[1;33m \u001b[0mlist_countries\u001b[0m \u001b[1;33m=\u001b[0m\u001b[0mmatches\u001b[0m\u001b[1;33m[\u001b[0m\u001b[1;34m'Home Team Name'\u001b[0m\u001b[1;33m]\u001b[0m\u001b[1;33m.\u001b[0m\u001b[0munique\u001b[0m\u001b[1;33m(\u001b[0m\u001b[1;33m)\u001b[0m\u001b[1;33m.\u001b[0m\u001b[0mtolist\u001b[0m\u001b[1;33m(\u001b[0m\u001b[1;33m)\u001b[0m\u001b[1;33m\u001b[0m\u001b[1;33m\u001b[0m\u001b[0m\n\u001b[0m",
      "\u001b[1;31mNameError\u001b[0m: name 'matches' is not defined"
     ]
    }
   ],
   "source": [
    "list_countries =matches['Home Team Name'].unique().tolist()\n"
   ]
  },
  {
   "cell_type": "code",
   "execution_count": null,
   "metadata": {
    "execution": {
     "iopub.execute_input": "2022-09-22T09:41:55.098768Z",
     "iopub.status.busy": "2022-09-22T09:41:55.098526Z",
     "iopub.status.idle": "2022-09-22T09:41:55.162373Z",
     "shell.execute_reply": "2022-09-22T09:41:55.161511Z",
     "shell.execute_reply.started": "2022-09-22T09:41:55.098744Z"
    }
   },
   "outputs": [],
   "source": [
    "lista_home=[]\n",
    "lista_away=[]\n",
    "for i in list_countries:\n",
    "\n",
    "    goals_home = matches.loc[matches['Home Team Name'] == i, 'Home Team Goals'].sum()\n",
    "    lista_home.append(goals_home)\n",
    "    goals_away = matches.loc[matches['Away Team Name']== i, 'Away Team Goals'].sum()\n",
    "    lista_away.append(goals_away)"
   ]
  },
  {
   "cell_type": "code",
   "execution_count": null,
   "metadata": {
    "execution": {
     "iopub.execute_input": "2022-09-22T09:41:55.163617Z",
     "iopub.status.busy": "2022-09-22T09:41:55.163354Z",
     "iopub.status.idle": "2022-09-22T09:41:55.176202Z",
     "shell.execute_reply": "2022-09-22T09:41:55.175564Z",
     "shell.execute_reply.started": "2022-09-22T09:41:55.163593Z"
    }
   },
   "outputs": [],
   "source": [
    "df = pd.DataFrame({'country': list_countries,'total_home_goals':lista_home,'total_away_goals':lista_away})\n",
    "df['total_goals'] =df['total_home_goals']+df['total_away_goals']\n",
    "most_goals=df.sort_values(by='total_goals',ascending=False)[:10]\n",
    "most_goals"
   ]
  },
  {
   "cell_type": "code",
   "execution_count": null,
   "metadata": {
    "execution": {
     "iopub.execute_input": "2022-09-22T09:41:55.177628Z",
     "iopub.status.busy": "2022-09-22T09:41:55.177337Z",
     "iopub.status.idle": "2022-09-22T09:41:55.544247Z",
     "shell.execute_reply": "2022-09-22T09:41:55.543274Z",
     "shell.execute_reply.started": "2022-09-22T09:41:55.177595Z"
    }
   },
   "outputs": [],
   "source": [
    "\n",
    "fig, ax= plt.subplots(figsize=(16,8))\n",
    "\n",
    "plt.title('Highest scoring countries in World Cup',size=16,weight='bold')\n",
    "most_goals.plot(x=\"country\", y=[\"total_home_goals\", \"total_away_goals\", \"total_goals\"], kind=\"bar\",ax=ax)\n",
    "\n",
    "ax.spines[['right', 'top', 'left']].set_visible(False)\n",
    "ax.set_ylabel(None)\n",
    "ax.set_xlabel(None)\n",
    "ax.tick_params(labelleft=False, left=False,labelsize=14)\n",
    "ax.legend(fontsize=20)\n",
    "\n",
    "for i in ax.containers:\n",
    "    ax.bar_label(i,fontsize=15)\n",
    "\n",
    "fig.show();"
   ]
  },
  {
   "cell_type": "markdown",
   "metadata": {},
   "source": [
    "### **Goals being the home team, away team and the total of all them. As you can see Germany, Brazil and Argentina are in the podium**"
   ]
  },
  {
   "cell_type": "markdown",
   "metadata": {},
   "source": [
    "## **Total Goal Conceded of finalist teams**"
   ]
  },
  {
   "cell_type": "code",
   "execution_count": 18,
   "metadata": {
    "execution": {
     "iopub.execute_input": "2022-09-22T09:41:55.545546Z",
     "iopub.status.busy": "2022-09-22T09:41:55.545305Z",
     "iopub.status.idle": "2022-09-22T09:41:55.553218Z",
     "shell.execute_reply": "2022-09-22T09:41:55.552308Z",
     "shell.execute_reply.started": "2022-09-22T09:41:55.545522Z"
    }
   },
   "outputs": [
    {
     "ename": "NameError",
     "evalue": "name 'matches' is not defined",
     "output_type": "error",
     "traceback": [
      "\u001b[1;31m---------------------------------------------------------------------------\u001b[0m",
      "\u001b[1;31mNameError\u001b[0m                                 Traceback (most recent call last)",
      "\u001b[1;32m<ipython-input-18-605d2ae6d325>\u001b[0m in \u001b[0;36m<module>\u001b[1;34m\u001b[0m\n\u001b[1;32m----> 1\u001b[1;33m \u001b[0mmatches\u001b[0m\u001b[1;33m[\u001b[0m\u001b[1;34m'Home Team Name'\u001b[0m\u001b[1;33m]\u001b[0m\u001b[1;33m.\u001b[0m\u001b[0mvalue_counts\u001b[0m\u001b[1;33m(\u001b[0m\u001b[1;33m)\u001b[0m\u001b[1;33m\u001b[0m\u001b[1;33m\u001b[0m\u001b[0m\n\u001b[0m",
      "\u001b[1;31mNameError\u001b[0m: name 'matches' is not defined"
     ]
    }
   ],
   "source": [
    "matches['Home Team Name'].value_counts()"
   ]
  },
  {
   "cell_type": "code",
   "execution_count": null,
   "metadata": {
    "execution": {
     "iopub.execute_input": "2022-09-22T09:41:55.554885Z",
     "iopub.status.busy": "2022-09-22T09:41:55.554562Z",
     "iopub.status.idle": "2022-09-22T09:41:55.578288Z",
     "shell.execute_reply": "2022-09-22T09:41:55.577509Z",
     "shell.execute_reply.started": "2022-09-22T09:41:55.554853Z"
    }
   },
   "outputs": [],
   "source": [
    "finalist"
   ]
  },
  {
   "cell_type": "code",
   "execution_count": 19,
   "metadata": {
    "execution": {
     "iopub.execute_input": "2022-09-22T09:41:55.599700Z",
     "iopub.status.busy": "2022-09-22T09:41:55.599153Z",
     "iopub.status.idle": "2022-09-22T09:41:55.624968Z",
     "shell.execute_reply": "2022-09-22T09:41:55.624133Z",
     "shell.execute_reply.started": "2022-09-22T09:41:55.599619Z"
    }
   },
   "outputs": [
    {
     "ename": "NameError",
     "evalue": "name 'finalist' is not defined",
     "output_type": "error",
     "traceback": [
      "\u001b[1;31m---------------------------------------------------------------------------\u001b[0m",
      "\u001b[1;31mNameError\u001b[0m                                 Traceback (most recent call last)",
      "\u001b[1;32m<ipython-input-19-f91531872400>\u001b[0m in \u001b[0;36m<module>\u001b[1;34m\u001b[0m\n\u001b[0;32m      1\u001b[0m \u001b[1;31m#Looking just the countries that have reached finals, that seem to be countries that have played more times worldcups\u001b[0m\u001b[1;33m\u001b[0m\u001b[1;33m\u001b[0m\u001b[1;33m\u001b[0m\u001b[0m\n\u001b[1;32m----> 2\u001b[1;33m \u001b[0mfinalista\u001b[0m \u001b[1;33m=\u001b[0m\u001b[0mfinalist\u001b[0m\u001b[1;33m[\u001b[0m\u001b[1;34m'index'\u001b[0m\u001b[1;33m]\u001b[0m\u001b[1;33m.\u001b[0m\u001b[0mtolist\u001b[0m\u001b[1;33m(\u001b[0m\u001b[1;33m)\u001b[0m\u001b[1;33m\u001b[0m\u001b[1;33m\u001b[0m\u001b[0m\n\u001b[0m\u001b[0;32m      3\u001b[0m \u001b[1;33m\u001b[0m\u001b[0m\n\u001b[0;32m      4\u001b[0m \u001b[0mgoalsconceded_home\u001b[0m\u001b[1;33m=\u001b[0m\u001b[1;33m[\u001b[0m\u001b[1;33m]\u001b[0m\u001b[1;33m\u001b[0m\u001b[1;33m\u001b[0m\u001b[0m\n\u001b[0;32m      5\u001b[0m \u001b[0mgoalsconceded_away\u001b[0m\u001b[1;33m=\u001b[0m\u001b[1;33m[\u001b[0m\u001b[1;33m]\u001b[0m\u001b[1;33m\u001b[0m\u001b[1;33m\u001b[0m\u001b[0m\n",
      "\u001b[1;31mNameError\u001b[0m: name 'finalist' is not defined"
     ]
    }
   ],
   "source": [
    "#Looking just the countries that have reached finals, that seem to be countries that have played more times worldcups\n",
    "finalista =finalist['index'].tolist()\n",
    "\n",
    "goalsconceded_home=[]\n",
    "goalsconceded_away=[]\n",
    "match1=[]\n",
    "match2=[]\n",
    "for i in finalista:\n",
    "\n",
    "    goalsconc_home = matches.loc[matches['Home Team Name'] == i, 'Away Team Goals'].sum()\n",
    "    goalsconceded_home.append(goalsconc_home)\n",
    "    goalsconc_away = matches.loc[matches['Away Team Name']== i, 'Home Team Goals'].sum()\n",
    "    goalsconceded_away.append(goalsconc_away)\n",
    "    counted1 =(matches['Home Team Name']== i).sum() \n",
    "    counted2 =(matches['Away Team Name']== i).sum()\n",
    "    \n",
    "    match1.append(int(counted1))\n",
    "    match2.append(int(counted2))"
   ]
  },
  {
   "cell_type": "code",
   "execution_count": null,
   "metadata": {
    "execution": {
     "iopub.execute_input": "2022-09-22T09:41:55.627928Z",
     "iopub.status.busy": "2022-09-22T09:41:55.627113Z",
     "iopub.status.idle": "2022-09-22T09:41:55.645194Z",
     "shell.execute_reply": "2022-09-22T09:41:55.644250Z",
     "shell.execute_reply.started": "2022-09-22T09:41:55.627900Z"
    }
   },
   "outputs": [],
   "source": [
    "#team with fewest goals conceded\n",
    "\n",
    "df = pd.DataFrame({'country': finalista,'goalsconceded_home':goalsconceded_home,'goalsconceded_away':goalsconceded_away,\n",
    "                   'matches_home':match1,'matches_away':match2})\n",
    "df['total_matches'] = df['matches_home']+ df['matches_away']\n",
    "df['total_goalsconceded'] =df['goalsconceded_home']+df['goalsconceded_away']\n",
    "df['goalmatch_rate'] = (df['total_goalsconceded'] / df['total_matches']).round(2)\n",
    "goals_conceded=df.sort_values(by='goalmatch_rate')[:10]\n",
    "goals_conceded"
   ]
  },
  {
   "cell_type": "code",
   "execution_count": null,
   "metadata": {
    "execution": {
     "iopub.execute_input": "2022-09-22T10:33:35.750783Z",
     "iopub.status.busy": "2022-09-22T10:33:35.750469Z",
     "iopub.status.idle": "2022-09-22T10:33:36.148412Z",
     "shell.execute_reply": "2022-09-22T10:33:36.147441Z",
     "shell.execute_reply.started": "2022-09-22T10:33:35.750758Z"
    }
   },
   "outputs": [],
   "source": [
    "fig, ax= plt.subplots(nrows=1,ncols=2,figsize=(20,8))\n",
    "\n",
    "plt.title('Relationship between goals conceded and matches played in World Cup',size=16,weight='bold')\n",
    "goals_conceded.plot(x=\"country\", y=\"total_goalsconceded\", kind=\"bar\",ax=ax[0])\n",
    "\n",
    "ax[0].set_title('Total goals conceded by country',size=20,weight='bold')\n",
    "ax[0].spines[['right', 'top', 'left']].set_visible(False)\n",
    "ax[0].set_ylabel(None)\n",
    "ax[0].set_xlabel(None)\n",
    "ax[0].tick_params(labelleft=False, left=False,labelsize=14)\n",
    "\n",
    "for i in ax[0].containers:\n",
    "    ax[0].bar_label(i,fontsize=15)\n",
    "\n",
    "goals_conceded.plot(x=\"country\", y=\"goalmatch_rate\", kind=\"bar\",ax=ax[1])\n",
    "\n",
    "ax[1].set_title('Total goals conceded by country',size=20,weight='bold')\n",
    "ax[1].spines[['right', 'top', 'left']].set_visible(False)\n",
    "ax[1].set_ylabel(None)\n",
    "ax[1].set_xlabel(None)\n",
    "ax[1].tick_params(labelleft=False, left=False,labelsize=14)\n",
    "\n",
    "for i in ax[1].containers:\n",
    "    ax[1].bar_label(i,fontsize=15)\n",
    "    \n",
    "    \n",
    "\n",
    "fig.show();"
   ]
  },
  {
   "cell_type": "markdown",
   "metadata": {},
   "source": [
    "### **Looking at the total of goal conceded by country we can see that the country that received more goals is Germany but when we realize that Germany has played much matches, the country that received more goals is Uruguay. And England is the country wich received less goals.**"
   ]
  },
  {
   "cell_type": "code",
   "execution_count": null,
   "metadata": {},
   "outputs": [],
   "source": []
  },
  {
   "cell_type": "code",
   "execution_count": null,
   "metadata": {},
   "outputs": [],
   "source": []
  },
  {
   "cell_type": "code",
   "execution_count": null,
   "metadata": {},
   "outputs": [],
   "source": []
  },
  {
   "cell_type": "code",
   "execution_count": null,
   "metadata": {},
   "outputs": [],
   "source": []
  },
  {
   "cell_type": "code",
   "execution_count": null,
   "metadata": {},
   "outputs": [],
   "source": []
  },
  {
   "cell_type": "code",
   "execution_count": null,
   "metadata": {},
   "outputs": [],
   "source": []
  }
 ],
 "metadata": {
  "kernelspec": {
   "display_name": "Python 3",
   "language": "python",
   "name": "python3"
  },
  "language_info": {
   "codemirror_mode": {
    "name": "ipython",
    "version": 3
   },
   "file_extension": ".py",
   "mimetype": "text/x-python",
   "name": "python",
   "nbconvert_exporter": "python",
   "pygments_lexer": "ipython3",
   "version": "3.8.8"
  },
  "toc": {
   "base_numbering": 1,
   "nav_menu": {},
   "number_sections": true,
   "sideBar": true,
   "skip_h1_title": false,
   "title_cell": "Table of Contents",
   "title_sidebar": "Contents",
   "toc_cell": false,
   "toc_position": {},
   "toc_section_display": true,
   "toc_window_display": false
  }
 },
 "nbformat": 4,
 "nbformat_minor": 4
}
